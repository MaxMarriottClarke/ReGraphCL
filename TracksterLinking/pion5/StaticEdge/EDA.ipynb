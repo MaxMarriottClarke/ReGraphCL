{
 "cells": [
  {
   "cell_type": "code",
   "execution_count": 1,
   "id": "b3c3a9c7",
   "metadata": {},
   "outputs": [
    {
     "name": "stdout",
     "output_type": "stream",
     "text": [
      "      lr  batch_size  hidden_dim  num_layers  dropout  k_value  \\\n",
      "0  0.001          32          32           2      0.2        4   \n",
      "1  0.001          32          32           4      0.2        4   \n",
      "2  0.001          32          32           2      0.2        4   \n",
      "3  0.001          32          32           3      0.2        4   \n",
      "4  0.001          32          32           2      0.2       12   \n",
      "\n",
      "   contrastive_dim  best_val_loss    purity  efficiency  \n",
      "0                8       0.000011  0.827689    0.728791  \n",
      "1                8       0.000005  0.917307    0.892214  \n",
      "2              128       0.000009  0.877855    0.824230  \n",
      "3                8       0.000005  0.913948    0.879721  \n",
      "4                8       0.000009  0.883849    0.792998  \n"
     ]
    }
   ],
   "source": [
    "import pandas as pd\n",
    "\n",
    "# Defne the file path\n",
    "file_path = '/vols/cms/mm1221/hgcal/TrackPi/StaticEdge/results/init/hyperparameter_search_results.csv'\n",
    "\n",
    "# Load the CSV into a Pandas DataFrame\n",
    "df = pd.read_csv(file_path)\n",
    "\n",
    "# Display the first few rows of the DataFrame\n",
    "print(df.head())\n"
   ]
  },
  {
   "cell_type": "code",
   "execution_count": 2,
   "id": "0aec1c22",
   "metadata": {},
   "outputs": [
    {
     "data": {
      "image/png": "[encoded data removed]",
      "text/plain": [
       "<Figure size 864x576 with 2 Axes>"
      ]
     },
     "metadata": {
      "needs_background": "light"
     },
     "output_type": "display_data"
    }
   ],
   "source": [
    "import seaborn as sns\n",
    "import matplotlib.pyplot as plt\n",
    "\n",
    "# Compute the correlation matrix\n",
    "correlation_matrix = df.corr()\n",
    "\n",
    "# Plot the correlation heatmap\n",
    "plt.figure(figsize=(12, 8))\n",
    "sns.heatmap(correlation_matrix, annot=True, fmt=\".2f\", cmap=\"coolwarm\")\n",
    "plt.title(\"Correlation Heatmap of Parameters\")\n",
    "plt.show()\n"
   ]
  },
  {
   "cell_type": "code",
   "execution_count": 3,
   "id": "7a0c6fde",
   "metadata": {},
   "outputs": [
    {
     "name": "stdout",
     "output_type": "stream",
     "text": [
      "Best Combination for Purity + Efficiency:\n",
      "lr                         0.000500\n",
      "batch_size                32.000000\n",
      "hidden_dim               256.000000\n",
      "num_layers                 5.000000\n",
      "dropout                    0.200000\n",
      "k_value                   12.000000\n",
      "contrastive_dim          128.000000\n",
      "best_val_loss              0.000004\n",
      "purity                     0.948316\n",
      "efficiency                 0.963393\n",
      "purity_efficiency_sum      1.911709\n",
      "Name: 98, dtype: float64\n"
     ]
    }
   ],
   "source": [
    "# Create a combined metric for purity + efficiency\n",
    "df['purity_efficiency_sum'] = df['purity'] + df['efficiency']\n",
    "\n",
    "# Find the row with the highest combined value\n",
    "best_combination = df.loc[df['best_val_loss'].idxmin()]\n",
    "print(\"Best Combination for Purity + Efficiency:\")\n",
    "print(best_combination)\n"
   ]
  },
  {
   "cell_type": "code",
   "execution_count": 3,
   "id": "d9055402",
   "metadata": {},
   "outputs": [
    {
     "name": "stdout",
     "output_type": "stream",
     "text": [
      "Top 5 Combinations for Highest Purity + Efficiency:\n",
      "         lr  batch_size  hidden_dim  num_layers  dropout  k_value  \\\n",
      "63  0.00050          32         128           3      0.2       12   \n",
      "21  0.00100          32         128           3      0.2       12   \n",
      "94  0.00055          32         128           3      0.1       12   \n",
      "64  0.00070          32         128           3      0.2       12   \n",
      "8   0.00100          32          32           4      0.2       12   \n",
      "33  0.00100          64          32           4      0.2       12   \n",
      "88  0.00050          32         128           3      0.1       12   \n",
      "93  0.00055          32         128           3      0.3       12   \n",
      "67  0.00200          32         128           3      0.2       12   \n",
      "86  0.00050          32         128           3      0.1       12   \n",
      "34  0.00100          64          32           2      0.2       12   \n",
      "78  0.00045          32         128           3      0.1       12   \n",
      "10  0.00100          32          32           3      0.2       12   \n",
      "20  0.00100          32         128           4      0.2       12   \n",
      "48  0.00100          64         128           4      0.2       12   \n",
      "66  0.00090          32         128           3      0.2       12   \n",
      "65  0.00010          32         128           3      0.2       12   \n",
      "44  0.00100          64         128           2      0.2       12   \n",
      "71  0.00600          32         128           3      0.2       12   \n",
      "80  0.00045          32         128           3      0.1       12   \n",
      "\n",
      "    contrastive_dim  best_val_loss    purity  efficiency  \\\n",
      "63              128       0.000004  0.953949    0.962667   \n",
      "21              128       0.000004  0.964732    0.949303   \n",
      "94              512       0.000004  0.959596    0.954096   \n",
      "64              128       0.000004  0.957064    0.955840   \n",
      "8                 8       0.000004  0.964952    0.946833   \n",
      "33              128       0.000004  0.967539    0.943202   \n",
      "88              128       0.000004  0.947506    0.960488   \n",
      "93              512       0.000004  0.955843    0.951336   \n",
      "67              128       0.000004  0.964565    0.939715   \n",
      "86              512       0.000004  0.958321    0.945381   \n",
      "34                8       0.000004  0.949270    0.952208   \n",
      "78              128       0.000004  0.960183    0.940006   \n",
      "10              128       0.000004  0.961928    0.937682   \n",
      "20                8       0.000004  0.965235    0.932307   \n",
      "48              128       0.000004  0.960261    0.928820   \n",
      "66              128       0.000005  0.959413    0.923010   \n",
      "65              128       0.000004  0.931694    0.950174   \n",
      "44                8       0.000006  0.944567    0.909500   \n",
      "71              128       0.000005  0.951842    0.894393   \n",
      "80              512       0.000005  0.947131    0.898605   \n",
      "\n",
      "    purity_efficiency_sum  \n",
      "63               1.916616  \n",
      "21               1.914035  \n",
      "94               1.913692  \n",
      "64               1.912904  \n",
      "8                1.911785  \n",
      "33               1.910741  \n",
      "88               1.907994  \n",
      "93               1.907179  \n",
      "67               1.904280  \n",
      "86               1.903701  \n",
      "34               1.901478  \n",
      "78               1.900189  \n",
      "10               1.899610  \n",
      "20               1.897542  \n",
      "48               1.889081  \n",
      "66               1.882423  \n",
      "65               1.881868  \n",
      "44               1.854068  \n",
      "71               1.846235  \n",
      "80               1.845736  \n"
     ]
    }
   ],
   "source": [
    "# Create a combined metric for purity + efficiency\n",
    "df['purity_efficiency_sum'] = df['purity'] + df['efficiency']\n",
    "\n",
    "# Get the top 5 rows with the highest combined purity + efficiency\n",
    "top_5_combinations = df.nlargest(20, 'purity_efficiency_sum')\n",
    "\n",
    "# Display the top 5 combinations\n",
    "print(\"Top 5 Combinations for Highest Purity + Efficiency:\")\n",
    "print(top_5_combinations)\n",
    "\n"
   ]
  },
  {
   "cell_type": "code",
   "execution_count": 5,
   "id": "4f36df7f",
   "metadata": {},
   "outputs": [
    {
     "ename": "NameError",
     "evalue": "name 'plt' is not defined",
     "output_type": "error",
     "traceback": [
      "\u001b[0;31m---------------------------------------------------------------------------\u001b[0m",
      "\u001b[0;31mNameError\u001b[0m                                 Traceback (most recent call last)",
      "\u001b[0;32m/tmp/ipykernel_2219048/2603183941.py\u001b[0m in \u001b[0;36m<module>\u001b[0;34m\u001b[0m\n\u001b[1;32m      1\u001b[0m \u001b[0;31m# Scatter plot for loss vs purity and efficiency\u001b[0m\u001b[0;34m\u001b[0m\u001b[0;34m\u001b[0m\u001b[0m\n\u001b[0;32m----> 2\u001b[0;31m \u001b[0mplt\u001b[0m\u001b[0;34m.\u001b[0m\u001b[0mfigure\u001b[0m\u001b[0;34m(\u001b[0m\u001b[0mfigsize\u001b[0m\u001b[0;34m=\u001b[0m\u001b[0;34m(\u001b[0m\u001b[0;36m12\u001b[0m\u001b[0;34m,\u001b[0m \u001b[0;36m6\u001b[0m\u001b[0;34m)\u001b[0m\u001b[0;34m)\u001b[0m\u001b[0;34m\u001b[0m\u001b[0;34m\u001b[0m\u001b[0m\n\u001b[0m\u001b[1;32m      3\u001b[0m \u001b[0msns\u001b[0m\u001b[0;34m.\u001b[0m\u001b[0mscatterplot\u001b[0m\u001b[0;34m(\u001b[0m\u001b[0mdata\u001b[0m\u001b[0;34m=\u001b[0m\u001b[0mdf\u001b[0m\u001b[0;34m,\u001b[0m \u001b[0mx\u001b[0m\u001b[0;34m=\u001b[0m\u001b[0;34m'best_val_loss'\u001b[0m\u001b[0;34m,\u001b[0m \u001b[0my\u001b[0m\u001b[0;34m=\u001b[0m\u001b[0;34m'purity'\u001b[0m\u001b[0;34m,\u001b[0m \u001b[0mlabel\u001b[0m\u001b[0;34m=\u001b[0m\u001b[0;34m'Purity'\u001b[0m\u001b[0;34m)\u001b[0m\u001b[0;34m\u001b[0m\u001b[0;34m\u001b[0m\u001b[0m\n\u001b[1;32m      4\u001b[0m \u001b[0msns\u001b[0m\u001b[0;34m.\u001b[0m\u001b[0mscatterplot\u001b[0m\u001b[0;34m(\u001b[0m\u001b[0mdata\u001b[0m\u001b[0;34m=\u001b[0m\u001b[0mdf\u001b[0m\u001b[0;34m,\u001b[0m \u001b[0mx\u001b[0m\u001b[0;34m=\u001b[0m\u001b[0;34m'best_val_loss'\u001b[0m\u001b[0;34m,\u001b[0m \u001b[0my\u001b[0m\u001b[0;34m=\u001b[0m\u001b[0;34m'efficiency'\u001b[0m\u001b[0;34m,\u001b[0m \u001b[0mlabel\u001b[0m\u001b[0;34m=\u001b[0m\u001b[0;34m'Efficiency'\u001b[0m\u001b[0;34m)\u001b[0m\u001b[0;34m\u001b[0m\u001b[0;34m\u001b[0m\u001b[0m\n\u001b[1;32m      5\u001b[0m \u001b[0mplt\u001b[0m\u001b[0;34m.\u001b[0m\u001b[0mtitle\u001b[0m\u001b[0;34m(\u001b[0m\u001b[0;34m'Relationship Between Loss, Purity, and Efficiency'\u001b[0m\u001b[0;34m)\u001b[0m\u001b[0;34m\u001b[0m\u001b[0;34m\u001b[0m\u001b[0m\n",
      "\u001b[0;31mNameError\u001b[0m: name 'plt' is not defined"
     ]
    }
   ],
   "source": [
    "# Scatter plot for loss vs purity and efficiency\n",
    "plt.figure(figsize=(12, 6))\n",
    "sns.scatterplot(data=df, x='best_val_loss', y='purity', label='Purity')\n",
    "sns.scatterplot(data=df, x='best_val_loss', y='efficiency', label='Efficiency')\n",
    "plt.title('Relationship Between Loss, Purity, and Efficiency')\n",
    "plt.xlabel('Best Validation Loss')\n",
    "plt.ylabel('Purity / Efficiency')\n",
    "plt.legend()\n",
    "plt.show()\n"
   ]
  },
  {
   "cell_type": "code",
   "execution_count": 7,
   "id": "df65d4c4",
   "metadata": {},
   "outputs": [
    {
     "name": "stdout",
     "output_type": "stream",
     "text": [
      "Correlation of Loss with Purity: -0.9744025051343034\n",
      "Correlation of Loss with Efficiency: -0.9388053758148813\n"
     ]
    }
   ],
   "source": [
    "print(\"Correlation of Loss with Purity:\", df['best_val_loss'].corr(df['purity']))\n",
    "print(\"Correlation of Loss with Efficiency:\", df['best_val_loss'].corr(df['efficiency']))\n"
   ]
  },
  {
   "cell_type": "code",
   "execution_count": null,
   "id": "f467fac0",
   "metadata": {},
   "outputs": [],
   "source": []
  }
 ],
 "metadata": {
  "kernelspec": {
   "display_name": "Python 3 (ipykernel)",
   "language": "python",
   "name": "python3"
  },
  "language_info": {
   "codemirror_mode": {
    "name": "ipython",
    "version": 3
   },
   "file_extension": ".py",
   "mimetype": "text/x-python",
   "name": "python",
   "nbconvert_exporter": "python",
   "pygments_lexer": "ipython3",
   "version": "3.9.12"
  }
 },
 "nbformat": 4,
 "nbformat_minor": 5
}
