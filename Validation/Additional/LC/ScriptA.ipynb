{
 "cells": [
  {
   "cell_type": "code",
   "execution_count": 1,
   "id": "3d6051c1",
   "metadata": {},
   "outputs": [],
   "source": [
    "#0: imports\n",
    "\n",
    "import uproot \n",
    "import numpy as np\n",
    "import pandas as pd\n",
    "import matplotlib.pyplot as plt\n",
    "import torch\n",
    "\n",
    "from dataAnalyse import CCV2\n",
    "from torch_geometric.data import DataLoader \n",
    "from model_3DEC import Net\n",
    "from torch_geometric.nn import knn_graph\n",
    "\n",
    "import numpy as np\n",
    "import time\n",
    "from Imports import Aggloremative, calculate_reco_to_sim_score, calculate_sim_to_reco_score, calculate_all_event_scores\n",
    "import awkward as ak\n",
    "\n",
    "import warnings\n",
    "warnings.filterwarnings(\"ignore\", category=np.VisibleDeprecationWarning)"
   ]
  },
  {
   "cell_type": "code",
   "execution_count": 2,
   "id": "86d9719e",
   "metadata": {
    "scrolled": false
   },
   "outputs": [
    {
     "name": "stdout",
     "output_type": "stream",
     "text": [
      "### Loading data\n"
     ]
    },
    {
     "name": "stderr",
     "output_type": "stream",
     "text": [
      "  0%|                                                                                             | 0/1 [00:04<?, ?it/s]"
     ]
    },
    {
     "name": "stdout",
     "output_type": "stream",
     "text": [
      "Reached 99!\n",
      "LENGTH OF GT_ind 100\n"
     ]
    },
    {
     "name": "stderr",
     "output_type": "stream",
     "text": [
      "\n",
      "/cvmfs/sft.cern.ch/lcg/views/LCG_105a_cuda/x86_64-el9-gcc11-opt/lib/python3.9/site-packages/torch_geometric/deprecation.py:22: UserWarning: 'data.DataLoader' is deprecated, use 'loader.DataLoader' instead\n",
      "  warnings.warn(out)\n"
     ]
    },
    {
     "data": {
      "text/plain": [
       "Net(\n",
       "  (lc_encode): Sequential(\n",
       "    (0): Linear(in_features=8, out_features=32, bias=True)\n",
       "    (1): ELU(alpha=1.0)\n",
       "    (2): Linear(in_features=32, out_features=32, bias=True)\n",
       "    (3): ELU(alpha=1.0)\n",
       "  )\n",
       "  (conv1): DynamicEdgeConv(nn=Sequential(\n",
       "    (0): Linear(in_features=64, out_features=32, bias=True)\n",
       "    (1): ELU(alpha=1.0)\n",
       "  ), k=64)\n",
       "  (conv2): DynamicEdgeConv(nn=Sequential(\n",
       "    (0): Linear(in_features=64, out_features=32, bias=True)\n",
       "    (1): ELU(alpha=1.0)\n",
       "  ), k=64)\n",
       "  (conv3): DynamicEdgeConv(nn=Sequential(\n",
       "    (0): Linear(in_features=64, out_features=32, bias=True)\n",
       "    (1): ELU(alpha=1.0)\n",
       "  ), k=64)\n",
       "  (output): Sequential(\n",
       "    (0): Linear(in_features=32, out_features=32, bias=True)\n",
       "    (1): ELU(alpha=1.0)\n",
       "    (2): Linear(in_features=32, out_features=16, bias=True)\n",
       "    (3): ELU(alpha=1.0)\n",
       "    (4): Linear(in_features=16, out_features=128, bias=True)\n",
       "  )\n",
       ")"
      ]
     },
     "execution_count": 2,
     "metadata": {},
     "output_type": "execute_result"
    }
   ],
   "source": [
    "#1: Load Data + Model\n",
    "#1.1: Load Data\n",
    "testpath = \"/vols/cms/mm1221/Data/100k/5e/test/\"  \n",
    "data_test = CCV2(testpath, max_events=99) #<-- change this max_events and if want < 500 change step_size in CCV2.\n",
    "\n",
    "test_loader = DataLoader(data_test, batch_size=1, shuffle=False, follow_batch=['x'])\n",
    "\n",
    "GT_ind = data_test.stsCP_vertices_indexes\n",
    "\n",
    "print(\"LENGTH OF GT_ind\", len(GT_ind))\n",
    "\n",
    "data_path = '/vols/cms/mm1221/Data/100k/5e/test/raw/test.root'\n",
    "data_file = uproot.open(data_path)\n",
    "\n",
    "Track_ind = data_file['tracksters;1']['vertices_indexes'].array()\n",
    "\n",
    "#GT_ind = data_file['simtrackstersCP;3']['vertices_indexes'].array()\n",
    "#GT_mult = data_file['simtrackstersCP;3']['vertices_multiplicity'].array()\n",
    "\n",
    "#GT_bc = data_file['simtrackstersCP;3']['barycenter_x'].array()\n",
    "energies = data_file['clusters;3']['energy'].array()\n",
    "LC_x = data_file['clusters;3']['position_x'].array()\n",
    "LC_y = data_file['clusters;3']['position_y'].array()\n",
    "LC_z = data_file['clusters;3']['position_z'].array()\n",
    "LC_eta = data_file['clusters;3']['position_eta'].array()\n",
    "#MT_ind = data_file['trackstersMerged;2']['vertices_indexes'].array()\n",
    "\n",
    "\n",
    "\n",
    "\n",
    "#1.2: Load Model\n",
    "\n",
    "model = Net(32, 64, 128)\n",
    "checkpoint= torch.load('/vols/cms/er421/hgcal/code/code/elec5New/results/3DEC_100K_new/results_lr0.001_bs64_hd32_k64_temp0.1_cd128/best_model.pt',  map_location=torch.device('cpu'))\n",
    "model.load_state_dict(checkpoint)  \n",
    "model.eval()  "
   ]
  },
  {
   "cell_type": "code",
   "execution_count": 4,
   "id": "21bcdb4c",
   "metadata": {
    "scrolled": false
   },
   "outputs": [
    {
     "data": {
      "text/plain": [
       "'\\nfor i, data in enumerate(test_loader):\\n    print(f\"Batch {i}, Data Shape: {data.x.shape}, Batch Shape: {data.x_batch.shape}\")\\nprint(\"All batches loaded successfully.\")\\n'"
      ]
     },
     "execution_count": 4,
     "metadata": {},
     "output_type": "execute_result"
    }
   ],
   "source": [
    "\"\"\"\n",
    "for i, data in enumerate(test_loader):\n",
    "    print(f\"Batch {i}, Data Shape: {data.x.shape}, Batch Shape: {data.x_batch.shape}\")\n",
    "print(\"All batches loaded successfully.\")\n",
    "\"\"\""
   ]
  },
  {
   "cell_type": "code",
   "execution_count": 13,
   "id": "75201c11",
   "metadata": {
    "scrolled": true
   },
   "outputs": [
    {
     "data": {
      "text/plain": [
       "'\\n# computing predictions\\nall_predictions = []  \\nfor i, data in enumerate(test_loader):\\n    print(i)\\n    predictions = model(data.x, data.x_batch)\\n    all_predictions.append(predictions[0].detach().cpu().numpy())\\nall_predictions = np.array(all_predictions)\\n'"
      ]
     },
     "execution_count": 13,
     "metadata": {},
     "output_type": "execute_result"
    }
   ],
   "source": [
    "\"\"\"\n",
    "# computing predictions\n",
    "all_predictions = []  \n",
    "for i, data in enumerate(test_loader):\n",
    "    print(i)\n",
    "    predictions = model(data.x, data.x_batch)\n",
    "    all_predictions.append(predictions[0].detach().cpu().numpy())\n",
    "all_predictions = np.array(all_predictions)\n",
    "\"\"\""
   ]
  },
  {
   "cell_type": "markdown",
   "id": "74dcd7e7",
   "metadata": {},
   "source": [
    "### 1. Efficiency against Purity"
   ]
  },
  {
   "cell_type": "code",
   "execution_count": 17,
   "id": "a4b38e98",
   "metadata": {
    "scrolled": false
   },
   "outputs": [
    {
     "name": "stdout",
     "output_type": "stream",
     "text": [
      "\n",
      "Testing threshold = 0.10\n",
      "\n",
      "Model: Threshold 0.10\n",
      "Efficiency: 0.5930 (169 associated CPs out of 285 total CPs)\n",
      "Purity: 0.8269 (1333 associated Tracksters out of 1612 total Tracksters)\n",
      "Num Tracksters Ratio: 5.6561\n",
      "Average Energy Ratio: 1.3832\n",
      "\n",
      "Testing threshold = 0.31\n",
      "\n",
      "Model: Threshold 0.31\n",
      "Efficiency: 0.8175 (233 associated CPs out of 285 total CPs)\n",
      "Purity: 0.8028 (582 associated Tracksters out of 725 total Tracksters)\n",
      "Num Tracksters Ratio: 2.5439\n",
      "Average Energy Ratio: 2.2732\n",
      "\n",
      "Testing threshold = 0.52\n",
      "\n",
      "Model: Threshold 0.52\n",
      "Efficiency: 0.8877 (253 associated CPs out of 285 total CPs)\n",
      "Purity: 0.7910 (371 associated Tracksters out of 469 total Tracksters)\n",
      "Num Tracksters Ratio: 1.6456\n",
      "Average Energy Ratio: 2.6221\n",
      "\n",
      "Testing threshold = 0.73\n",
      "\n",
      "Model: Threshold 0.73\n",
      "Efficiency: 0.9053 (258 associated CPs out of 285 total CPs)\n",
      "Purity: 0.7899 (282 associated Tracksters out of 357 total Tracksters)\n",
      "Num Tracksters Ratio: 1.2526\n",
      "Average Energy Ratio: 3.0017\n",
      "\n",
      "Testing threshold = 0.94\n",
      "\n",
      "Model: Threshold 0.94\n",
      "Efficiency: 0.9298 (265 associated CPs out of 285 total CPs)\n",
      "Purity: 0.7417 (201 associated Tracksters out of 271 total Tracksters)\n",
      "Num Tracksters Ratio: 0.9509\n",
      "Average Energy Ratio: 3.4595\n",
      "\n",
      "Testing threshold = 1.16\n",
      "\n",
      "Model: Threshold 1.16\n",
      "Efficiency: 0.9439 (269 associated CPs out of 285 total CPs)\n",
      "Purity: 0.7045 (155 associated Tracksters out of 220 total Tracksters)\n",
      "Num Tracksters Ratio: 0.7719\n",
      "Average Energy Ratio: 3.7997\n",
      "\n",
      "Testing threshold = 1.37\n",
      "\n",
      "Model: Threshold 1.37\n",
      "Efficiency: 0.9509 (271 associated CPs out of 285 total CPs)\n",
      "Purity: 0.6919 (137 associated Tracksters out of 198 total Tracksters)\n",
      "Num Tracksters Ratio: 0.6947\n",
      "Average Energy Ratio: 4.0657\n",
      "\n",
      "Testing threshold = 1.58\n",
      "\n",
      "Model: Threshold 1.58\n",
      "Efficiency: 0.9965 (284 associated CPs out of 285 total CPs)\n",
      "Purity: 0.5323 (66 associated Tracksters out of 124 total Tracksters)\n",
      "Num Tracksters Ratio: 0.4351\n",
      "Average Energy Ratio: 7.2105\n",
      "\n",
      "Testing threshold = 1.79\n",
      "\n",
      "Model: Threshold 1.79\n",
      "Efficiency: 1.0000 (285 associated CPs out of 285 total CPs)\n",
      "Purity: 0.3700 (37 associated Tracksters out of 100 total Tracksters)\n",
      "Num Tracksters Ratio: 0.3509\n",
      "Average Energy Ratio: 7.8440\n",
      "\n",
      "Testing threshold = 2.00\n",
      "\n",
      "Model: Threshold 2.00\n",
      "Efficiency: 1.0000 (285 associated CPs out of 285 total CPs)\n",
      "Purity: 0.3700 (37 associated Tracksters out of 100 total Tracksters)\n",
      "Num Tracksters Ratio: 0.3509\n",
      "Average Energy Ratio: 7.8440\n"
     ]
    }
   ],
   "source": [
    "import time\n",
    "import numpy as np\n",
    "import matplotlib.pyplot as plt\n",
    "\n",
    "# --- Define a modified calculate_metrics() that also returns the num trackster ratio ---\n",
    "def calculate_metrics(df, model_name):\n",
    "    # ----- Efficiency Calculation -----\n",
    "    cp_valid = df.dropna(subset=['cp_id']).copy()\n",
    "    cp_grouped = cp_valid.groupby(['event_index', 'cp_id'])\n",
    "    cp_associated = cp_grouped['sim_to_reco_score'].min() < 0.2\n",
    "    num_associated_cp = cp_associated.sum()\n",
    "    total_cp = cp_associated.count()\n",
    "    efficiency = num_associated_cp / total_cp if total_cp > 0 else 0\n",
    "\n",
    "    # ----- Purity Calculation -----\n",
    "    tst_valid = df.dropna(subset=['trackster_id']).copy()\n",
    "    tst_grouped = tst_valid.groupby(['event_index', 'trackster_id'])\n",
    "    tst_associated = tst_grouped['reco_to_sim_score'].min() < 0.2\n",
    "    num_associated_tst = tst_associated.sum()\n",
    "    total_tst = tst_associated.count()\n",
    "    purity = num_associated_tst / total_tst if total_tst > 0 else 0\n",
    "\n",
    "    # ----- Average Energy Ratio Calculation -----\n",
    "    low_score_mask = df['sim_to_reco_score'] < 0.2\n",
    "    low_score_events = df[low_score_mask]\n",
    "    if not low_score_events.empty:\n",
    "        avg_energy_ratio = (low_score_events['trackster_energy'] / low_score_events['cp_energy']).mean()\n",
    "    else:\n",
    "        avg_energy_ratio = 0\n",
    "\n",
    "    # ----- Num Trackster Ratio Calculation -----\n",
    "    # Here we compute the average number of tracksters per event and CP per event.\n",
    "    tst_per_event = tst_valid.groupby('event_index')['trackster_id'].nunique().mean()\n",
    "    cp_per_event  = cp_valid.groupby('event_index')['cp_id'].nunique().mean()\n",
    "    num_trackster_ratio = tst_per_event / cp_per_event if cp_per_event > 0 else 0\n",
    "\n",
    "    print(f\"\\nModel: {model_name}\")\n",
    "    print(f\"Efficiency: {efficiency:.4f} ({num_associated_cp} associated CPs out of {total_cp} total CPs)\")\n",
    "    print(f\"Purity: {purity:.4f} ({num_associated_tst} associated Tracksters out of {total_tst} total Tracksters)\")\n",
    "    print(f\"Num Tracksters Ratio: {num_trackster_ratio:.4f}\")\n",
    "    print(f\"Average Energy Ratio: {avg_energy_ratio:.4f}\")\n",
    "\n",
    "    return {\n",
    "        'efficiency': efficiency,\n",
    "        'purity': purity,\n",
    "        'avg_energy_ratio': avg_energy_ratio,\n",
    "        'num_trackster_ratio': num_trackster_ratio\n",
    "    }\n",
    "\n",
    "# --- Grid search over distance thresholds ---\n",
    "\n",
    "# Choose a set of candidate thresholds; adjust the range and resolution as needed.\n",
    "threshold_values = np.linspace(0.1, 2.0, 10)\n",
    "results_list = []\n",
    "\n",
    "# Precompute predictions for efficiency.\n",
    "all_predictions = []  \n",
    "all_cluster_idx = []\n",
    "start_time = time.time()\n",
    "for i, data in enumerate(test_loader):\n",
    "    predictions = model(data.x, data.x_batch)\n",
    "    all_predictions.append(predictions[0].detach().cpu().numpy())\n",
    "    all_cluster_idx.append(data.idx[0].flatten()) # extract layer cluster indices corresponding to all_predictions after \n",
    "    # you've applied filtering for unique lcs\n",
    "    \n",
    "all_predictions = np.array(all_predictions)\n",
    "all_cluster_idx = np.array(all_cluster_idx)\n",
    "# (Assume Track_ind is available; see your original code.)\n",
    "\n",
    "efficiencies = []\n",
    "purities = []\n",
    "\n",
    "for t in threshold_values:\n",
    "    print(f\"\\nTesting threshold = {t:.2f}\")\n",
    "    # --- 3. Cluster using the threshold ---\n",
    "    all_cluster_labels = Aggloremative(all_predictions, threshold = t)\n",
    "    \n",
    "    \n",
    "    # --- 4. Reconstruct tracksters ---\n",
    "    recon_ind = []\n",
    "    for event_idx, labels in enumerate(all_cluster_labels):\n",
    "        event_clusters = {}\n",
    "        # Here, each event has a list of clusters; for each cluster, add the corresponding indices.\n",
    "        for cluster_idx, cluster_label in enumerate(labels):\n",
    "            if cluster_label not in event_clusters:\n",
    "                event_clusters[cluster_label] = []\n",
    "            # Extend using your precomputed Track_ind (adjust according to your code)\n",
    "            event_clusters[cluster_label].append(all_cluster_idx[event_idx][cluster_idx])\n",
    "        # Sort clusters by label and store.\n",
    "        recon_ind.append([event_clusters[label] for label in sorted(event_clusters.keys())])\n",
    "    \n",
    "    \n",
    "    # --- 5. Build the DataFrame of event scores ---\n",
    "    df_CL_temp = calculate_all_event_scores(GT_ind, energies, recon_ind,\n",
    "                                            LC_x, LC_y, LC_z, LC_eta,\n",
    "                                            num_events = 100) #<--- change this num_events to the same number that \n",
    "    #is loaded by CCV2.\n",
    "    \n",
    "    # --- 6. Compute metrics ---\n",
    "    metrics = calculate_metrics(df_CL_temp, f\"Threshold {t:.2f}\")\n",
    "    efficiencies.append(metrics['efficiency'])\n",
    "    purities.append(metrics['purity'])\n",
    "\n",
    "    #avg_energy_ratio = metrics['avg_energy_ratio']\n",
    "    #num_ratio = metrics['num_trackster_ratio']\n"
   ]
  },
  {
   "cell_type": "code",
   "execution_count": 18,
   "id": "1568b47a",
   "metadata": {},
   "outputs": [
    {
     "data": {
      "image/png": "[encoded data removed]",
      "text/plain": [
       "<Figure size 576x432 with 2 Axes>"
      ]
     },
     "metadata": {
      "needs_background": "light"
     },
     "output_type": "display_data"
    }
   ],
   "source": [
    "# Create the scatter plot\n",
    "plt.figure(figsize=(8, 6))\n",
    "plt.scatter(1-np.array(purities), efficiencies, c=threshold_values, cmap='coolwarm', edgecolors='k', s=100)\n",
    "\n",
    "# Add labels\n",
    "for i, t in enumerate(threshold_values):\n",
    "    plt.text(1-np.array(purities[i]), efficiencies[i], f\"{t:.2f}\", fontsize=10, ha='right')\n",
    "\n",
    "plt.xlabel(\"Fake rate\")\n",
    "plt.ylabel(\"Efficiency\")\n",
    "plt.title(\"Efficiency vs. Fake rate for difference distance threshold values across 100 events\")\n",
    "plt.colorbar(label=\"Threshold Value\")  # Show color scale for thresholds\n",
    "plt.grid(True)\n",
    "plt.show()"
   ]
  },
  {
   "cell_type": "markdown",
   "id": "9b26152e",
   "metadata": {},
   "source": [
    "### 2. Point cloud"
   ]
  },
  {
   "cell_type": "code",
   "execution_count": 9,
   "id": "3a519931",
   "metadata": {
    "scrolled": false
   },
   "outputs": [
    {
     "name": "stdout",
     "output_type": "stream",
     "text": [
      "\n",
      "Model: Threshold 0.94, Linkage single\n",
      "Efficiency: 0.0175 (5 associated CPs out of 285 total CPs)\n",
      "Purity: 1.0000 (41714 associated Tracksters out of 41714 total Tracksters)\n",
      "Num Tracksters Ratio: 146.3649\n",
      "Average Energy Ratio: 0.5068\n"
     ]
    },
    {
     "data": {
      "image/png": "[encoded data removed]",
      "text/plain": [
       "<Figure size 720x504 with 1 Axes>"
      ]
     },
     "metadata": {
      "needs_background": "light"
     },
     "output_type": "display_data"
    }
   ],
   "source": [
    "import time\n",
    "import numpy as np\n",
    "import matplotlib.pyplot as plt\n",
    "from itertools import product\n",
    "\n",
    "\n",
    "# --- Define a modified calculate_metrics() that also returns the num trackster ratio ---\n",
    "def calculate_metrics(df, model_name):\n",
    "    # ----- Efficiency Calculation -----\n",
    "    cp_valid = df.dropna(subset=['cp_id']).copy()\n",
    "    cp_grouped = cp_valid.groupby(['event_index', 'cp_id'])\n",
    "    cp_associated = cp_grouped['sim_to_reco_score'].min() < 0.2\n",
    "    num_associated_cp = cp_associated.sum()\n",
    "    total_cp = cp_associated.count()\n",
    "    efficiency = num_associated_cp / total_cp if total_cp > 0 else 0\n",
    "\n",
    "    # ----- Purity Calculation -----\n",
    "    tst_valid = df.dropna(subset=['trackster_id']).copy()\n",
    "    tst_grouped = tst_valid.groupby(['event_index', 'trackster_id'])\n",
    "    tst_associated = tst_grouped['reco_to_sim_score'].min() < 0.2\n",
    "    num_associated_tst = tst_associated.sum()\n",
    "    total_tst = tst_associated.count()\n",
    "    purity = num_associated_tst / total_tst if total_tst > 0 else 0\n",
    "\n",
    "    # ----- Average Energy Ratio Calculation -----\n",
    "    low_score_mask = df['sim_to_reco_score'] < 0.2\n",
    "    low_score_events = df[low_score_mask]\n",
    "    if not low_score_events.empty:\n",
    "        avg_energy_ratio = (low_score_events['trackster_energy'] / low_score_events['cp_energy']).mean()\n",
    "    else:\n",
    "        avg_energy_ratio = 0\n",
    "\n",
    "    # ----- Num Trackster Ratio Calculation -----\n",
    "    # Here we compute the average number of tracksters per event and CP per event.\n",
    "    tst_per_event = tst_valid.groupby('event_index')['trackster_id'].nunique().mean()\n",
    "    cp_per_event  = cp_valid.groupby('event_index')['cp_id'].nunique().mean()\n",
    "    num_trackster_ratio = tst_per_event / cp_per_event if cp_per_event > 0 else 0\n",
    "\n",
    "    print(f\"\\nModel: {model_name}\")\n",
    "    print(f\"Efficiency: {efficiency:.4f} ({num_associated_cp} associated CPs out of {total_cp} total CPs)\")\n",
    "    print(f\"Purity: {purity:.4f} ({num_associated_tst} associated Tracksters out of {total_tst} total Tracksters)\")\n",
    "    print(f\"Num Tracksters Ratio: {num_trackster_ratio:.4f}\")\n",
    "    print(f\"Average Energy Ratio: {avg_energy_ratio:.4f}\")\n",
    "\n",
    "    return {\n",
    "        'efficiency': efficiency,\n",
    "        'purity': purity,\n",
    "        'avg_energy_ratio': avg_energy_ratio,\n",
    "        'num_trackster_ratio': num_trackster_ratio\n",
    "    }\n",
    "\n",
    "# --- Define hyperparameters ---\n",
    "threshold_values = np.linspace(0.1, 2.0, 10)  # Distance thresholds\n",
    "linkage_types = ['ward', 'average', 'complete', 'single']  # Linkage methods\n",
    "\n",
    "\n",
    "# Precompute predictions for efficiency.\n",
    "all_predictions = []  \n",
    "all_cluster_idx = []\n",
    "start_time = time.time()\n",
    "for i, data in enumerate(test_loader):\n",
    "    predictions = model(data.x, data.x_batch)\n",
    "    all_predictions.append(predictions[0].detach().cpu().numpy())\n",
    "    all_cluster_idx.append(data.idx[0].flatten()) # extract layer cluster indices corresponding to all_predictions after \n",
    "    # you've applied filtering for unique lcs\n",
    "    \n",
    "all_predictions = np.array(all_predictions)\n",
    "all_cluster_idx = np.array(all_cluster_idx)\n",
    "# (Assume Track_ind is available; see your original code.)\n",
    "\n",
    "\n",
    "results_list2 = []  # Store results\n",
    "\n",
    "# --- 3. Loop over both hyperparameters ---\n",
    "\n",
    "    \n",
    "# --- 4. Perform Agglomerative Clustering ---\n",
    "all_cluster_labels = Aggloremative(all_predictions, metric=\"euclidean\", threshold=0.94, linkage='average')\n",
    "\n",
    "# --- 5. Reconstruct tracksters ---\n",
    "recon_ind = []\n",
    "for event_idx, labels in enumerate(all_cluster_labels):\n",
    "    event_clusters = {}\n",
    "    for cluster_idx, cluster_label in enumerate(labels):\n",
    "        if cluster_label not in event_clusters:\n",
    "            event_clusters[cluster_label] = []\n",
    "        event_clusters[cluster_label].append(all_cluster_idx[event_idx][cluster_idx])\n",
    "    recon_ind.append([event_clusters[label] for label in sorted(event_clusters.keys())])\n",
    "\n",
    "# --- 6. Compute event scores ---\n",
    "df_CL_temp = calculate_all_event_scores(GT_ind, energies, recon_ind,\n",
    "                                        LC_x, LC_y, LC_z, LC_eta,\n",
    "                                        num_events=100)\n",
    "\n",
    "# --- 7. Compute metrics ---\n",
    "metrics = calculate_metrics(df_CL_temp, f\"Threshold 0.94, Linkage {linkage}\")\n",
    "results_list2.append({\n",
    "    'threshold': 0.94,\n",
    "    'linkage': linkage,\n",
    "    'efficiency': metrics['efficiency'],\n",
    "    'purity': metrics['purity'],\n",
    "    'fake_rate': 1 - metrics['purity']\n",
    "})\n",
    "\n",
    "# Convert results to NumPy arrays for plotting\n",
    "efficiencies = np.array([res['efficiency'] for res in results_list2])\n",
    "fake_rates = np.array([res['fake_rate'] for res in results_list2])\n",
    "\n",
    "# --- 8. Plot results ---\n",
    "plt.figure(figsize=(10, 7))\n",
    "\n",
    "# Use a single uniform style for all points\n",
    "plt.scatter(fake_rates, efficiencies, color='blue', edgecolors='k', s=80, alpha=0.7)\n",
    "\n",
    "# Annotate each point with (threshold, linkage)\n",
    "for i, res in enumerate(results_list2):\n",
    "    plt.text(fake_rates[i], efficiencies[i], f\"({res['threshold']:.2f}, {res['linkage'][0]})\", \n",
    "             fontsize=9, ha='right', color='black')\n",
    "\n",
    "# Labels and formatting\n",
    "plt.xlabel(\"Fake rate (1 - Purity)\")\n",
    "plt.ylabel(\"Efficiency\")\n",
    "plt.title(\"Efficiency vs. Fake Rate for Different Distance Thresholds and Linkages\")\n",
    "plt.grid(True)\n",
    "\n",
    "plt.show()\n"
   ]
  },
  {
   "cell_type": "markdown",
   "id": "9d9bea94",
   "metadata": {},
   "source": [
    "### 3. Efficiency vs number of constituent LCs in reconstructed trackster"
   ]
  },
  {
   "cell_type": "code",
   "execution_count": null,
   "id": "5eaa5804",
   "metadata": {},
   "outputs": [],
   "source": []
  },
  {
   "cell_type": "markdown",
   "id": "8a5c687b",
   "metadata": {},
   "source": [
    "### 4. Relation between efficiency, purity, num_tracksters/num_caloparticles (oversplitting) per event\n",
    "Plot num_tracksters ratio against distance_threshold and see that the purity/efficiency balance is determined by number of tracksters produced."
   ]
  },
  {
   "cell_type": "code",
   "execution_count": null,
   "id": "ce0bf6a8",
   "metadata": {},
   "outputs": [],
   "source": [
    "all_cluster_labels = Aggloremative(all_predictions, threshold = 1)\n",
    "    \n",
    "efficiencies = []\n",
    "purities = []\n",
    "num_tst_ratio = []\n",
    "\n",
    "\n",
    "# --- 4. Reconstruct tracksters ---\n",
    "recon_ind = []\n",
    "for event_idx, labels in enumerate(all_cluster_labels):\n",
    "    event_clusters = {}\n",
    "    # Here, each event has a list of clusters; for each cluster, add the corresponding indices.\n",
    "    for cluster_idx, cluster_label in enumerate(labels):\n",
    "        if cluster_label not in event_clusters:\n",
    "            event_clusters[cluster_label] = []\n",
    "        # Extend using your precomputed Track_ind (adjust according to your code)\n",
    "        event_clusters[cluster_label].append(all_cluster_idx[event_idx][cluster_idx])\n",
    "    # Sort clusters by label and store.\n",
    "    recon_ind.append([event_clusters[label] for label in sorted(event_clusters.keys())])\n",
    "\n",
    "\n",
    "# --- 5. Build the DataFrame of event scores ---\n",
    "df_CL_temp = calculate_all_event_scores(GT_ind, energies, recon_ind,\n",
    "                                        LC_x, LC_y, LC_z, LC_eta,\n",
    "                                        num_events = 100) #<--- change this num_events to the same number that \n",
    "#is loaded by CCV2.\n",
    "\n",
    "# --- 6. Compute metrics ---\n",
    "metrics = calculate_metrics(df_CL_temp, \"Threshold 1\")\n",
    "efficiencies.append(metrics['efficiency'])\n",
    "purities.append(metrics['purity'])\n",
    "num_tst_ratio.append(metrics['num_trackster_ratio'])\n",
    "\n"
   ]
  }
 ],
 "metadata": {
  "kernelspec": {
   "display_name": "Python 3 (ipykernel)",
   "language": "python",
   "name": "python3"
  },
  "language_info": {
   "codemirror_mode": {
    "name": "ipython",
    "version": 3
   },
   "file_extension": ".py",
   "mimetype": "text/x-python",
   "name": "python",
   "nbconvert_exporter": "python",
   "pygments_lexer": "ipython3",
   "version": "3.9.12"
  }
 },
 "nbformat": 4,
 "nbformat_minor": 5
}
