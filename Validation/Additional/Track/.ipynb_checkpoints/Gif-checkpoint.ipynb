{
 "cells": [
  {
   "cell_type": "code",
   "execution_count": 1,
   "id": "56047dc7",
   "metadata": {},
   "outputs": [],
   "source": [
    "#0: imports\n",
    "\n",
    "import uproot \n",
    "import numpy as np\n",
    "import pandas as pd\n",
    "import matplotlib.pyplot as plt\n",
    "import torch\n",
    "\n",
    "from dataAnalyse import CCV1\n",
    "from torch_geometric.data import DataLoader \n",
    "from models import Net_SEC\n",
    "from torch_geometric.nn import knn_graph\n",
    "\n",
    "import numpy as np\n",
    "import time\n",
    "\n",
    "import warnings\n",
    "warnings.filterwarnings(\"ignore\", category=np.VisibleDeprecationWarning)"
   ]
  },
  {
   "cell_type": "code",
   "execution_count": 20,
   "id": "fc1fea11",
   "metadata": {},
   "outputs": [
    {
     "name": "stdout",
     "output_type": "stream",
     "text": [
      "### Loading tracksters data\n"
     ]
    },
    {
     "name": "stderr",
     "output_type": "stream",
     "text": [
      "\r",
      "  0%|                                                                                                                                                             | 0/1 [00:00<?, ?it/s]"
     ]
    },
    {
     "name": "stdout",
     "output_type": "stream",
     "text": [
      "/vols/cms/mm1221/Data/100k/5pi/test/raw/test.root\n"
     ]
    },
    {
     "name": "stderr",
     "output_type": "stream",
     "text": [
      "100%|█████████████████████████████████████████████████████████████████████████████████████████████████████████████████████████████████████████████████████| 1/1 [00:14<00:00, 14.56s/it]\n"
     ]
    }
   ],
   "source": [
    "#1: Load Data + Model\n",
    "#1.1: Load Data Through the dataloader - used for predictions\n",
    "testpath = \"/vols/cms/mm1221/Data/100k/5pi/test/\"  \n",
    "data_test = CCV1(testpath, max_events=15000, inp = 'test')\n",
    "test_loader = DataLoader(data_test, batch_size=1, shuffle=False, follow_batch=['x'])\n"
   ]
  },
  {
   "cell_type": "code",
   "execution_count": 23,
   "id": "908e2e40",
   "metadata": {},
   "outputs": [
    {
     "data": {
      "text/plain": [
       "Net_SEC(\n",
       "  (lc_encode): Sequential(\n",
       "    (0): Linear(in_features=16, out_features=128, bias=True)\n",
       "    (1): ELU(alpha=1.0)\n",
       "    (2): Linear(in_features=128, out_features=128, bias=True)\n",
       "    (3): ELU(alpha=1.0)\n",
       "  )\n",
       "  (convs): ModuleList(\n",
       "    (0-3): 4 x CustomStaticEdgeConv(\n",
       "      (nn_module): Sequential(\n",
       "        (0): Linear(in_features=256, out_features=128, bias=True)\n",
       "        (1): ELU(alpha=1.0)\n",
       "        (2): BatchNorm1d(128, eps=1e-05, momentum=0.1, affine=True, track_running_stats=True)\n",
       "        (3): Dropout(p=0.3, inplace=False)\n",
       "      )\n",
       "    )\n",
       "  )\n",
       "  (output): Sequential(\n",
       "    (0): Linear(in_features=128, out_features=64, bias=True)\n",
       "    (1): ELU(alpha=1.0)\n",
       "    (2): Dropout(p=0.3, inplace=False)\n",
       "    (3): Linear(in_features=64, out_features=32, bias=True)\n",
       "    (4): ELU(alpha=1.0)\n",
       "    (5): Dropout(p=0.3, inplace=False)\n",
       "    (6): Linear(in_features=32, out_features=128, bias=True)\n",
       "  )\n",
       ")"
      ]
     },
     "execution_count": 23,
     "metadata": {},
     "output_type": "execute_result"
    }
   ],
   "source": [
    "# load the model \n",
    "#model = Net(\n",
    "    #hidden_dim=128,\n",
    "    #num_layers=4,\n",
    "    #dropout=0.3,\n",
    "    #contrastive_dim=16\n",
    "#)\n",
    "model = Net_SEC(\n",
    "    hidden_dim=128,\n",
    "    num_layers=4,\n",
    "    dropout=0.3,\n",
    "    contrastive_dim=128\n",
    ")\n",
    "\n",
    "checkpoint= torch.load('/vols/cms/mm1221/hgcal/Mixed/Track/NegativeMining/runs/SEC/hd128_nl4_cd128_lr0.0005/epoch-1.pt',  map_location=torch.device('cpu'))\n",
    "#checkpoint= torch.load('/vols/cms/mm1221/hgcal/elec5New/Track/NegativeMining/resultsSECNeg/epoch-228.pt',  map_location=torch.device('cpu'))\n",
    "\n",
    "model.load_state_dict(checkpoint['model'])  \n",
    "model.eval()  "
   ]
  },
  {
   "cell_type": "code",
   "execution_count": 24,
   "id": "460e8617",
   "metadata": {
    "scrolled": true
   },
   "outputs": [
    {
     "name": "stdout",
     "output_type": "stream",
     "text": [
      "0\n",
      "1\n",
      "2\n",
      "3\n",
      "4\n",
      "5\n",
      "6\n",
      "7\n",
      "8\n",
      "9\n",
      "10\n",
      "11\n",
      "12\n",
      "13\n",
      "14\n",
      "15\n",
      "16\n",
      "17\n",
      "18\n",
      "19\n",
      "20\n",
      "21\n",
      "22\n",
      "23\n",
      "24\n",
      "25\n",
      "26\n",
      "27\n",
      "28\n",
      "29\n",
      "30\n",
      "31\n",
      "32\n",
      "33\n",
      "34\n",
      "35\n",
      "36\n",
      "37\n",
      "38\n",
      "39\n",
      "40\n",
      "41\n",
      "42\n",
      "43\n",
      "44\n",
      "45\n",
      "46\n",
      "47\n",
      "48\n",
      "49\n",
      "50\n",
      "51\n",
      "52\n",
      "53\n",
      "54\n",
      "55\n",
      "56\n",
      "57\n",
      "58\n",
      "59\n",
      "60\n",
      "61\n",
      "62\n",
      "63\n",
      "64\n",
      "65\n",
      "66\n",
      "67\n",
      "68\n",
      "69\n",
      "70\n",
      "71\n",
      "72\n",
      "73\n",
      "74\n",
      "75\n",
      "76\n",
      "77\n",
      "78\n",
      "79\n",
      "80\n",
      "81\n",
      "82\n",
      "83\n",
      "84\n",
      "85\n",
      "86\n",
      "87\n",
      "88\n",
      "89\n",
      "90\n",
      "91\n",
      "92\n",
      "93\n",
      "94\n",
      "95\n",
      "96\n",
      "97\n",
      "98\n",
      "99\n",
      "100\n",
      "101\n",
      "102\n",
      "103\n",
      "104\n",
      "105\n",
      "106\n",
      "107\n",
      "108\n",
      "109\n",
      "110\n",
      "111\n",
      "112\n",
      "113\n",
      "114\n",
      "115\n",
      "116\n",
      "117\n",
      "118\n",
      "119\n",
      "120\n",
      "121\n",
      "122\n",
      "123\n",
      "124\n",
      "125\n",
      "126\n",
      "127\n",
      "128\n",
      "129\n",
      "130\n",
      "131\n",
      "132\n",
      "133\n",
      "134\n",
      "135\n",
      "136\n",
      "137\n",
      "138\n",
      "139\n",
      "140\n",
      "141\n",
      "142\n",
      "143\n",
      "144\n",
      "145\n",
      "146\n",
      "147\n",
      "148\n",
      "149\n",
      "150\n",
      "151\n",
      "152\n",
      "153\n",
      "154\n",
      "155\n",
      "156\n",
      "157\n",
      "158\n",
      "159\n",
      "160\n",
      "161\n",
      "162\n",
      "163\n",
      "164\n",
      "165\n",
      "166\n",
      "167\n",
      "168\n",
      "169\n",
      "170\n",
      "171\n",
      "172\n",
      "173\n",
      "174\n",
      "175\n",
      "176\n",
      "177\n",
      "178\n",
      "179\n",
      "180\n",
      "181\n",
      "182\n",
      "183\n",
      "184\n",
      "185\n",
      "186\n",
      "187\n",
      "188\n",
      "189\n",
      "190\n",
      "191\n",
      "192\n",
      "193\n",
      "194\n",
      "195\n",
      "196\n",
      "197\n",
      "198\n",
      "199\n",
      "200\n",
      "201\n",
      "202\n",
      "203\n",
      "204\n",
      "205\n",
      "206\n",
      "207\n",
      "208\n",
      "209\n",
      "210\n",
      "211\n",
      "212\n",
      "213\n",
      "214\n",
      "215\n",
      "216\n",
      "217\n",
      "218\n",
      "219\n",
      "220\n",
      "221\n",
      "222\n",
      "223\n",
      "224\n",
      "225\n",
      "226\n",
      "227\n",
      "228\n",
      "229\n",
      "230\n",
      "231\n",
      "232\n",
      "233\n",
      "234\n",
      "235\n",
      "236\n",
      "237\n",
      "238\n",
      "239\n",
      "240\n",
      "241\n",
      "242\n",
      "243\n",
      "244\n",
      "245\n",
      "246\n",
      "247\n",
      "248\n",
      "249\n",
      "250\n",
      "251\n",
      "252\n",
      "253\n",
      "254\n",
      "255\n",
      "256\n",
      "257\n",
      "258\n",
      "259\n",
      "260\n",
      "261\n",
      "262\n",
      "263\n",
      "264\n",
      "265\n",
      "266\n",
      "267\n",
      "268\n",
      "269\n",
      "270\n",
      "271\n",
      "272\n",
      "273\n",
      "274\n",
      "275\n",
      "276\n",
      "277\n",
      "278\n",
      "279\n",
      "280\n",
      "281\n",
      "282\n",
      "283\n",
      "284\n",
      "285\n",
      "286\n",
      "287\n",
      "288\n",
      "289\n",
      "290\n",
      "291\n",
      "292\n",
      "293\n",
      "294\n",
      "295\n",
      "296\n",
      "297\n",
      "298\n",
      "299\n",
      "300\n",
      "301\n",
      "302\n",
      "303\n",
      "304\n",
      "305\n",
      "306\n",
      "307\n",
      "308\n",
      "309\n",
      "310\n",
      "311\n",
      "312\n",
      "313\n",
      "314\n",
      "315\n",
      "316\n",
      "317\n",
      "318\n",
      "319\n",
      "320\n",
      "321\n",
      "322\n",
      "323\n",
      "324\n",
      "325\n",
      "326\n",
      "327\n",
      "328\n",
      "329\n",
      "330\n",
      "331\n",
      "332\n",
      "333\n",
      "334\n",
      "335\n",
      "336\n",
      "337\n",
      "338\n",
      "339\n",
      "340\n",
      "341\n",
      "342\n",
      "343\n",
      "344\n",
      "345\n",
      "346\n",
      "347\n",
      "348\n",
      "349\n",
      "350\n",
      "351\n",
      "352\n",
      "353\n",
      "354\n",
      "355\n",
      "356\n",
      "357\n",
      "358\n",
      "359\n",
      "360\n",
      "361\n",
      "362\n",
      "363\n",
      "364\n",
      "365\n",
      "366\n",
      "367\n",
      "368\n",
      "369\n",
      "370\n",
      "371\n",
      "372\n",
      "373\n",
      "374\n",
      "375\n",
      "376\n",
      "377\n",
      "378\n",
      "379\n",
      "380\n",
      "381\n",
      "382\n",
      "383\n",
      "384\n",
      "385\n",
      "386\n",
      "387\n",
      "388\n",
      "389\n",
      "390\n",
      "391\n",
      "392\n",
      "393\n",
      "394\n",
      "395\n",
      "396\n",
      "397\n",
      "398\n",
      "399\n",
      "400\n",
      "401\n",
      "402\n",
      "403\n",
      "404\n",
      "405\n",
      "406\n",
      "407\n",
      "408\n",
      "409\n",
      "410\n",
      "411\n",
      "412\n",
      "413\n",
      "414\n",
      "415\n",
      "416\n",
      "417\n",
      "418\n",
      "419\n",
      "420\n",
      "421\n",
      "422\n",
      "423\n",
      "424\n",
      "425\n",
      "426\n",
      "427\n",
      "428\n",
      "429\n",
      "430\n",
      "431\n",
      "432\n",
      "433\n",
      "434\n",
      "435\n",
      "436\n",
      "437\n",
      "438\n",
      "439\n",
      "440\n",
      "441\n",
      "442\n",
      "443\n",
      "444\n",
      "445\n",
      "446\n",
      "447\n",
      "448\n",
      "449\n",
      "450\n",
      "451\n",
      "452\n",
      "453\n",
      "454\n",
      "455\n",
      "456\n",
      "457\n",
      "458\n",
      "459\n",
      "460\n",
      "461\n",
      "462\n",
      "463\n",
      "464\n",
      "465\n",
      "466\n",
      "467\n",
      "468\n",
      "469\n",
      "470\n",
      "471\n",
      "472\n",
      "473\n",
      "474\n",
      "475\n",
      "476\n",
      "477\n",
      "478\n",
      "479\n",
      "480\n",
      "481\n",
      "482\n",
      "483\n",
      "484\n",
      "485\n",
      "486\n",
      "487\n",
      "488\n",
      "489\n",
      "490\n",
      "491\n",
      "492\n",
      "493\n",
      "494\n",
      "495\n",
      "496\n",
      "497\n",
      "498\n",
      "499\n",
      "500\n"
     ]
    }
   ],
   "source": [
    "\n",
    "#3: Make Predictions + Cluster -> Calculate the inference time\n",
    "#3.1: Make Predictions\n",
    "\n",
    "\n",
    "\n",
    "all_predictions = []  \n",
    "total_times = []\n",
    "start_time = time.time()\n",
    "\n",
    "for i, data in enumerate(data_test):\n",
    "    \n",
    "    if i>500:\n",
    "        break\n",
    "    print(i)\n",
    "\n",
    "        \n",
    "    \n",
    "    edge_index = knn_graph(data.x, k=16)  \n",
    "    predictions = model(data.x, edge_index, 1)\n",
    "    all_predictions.append(predictions[0].detach().cpu().numpy())  \n",
    "\n",
    "all_predictions = np.array(all_predictions)\n",
    "\n",
    "\n",
    "\n",
    "\n",
    "end_time = time.time()\n",
    "\n",
    "#3.3: Calculate average inference time\n",
    "\n",
    "time_diff = end_time - start_time\n",
    "\n",
    "\n",
    "#all_cluster_labels = affinity_propagation_clustering(all_predictions, damping=0.65)\n",
    "\n"
   ]
  },
  {
   "cell_type": "code",
   "execution_count": 25,
   "id": "911b7462",
   "metadata": {},
   "outputs": [
    {
     "name": "stderr",
     "output_type": "stream",
     "text": [
      "Processing events: 100%|██████████████████████████████████████████████████████████████████████████████████████████████████████████████████████████████| 500/500 [00:06<00:00, 81.57it/s]\n"
     ]
    },
    {
     "name": "stdout",
     "output_type": "stream",
     "text": [
      "Mean Positive Edge Cosine Similarity: 0.9571\n",
      "Mean Negative Edge Cosine Similarity: 0.9175\n"
     ]
    },
    {
     "data": {
      "image/png": "[encoded data removed]",
      "text/plain": [
       "<Figure size 864x432 with 1 Axes>"
      ]
     },
     "metadata": {
      "needs_background": "light"
     },
     "output_type": "display_data"
    }
   ],
   "source": [
    "import numpy as np\n",
    "import torch\n",
    "import torch.nn.functional as F\n",
    "import matplotlib.pyplot as plt\n",
    "from tqdm import tqdm\n",
    "\n",
    "# Function to compute cosine similarities from a set of edge indices.\n",
    "def compute_cosine_similarities(embeddings, edge_indices, skip_self=True):\n",
    "    \"\"\"\n",
    "    Given embeddings (tensor of shape [N, D]) and edge_indices (tensor of shape [num_edges, 2]),\n",
    "    compute the cosine similarity for each edge.\n",
    "    If skip_self is True, edges where source==target are skipped.\n",
    "    Returns a NumPy array of similarities.\n",
    "    \"\"\"\n",
    "    sims = []\n",
    "    for edge in edge_indices:\n",
    "        src, tgt = edge.tolist()\n",
    "        if skip_self and src == tgt:\n",
    "            continue\n",
    "        # Cosine similarity for unit-norm embeddings is just their dot product.\n",
    "        sim = F.cosine_similarity(embeddings[src].unsqueeze(0), embeddings[tgt].unsqueeze(0))\n",
    "        sims.append(sim.item())\n",
    "    return np.array(sims)\n",
    "\n",
    "# Assuming:\n",
    "# - all_predictions is a list (length >= 1000) of NumPy arrays,\n",
    "#   where each element is an array of embeddings for one event.\n",
    "# - data_test is a list (length >= 1000) of data objects with attributes x_pe and x_ne\n",
    "#   (each as tensors of shape [num_nodes, 2]) that give the positive and negative edge indices.\n",
    "# If you do not already have normalized embeddings in all_predictions, we will normalize them.\n",
    "\n",
    "num_events = 500\n",
    "all_pos_sims = []\n",
    "all_neg_sims = []\n",
    "\n",
    "# Loop over the first 1000 events.\n",
    "for i in tqdm(range(num_events), desc=\"Processing events\"):\n",
    "    # Convert predictions for event i to a tensor and normalize them.\n",
    "    pred_tensor = torch.tensor(all_predictions[i], dtype=torch.float32)\n",
    "    pred_norm = F.normalize(pred_tensor, p=2, dim=1)\n",
    "\n",
    "    # Compute cosine similarities for positive and negative edges.\n",
    "    pos_sims = compute_cosine_similarities(pred_norm, data_test[i].x_pe, skip_self=True)\n",
    "    neg_sims = compute_cosine_similarities(pred_norm, data_test[i].x_ne, skip_self=True)\n",
    "    \n",
    "    all_pos_sims.extend(pos_sims.tolist())\n",
    "    all_neg_sims.extend(neg_sims.tolist())\n",
    "\n",
    "all_pos_sims = np.array(all_pos_sims)\n",
    "all_neg_sims = np.array(all_neg_sims)\n",
    "\n",
    "\n",
    " \n",
    "mean_pos_sim = np.mean(all_pos_sims)\n",
    "mean_neg_sim = np.mean(all_neg_sims)\n",
    "\n",
    "print(f\"Mean Positive Edge Cosine Similarity: {mean_pos_sim:.4f}\")\n",
    "print(f\"Mean Negative Edge Cosine Similarity: {mean_neg_sim:.4f}\")\n",
    "\n",
    "# Plot histograms for positive and negative cosine similarities.\n",
    "plt.figure(figsize=(12, 6))\n",
    "plt.hist(all_pos_sims, bins=50, alpha=0.7, label=\"Positive Pairs\")\n",
    "plt.hist(all_neg_sims, bins=50, alpha=0.7, label=\"Negative Pairs\")\n",
    "plt.xlabel(\"Cosine Similarity\")\n",
    "plt.ylabel(\"Frequency\")\n",
    "plt.title(\"Cosine Similarity Distribution (First 3000 Events)\")\n",
    "plt.legend()\n",
    "plt.show()\n"
   ]
  },
  {
   "cell_type": "code",
   "execution_count": 22,
   "id": "5863a514",
   "metadata": {},
   "outputs": [
    {
     "name": "stderr",
     "output_type": "stream",
     "text": [
      "Processing events: 100%|██████████████████████████████████████████████████████████████████████████████████████████████████████████████████████████████| 500/500 [00:06<00:00, 81.95it/s]\n"
     ]
    },
    {
     "name": "stdout",
     "output_type": "stream",
     "text": [
      "Mean Positive Edge Cosine Similarity: 0.9204\n",
      "Mean Negative Edge Cosine Similarity: 0.3636\n"
     ]
    },
    {
     "data": {
      "image/png": "[encoded data removed]",
      "text/plain": [
       "<Figure size 864x432 with 1 Axes>"
      ]
     },
     "metadata": {
      "needs_background": "light"
     },
     "output_type": "display_data"
    }
   ],
   "source": [
    "import numpy as np\n",
    "import torch\n",
    "import torch.nn.functional as F\n",
    "import matplotlib.pyplot as plt\n",
    "from tqdm import tqdm\n",
    "\n",
    "# Function to compute cosine similarities from a set of edge indices.\n",
    "def compute_cosine_similarities(embeddings, edge_indices, skip_self=True):\n",
    "    \"\"\"\n",
    "    Given embeddings (tensor of shape [N, D]) and edge_indices (tensor of shape [num_edges, 2]),\n",
    "    compute the cosine similarity for each edge.\n",
    "    If skip_self is True, edges where source==target are skipped.\n",
    "    Returns a NumPy array of similarities.\n",
    "    \"\"\"\n",
    "    sims = []\n",
    "    for edge in edge_indices:\n",
    "        src, tgt = edge.tolist()\n",
    "        if skip_self and src == tgt:\n",
    "            continue\n",
    "        # Cosine similarity for unit-norm embeddings is just their dot product.\n",
    "        sim = F.cosine_similarity(embeddings[src].unsqueeze(0), embeddings[tgt].unsqueeze(0))\n",
    "        sims.append(sim.item())\n",
    "    return np.array(sims)\n",
    "\n",
    "# Assuming:\n",
    "# - all_predictions is a list (length >= 1000) of NumPy arrays,\n",
    "#   where each element is an array of embeddings for one event.\n",
    "# - data_test is a list (length >= 1000) of data objects with attributes x_pe and x_ne\n",
    "#   (each as tensors of shape [num_nodes, 2]) that give the positive and negative edge indices.\n",
    "# If you do not already have normalized embeddings in all_predictions, we will normalize them.\n",
    "\n",
    "num_events = 500\n",
    "all_pos_sims = []\n",
    "all_neg_sims = []\n",
    "\n",
    "# Loop over the first 1000 events.\n",
    "for i in tqdm(range(num_events), desc=\"Processing events\"):\n",
    "    # Convert predictions for event i to a tensor and normalize them.\n",
    "    pred_tensor = torch.tensor(all_predictions[i], dtype=torch.float32)\n",
    "    pred_norm = F.normalize(pred_tensor, p=2, dim=1)\n",
    "\n",
    "    # Compute cosine similarities for positive and negative edges.\n",
    "    pos_sims = compute_cosine_similarities(pred_norm, data_test[i].x_pe, skip_self=True)\n",
    "    neg_sims = compute_cosine_similarities(pred_norm, data_test[i].x_ne, skip_self=True)\n",
    "    \n",
    "    all_pos_sims.extend(pos_sims.tolist())\n",
    "    all_neg_sims.extend(neg_sims.tolist())\n",
    "\n",
    "all_pos_sims = np.array(all_pos_sims)\n",
    "all_neg_sims = np.array(all_neg_sims)\n",
    "\n",
    "\n",
    " \n",
    "mean_pos_sim = np.mean(all_pos_sims)\n",
    "mean_neg_sim = np.mean(all_neg_sims)\n",
    "\n",
    "print(f\"Mean Positive Edge Cosine Similarity: {mean_pos_sim:.4f}\")\n",
    "print(f\"Mean Negative Edge Cosine Similarity: {mean_neg_sim:.4f}\")\n",
    "\n",
    "# Plot histograms for positive and negative cosine similarities.\n",
    "plt.figure(figsize=(12, 6))\n",
    "plt.hist(all_pos_sims, bins=50, alpha=0.7, label=\"Positive Pairs\")\n",
    "plt.hist(all_neg_sims, bins=50, alpha=0.7, label=\"Negative Pairs\")\n",
    "plt.xlabel(\"Cosine Similarity\")\n",
    "plt.ylabel(\"Frequency\")\n",
    "plt.title(\"Cosine Similarity Distribution (First 3000 Events)\")\n",
    "plt.legend()\n",
    "plt.show()\n"
   ]
  },
  {
   "cell_type": "code",
   "execution_count": 29,
   "id": "7eb49dde",
   "metadata": {},
   "outputs": [
    {
     "name": "stdout",
     "output_type": "stream",
     "text": [
      "Processing epoch 1...\n",
      "Inference time for epoch 1: 9.80 s\n"
     ]
    },
    {
     "name": "stderr",
     "output_type": "stream",
     "text": [
      "Epoch 1 cosine sims: 100%|██████████████████████████████████████████████████████████████████████████████████████████████████████████████████████████| 1000/1000 [00:12<00:00, 78.39it/s]\n"
     ]
    },
    {
     "name": "stdout",
     "output_type": "stream",
     "text": [
      "Saved plot for epoch 1 to Gif/epoch_1.png\n",
      "Processing epoch 3...\n",
      "Inference time for epoch 3: 9.81 s\n"
     ]
    },
    {
     "name": "stderr",
     "output_type": "stream",
     "text": [
      "Epoch 3 cosine sims: 100%|██████████████████████████████████████████████████████████████████████████████████████████████████████████████████████████| 1000/1000 [00:12<00:00, 78.99it/s]\n"
     ]
    },
    {
     "name": "stdout",
     "output_type": "stream",
     "text": [
      "Saved plot for epoch 3 to Gif/epoch_3.png\n",
      "Processing epoch 5...\n",
      "Inference time for epoch 5: 10.04 s\n"
     ]
    },
    {
     "name": "stderr",
     "output_type": "stream",
     "text": [
      "Epoch 5 cosine sims: 100%|██████████████████████████████████████████████████████████████████████████████████████████████████████████████████████████| 1000/1000 [00:12<00:00, 77.34it/s]\n"
     ]
    },
    {
     "name": "stdout",
     "output_type": "stream",
     "text": [
      "Saved plot for epoch 5 to Gif/epoch_5.png\n",
      "Processing epoch 7...\n",
      "Inference time for epoch 7: 11.00 s\n"
     ]
    },
    {
     "name": "stderr",
     "output_type": "stream",
     "text": [
      "Epoch 7 cosine sims: 100%|██████████████████████████████████████████████████████████████████████████████████████████████████████████████████████████| 1000/1000 [00:12<00:00, 79.77it/s]\n"
     ]
    },
    {
     "name": "stdout",
     "output_type": "stream",
     "text": [
      "Saved plot for epoch 7 to Gif/epoch_7.png\n",
      "Processing epoch 9...\n",
      "Inference time for epoch 9: 10.80 s\n"
     ]
    },
    {
     "name": "stderr",
     "output_type": "stream",
     "text": [
      "Epoch 9 cosine sims: 100%|██████████████████████████████████████████████████████████████████████████████████████████████████████████████████████████| 1000/1000 [00:12<00:00, 79.44it/s]\n"
     ]
    },
    {
     "name": "stdout",
     "output_type": "stream",
     "text": [
      "Saved plot for epoch 9 to Gif/epoch_9.png\n",
      "Processing epoch 11...\n",
      "Inference time for epoch 11: 10.70 s\n"
     ]
    },
    {
     "name": "stderr",
     "output_type": "stream",
     "text": [
      "Epoch 11 cosine sims: 100%|█████████████████████████████████████████████████████████████████████████████████████████████████████████████████████████| 1000/1000 [00:12<00:00, 79.05it/s]\n"
     ]
    },
    {
     "name": "stdout",
     "output_type": "stream",
     "text": [
      "Saved plot for epoch 11 to Gif/epoch_11.png\n",
      "Processing epoch 13...\n",
      "Inference time for epoch 13: 10.30 s\n"
     ]
    },
    {
     "name": "stderr",
     "output_type": "stream",
     "text": [
      "Epoch 13 cosine sims: 100%|█████████████████████████████████████████████████████████████████████████████████████████████████████████████████████████| 1000/1000 [00:12<00:00, 78.17it/s]\n"
     ]
    },
    {
     "name": "stdout",
     "output_type": "stream",
     "text": [
      "Saved plot for epoch 13 to Gif/epoch_13.png\n",
      "Processing epoch 15...\n",
      "Inference time for epoch 15: 10.08 s\n"
     ]
    },
    {
     "name": "stderr",
     "output_type": "stream",
     "text": [
      "Epoch 15 cosine sims: 100%|█████████████████████████████████████████████████████████████████████████████████████████████████████████████████████████| 1000/1000 [00:12<00:00, 78.75it/s]\n"
     ]
    },
    {
     "name": "stdout",
     "output_type": "stream",
     "text": [
      "Saved plot for epoch 15 to Gif/epoch_15.png\n",
      "Processing epoch 17...\n",
      "Inference time for epoch 17: 10.66 s\n"
     ]
    },
    {
     "name": "stderr",
     "output_type": "stream",
     "text": [
      "Epoch 17 cosine sims: 100%|█████████████████████████████████████████████████████████████████████████████████████████████████████████████████████████| 1000/1000 [00:12<00:00, 80.16it/s]\n"
     ]
    },
    {
     "name": "stdout",
     "output_type": "stream",
     "text": [
      "Saved plot for epoch 17 to Gif/epoch_17.png\n",
      "Processing epoch 19...\n",
      "Inference time for epoch 19: 10.76 s\n"
     ]
    },
    {
     "name": "stderr",
     "output_type": "stream",
     "text": [
      "Epoch 19 cosine sims: 100%|█████████████████████████████████████████████████████████████████████████████████████████████████████████████████████████| 1000/1000 [00:12<00:00, 80.34it/s]\n"
     ]
    },
    {
     "name": "stdout",
     "output_type": "stream",
     "text": [
      "Saved plot for epoch 19 to Gif/epoch_19.png\n",
      "Processing epoch 21...\n",
      "Inference time for epoch 21: 10.80 s\n"
     ]
    },
    {
     "name": "stderr",
     "output_type": "stream",
     "text": [
      "Epoch 21 cosine sims: 100%|█████████████████████████████████████████████████████████████████████████████████████████████████████████████████████████| 1000/1000 [00:12<00:00, 78.81it/s]\n"
     ]
    },
    {
     "name": "stdout",
     "output_type": "stream",
     "text": [
      "Saved plot for epoch 21 to Gif/epoch_21.png\n",
      "Processing epoch 23...\n",
      "Inference time for epoch 23: 10.13 s\n"
     ]
    },
    {
     "name": "stderr",
     "output_type": "stream",
     "text": [
      "Epoch 23 cosine sims: 100%|█████████████████████████████████████████████████████████████████████████████████████████████████████████████████████████| 1000/1000 [00:12<00:00, 80.01it/s]\n"
     ]
    },
    {
     "name": "stdout",
     "output_type": "stream",
     "text": [
      "Saved plot for epoch 23 to Gif/epoch_23.png\n",
      "Processing epoch 25...\n",
      "Inference time for epoch 25: 10.80 s\n"
     ]
    },
    {
     "name": "stderr",
     "output_type": "stream",
     "text": [
      "Epoch 25 cosine sims: 100%|█████████████████████████████████████████████████████████████████████████████████████████████████████████████████████████| 1000/1000 [00:12<00:00, 80.40it/s]\n"
     ]
    },
    {
     "name": "stdout",
     "output_type": "stream",
     "text": [
      "Saved plot for epoch 25 to Gif/epoch_25.png\n",
      "Processing epoch 27...\n",
      "Inference time for epoch 27: 10.83 s\n"
     ]
    },
    {
     "name": "stderr",
     "output_type": "stream",
     "text": [
      "Epoch 27 cosine sims: 100%|█████████████████████████████████████████████████████████████████████████████████████████████████████████████████████████| 1000/1000 [00:12<00:00, 78.80it/s]\n"
     ]
    },
    {
     "name": "stdout",
     "output_type": "stream",
     "text": [
      "Saved plot for epoch 27 to Gif/epoch_27.png\n",
      "Processing epoch 29...\n",
      "Inference time for epoch 29: 10.76 s\n"
     ]
    },
    {
     "name": "stderr",
     "output_type": "stream",
     "text": [
      "Epoch 29 cosine sims: 100%|█████████████████████████████████████████████████████████████████████████████████████████████████████████████████████████| 1000/1000 [00:12<00:00, 79.76it/s]\n"
     ]
    },
    {
     "name": "stdout",
     "output_type": "stream",
     "text": [
      "Saved plot for epoch 29 to Gif/epoch_29.png\n",
      "Processing epoch 31...\n",
      "Inference time for epoch 31: 10.78 s\n"
     ]
    },
    {
     "name": "stderr",
     "output_type": "stream",
     "text": [
      "Epoch 31 cosine sims: 100%|█████████████████████████████████████████████████████████████████████████████████████████████████████████████████████████| 1000/1000 [00:12<00:00, 77.64it/s]\n"
     ]
    },
    {
     "name": "stdout",
     "output_type": "stream",
     "text": [
      "Saved plot for epoch 31 to Gif/epoch_31.png\n",
      "Processing epoch 33...\n",
      "Inference time for epoch 33: 9.80 s\n"
     ]
    },
    {
     "name": "stderr",
     "output_type": "stream",
     "text": [
      "Epoch 33 cosine sims: 100%|█████████████████████████████████████████████████████████████████████████████████████████████████████████████████████████| 1000/1000 [00:12<00:00, 79.92it/s]\n"
     ]
    },
    {
     "name": "stdout",
     "output_type": "stream",
     "text": [
      "Saved plot for epoch 33 to Gif/epoch_33.png\n",
      "Processing epoch 35...\n",
      "Inference time for epoch 35: 9.86 s\n"
     ]
    },
    {
     "name": "stderr",
     "output_type": "stream",
     "text": [
      "Epoch 35 cosine sims: 100%|█████████████████████████████████████████████████████████████████████████████████████████████████████████████████████████| 1000/1000 [00:12<00:00, 79.85it/s]\n"
     ]
    },
    {
     "name": "stdout",
     "output_type": "stream",
     "text": [
      "Saved plot for epoch 35 to Gif/epoch_35.png\n",
      "Processing epoch 37...\n",
      "Inference time for epoch 37: 10.10 s\n"
     ]
    },
    {
     "name": "stderr",
     "output_type": "stream",
     "text": [
      "Epoch 37 cosine sims: 100%|█████████████████████████████████████████████████████████████████████████████████████████████████████████████████████████| 1000/1000 [00:12<00:00, 79.97it/s]\n"
     ]
    },
    {
     "name": "stdout",
     "output_type": "stream",
     "text": [
      "Saved plot for epoch 37 to Gif/epoch_37.png\n",
      "Processing epoch 39...\n",
      "Inference time for epoch 39: 10.10 s\n"
     ]
    },
    {
     "name": "stderr",
     "output_type": "stream",
     "text": [
      "Epoch 39 cosine sims: 100%|█████████████████████████████████████████████████████████████████████████████████████████████████████████████████████████| 1000/1000 [00:12<00:00, 79.01it/s]\n"
     ]
    },
    {
     "name": "stdout",
     "output_type": "stream",
     "text": [
      "Saved plot for epoch 39 to Gif/epoch_39.png\n",
      "Processing epoch 41...\n",
      "Inference time for epoch 41: 9.81 s\n"
     ]
    },
    {
     "name": "stderr",
     "output_type": "stream",
     "text": [
      "Epoch 41 cosine sims: 100%|█████████████████████████████████████████████████████████████████████████████████████████████████████████████████████████| 1000/1000 [00:12<00:00, 80.00it/s]\n"
     ]
    },
    {
     "name": "stdout",
     "output_type": "stream",
     "text": [
      "Saved plot for epoch 41 to Gif/epoch_41.png\n",
      "Processing epoch 43...\n",
      "Inference time for epoch 43: 9.79 s\n"
     ]
    },
    {
     "name": "stderr",
     "output_type": "stream",
     "text": [
      "Epoch 43 cosine sims: 100%|█████████████████████████████████████████████████████████████████████████████████████████████████████████████████████████| 1000/1000 [00:12<00:00, 79.93it/s]\n"
     ]
    },
    {
     "name": "stdout",
     "output_type": "stream",
     "text": [
      "Saved plot for epoch 43 to Gif/epoch_43.png\n",
      "Processing epoch 45...\n",
      "Inference time for epoch 45: 9.87 s\n"
     ]
    },
    {
     "name": "stderr",
     "output_type": "stream",
     "text": [
      "Epoch 45 cosine sims: 100%|█████████████████████████████████████████████████████████████████████████████████████████████████████████████████████████| 1000/1000 [00:12<00:00, 79.22it/s]\n"
     ]
    },
    {
     "name": "stdout",
     "output_type": "stream",
     "text": [
      "Saved plot for epoch 45 to Gif/epoch_45.png\n",
      "Processing epoch 47...\n",
      "Inference time for epoch 47: 9.87 s\n"
     ]
    },
    {
     "name": "stderr",
     "output_type": "stream",
     "text": [
      "Epoch 47 cosine sims: 100%|█████████████████████████████████████████████████████████████████████████████████████████████████████████████████████████| 1000/1000 [00:12<00:00, 79.52it/s]\n"
     ]
    },
    {
     "name": "stdout",
     "output_type": "stream",
     "text": [
      "Saved plot for epoch 47 to Gif/epoch_47.png\n",
      "Processing epoch 49...\n",
      "Inference time for epoch 49: 9.77 s\n"
     ]
    },
    {
     "name": "stderr",
     "output_type": "stream",
     "text": [
      "Epoch 49 cosine sims: 100%|█████████████████████████████████████████████████████████████████████████████████████████████████████████████████████████| 1000/1000 [00:12<00:00, 79.91it/s]\n"
     ]
    },
    {
     "name": "stdout",
     "output_type": "stream",
     "text": [
      "Saved plot for epoch 49 to Gif/epoch_49.png\n",
      "Processing epoch 51...\n",
      "Inference time for epoch 51: 9.83 s\n"
     ]
    },
    {
     "name": "stderr",
     "output_type": "stream",
     "text": [
      "Epoch 51 cosine sims: 100%|█████████████████████████████████████████████████████████████████████████████████████████████████████████████████████████| 1000/1000 [00:12<00:00, 79.92it/s]\n"
     ]
    },
    {
     "name": "stdout",
     "output_type": "stream",
     "text": [
      "Saved plot for epoch 51 to Gif/epoch_51.png\n",
      "Processing epoch 53...\n",
      "Inference time for epoch 53: 9.84 s\n"
     ]
    },
    {
     "name": "stderr",
     "output_type": "stream",
     "text": [
      "Epoch 53 cosine sims: 100%|█████████████████████████████████████████████████████████████████████████████████████████████████████████████████████████| 1000/1000 [00:12<00:00, 79.73it/s]\n"
     ]
    },
    {
     "name": "stdout",
     "output_type": "stream",
     "text": [
      "Saved plot for epoch 53 to Gif/epoch_53.png\n",
      "Processing epoch 55...\n",
      "Inference time for epoch 55: 9.87 s\n"
     ]
    },
    {
     "name": "stderr",
     "output_type": "stream",
     "text": [
      "Epoch 55 cosine sims: 100%|█████████████████████████████████████████████████████████████████████████████████████████████████████████████████████████| 1000/1000 [00:12<00:00, 79.72it/s]\n"
     ]
    },
    {
     "name": "stdout",
     "output_type": "stream",
     "text": [
      "Saved plot for epoch 55 to Gif/epoch_55.png\n",
      "Processing epoch 57...\n",
      "Inference time for epoch 57: 10.29 s\n"
     ]
    },
    {
     "name": "stderr",
     "output_type": "stream",
     "text": [
      "Epoch 57 cosine sims: 100%|█████████████████████████████████████████████████████████████████████████████████████████████████████████████████████████| 1000/1000 [00:12<00:00, 78.84it/s]\n"
     ]
    },
    {
     "name": "stdout",
     "output_type": "stream",
     "text": [
      "Saved plot for epoch 57 to Gif/epoch_57.png\n",
      "Processing epoch 59...\n",
      "Inference time for epoch 59: 10.37 s\n"
     ]
    },
    {
     "name": "stderr",
     "output_type": "stream",
     "text": [
      "Epoch 59 cosine sims: 100%|█████████████████████████████████████████████████████████████████████████████████████████████████████████████████████████| 1000/1000 [00:12<00:00, 79.83it/s]\n"
     ]
    },
    {
     "name": "stdout",
     "output_type": "stream",
     "text": [
      "Saved plot for epoch 59 to Gif/epoch_59.png\n",
      "Processing epoch 61...\n",
      "Inference time for epoch 61: 9.79 s\n"
     ]
    },
    {
     "name": "stderr",
     "output_type": "stream",
     "text": [
      "Epoch 61 cosine sims: 100%|█████████████████████████████████████████████████████████████████████████████████████████████████████████████████████████| 1000/1000 [00:12<00:00, 79.52it/s]\n"
     ]
    },
    {
     "name": "stdout",
     "output_type": "stream",
     "text": [
      "Saved plot for epoch 61 to Gif/epoch_61.png\n",
      "Processing epoch 63...\n",
      "Inference time for epoch 63: 10.36 s\n"
     ]
    },
    {
     "name": "stderr",
     "output_type": "stream",
     "text": [
      "Epoch 63 cosine sims: 100%|█████████████████████████████████████████████████████████████████████████████████████████████████████████████████████████| 1000/1000 [00:12<00:00, 79.49it/s]\n"
     ]
    },
    {
     "name": "stdout",
     "output_type": "stream",
     "text": [
      "Saved plot for epoch 63 to Gif/epoch_63.png\n",
      "Processing epoch 65...\n",
      "Inference time for epoch 65: 10.85 s\n"
     ]
    },
    {
     "name": "stderr",
     "output_type": "stream",
     "text": [
      "Epoch 65 cosine sims: 100%|█████████████████████████████████████████████████████████████████████████████████████████████████████████████████████████| 1000/1000 [00:12<00:00, 80.98it/s]\n"
     ]
    },
    {
     "name": "stdout",
     "output_type": "stream",
     "text": [
      "Saved plot for epoch 65 to Gif/epoch_65.png\n",
      "Processing epoch 67...\n",
      "Inference time for epoch 67: 10.39 s\n"
     ]
    },
    {
     "name": "stderr",
     "output_type": "stream",
     "text": [
      "Epoch 67 cosine sims: 100%|█████████████████████████████████████████████████████████████████████████████████████████████████████████████████████████| 1000/1000 [00:12<00:00, 80.32it/s]\n"
     ]
    },
    {
     "name": "stdout",
     "output_type": "stream",
     "text": [
      "Saved plot for epoch 67 to Gif/epoch_67.png\n",
      "Processing epoch 69...\n",
      "Inference time for epoch 69: 9.92 s\n"
     ]
    },
    {
     "name": "stderr",
     "output_type": "stream",
     "text": [
      "Epoch 69 cosine sims: 100%|█████████████████████████████████████████████████████████████████████████████████████████████████████████████████████████| 1000/1000 [00:12<00:00, 78.44it/s]\n"
     ]
    },
    {
     "name": "stdout",
     "output_type": "stream",
     "text": [
      "Saved plot for epoch 69 to Gif/epoch_69.png\n",
      "Processing epoch 71...\n",
      "Inference time for epoch 71: 10.13 s\n"
     ]
    },
    {
     "name": "stderr",
     "output_type": "stream",
     "text": [
      "Epoch 71 cosine sims: 100%|█████████████████████████████████████████████████████████████████████████████████████████████████████████████████████████| 1000/1000 [00:12<00:00, 80.96it/s]\n"
     ]
    },
    {
     "name": "stdout",
     "output_type": "stream",
     "text": [
      "Saved plot for epoch 71 to Gif/epoch_71.png\n",
      "Processing epoch 73...\n",
      "Inference time for epoch 73: 9.99 s\n"
     ]
    },
    {
     "name": "stderr",
     "output_type": "stream",
     "text": [
      "Epoch 73 cosine sims: 100%|█████████████████████████████████████████████████████████████████████████████████████████████████████████████████████████| 1000/1000 [00:12<00:00, 80.47it/s]\n"
     ]
    },
    {
     "name": "stdout",
     "output_type": "stream",
     "text": [
      "Saved plot for epoch 73 to Gif/epoch_73.png\n"
     ]
    }
   ],
   "source": [
    "import os\n",
    "import time\n",
    "import torch\n",
    "import numpy as np\n",
    "import torch.nn.functional as F\n",
    "import matplotlib.pyplot as plt\n",
    "from tqdm import tqdm\n",
    "from torch_geometric.nn import knn_graph\n",
    "\n",
    "# Function to compute cosine similarities for a set of edge indices.\n",
    "def compute_cosine_similarities(embeddings, edge_indices, skip_self=True):\n",
    "    sims = []\n",
    "    for edge in edge_indices:\n",
    "        src, tgt = edge.tolist()\n",
    "        if skip_self and src == tgt:\n",
    "            continue\n",
    "        sim = F.cosine_similarity(embeddings[src].unsqueeze(0),\n",
    "                                  embeddings[tgt].unsqueeze(0))\n",
    "        sims.append(sim.item())\n",
    "    return np.array(sims)\n",
    "\n",
    "# Create the output directory if it does not exist.\n",
    "gif_dir = \"Gif\"\n",
    "os.makedirs(gif_dir, exist_ok=True)\n",
    "\n",
    "# Instantiate your model once.\n",
    "model = Net_SEC(hidden_dim=128, num_layers=4, dropout=0.3, contrastive_dim=128)\n",
    "\n",
    "# Number of events to process per epoch.\n",
    "num_events = 1000\n",
    "\n",
    "# Loop over epochs: every other epoch from 1 to 73.\n",
    "for epoch in range(1, 30,1):\n",
    "    print(f\"Processing epoch {epoch}...\")\n",
    "    \n",
    "    # Construct the checkpoint path (adjust if needed).\n",
    "    checkpoint_path = f'/vols/cms/mm1221/hgcal/Mixed/Track/NegativeMining/runs/SEC/hd128_nl4_cd128_lr0.0005/epoch-{epoch}.pt'\n",
    "    \n",
    "    # Load the checkpoint and update the model.\n",
    "    checkpoint = torch.load(checkpoint_path, map_location=torch.device('cpu'))\n",
    "    model.load_state_dict(checkpoint['model'])\n",
    "    model.eval()\n",
    "    \n",
    "    all_predictions = []\n",
    "    start_time = time.time()\n",
    "    \n",
    "    # Run predictions on the test data.\n",
    "    for i, data in enumerate(data_test):\n",
    "        if i >= num_events:\n",
    "            break\n",
    "        edge_index = knn_graph(data.x, k=16)\n",
    "        predictions = model(data.x, edge_index, 1)\n",
    "        all_predictions.append(predictions[0].detach().cpu().numpy())\n",
    "    \n",
    "    all_predictions = np.array(all_predictions)\n",
    "    end_time = time.time()\n",
    "    print(f\"Inference time for epoch {epoch}: {end_time - start_time:.2f} s\")\n",
    "    \n",
    "    # Compute cosine similarities.\n",
    "    all_pos_sims = []\n",
    "    all_neg_sims = []\n",
    "    \n",
    "    for i in tqdm(range(num_events), desc=f\"Epoch {epoch} cosine sims\"):\n",
    "        pred_tensor = torch.tensor(all_predictions[i], dtype=torch.float32)\n",
    "        pred_norm = F.normalize(pred_tensor, p=2, dim=1)\n",
    "        \n",
    "        pos_sims = compute_cosine_similarities(pred_norm, data_test[i].x_pe, skip_self=True)\n",
    "        neg_sims = compute_cosine_similarities(pred_norm, data_test[i].x_ne, skip_self=True)\n",
    "        \n",
    "        all_pos_sims.extend(pos_sims.tolist())\n",
    "        all_neg_sims.extend(neg_sims.tolist())\n",
    "    \n",
    "    all_pos_sims = np.array(all_pos_sims)\n",
    "    all_neg_sims = np.array(all_neg_sims)\n",
    "    \n",
    "    mean_pos_sim = np.mean(all_pos_sims)\n",
    "    mean_neg_sim = np.mean(all_neg_sims)\n",
    "    \n",
    "    # Plot the histograms.\n",
    "    plt.figure(figsize=(12, 6))\n",
    "    # Positive pairs in orange.\n",
    "    plt.hist(all_pos_sims, bins=50, alpha=0.7, label=\"Positive Pairs\", color='tab:orange')\n",
    "    # Negative pairs in blue.\n",
    "    plt.hist(all_neg_sims, bins=50, alpha=0.7, label=\"Negative Pairs\", color='tab:blue')\n",
    "    \n",
    "    # Fix the x-axis from -1 to 1.\n",
    "    plt.xlim([-1, 1])\n",
    "    # Fix the y-axis to a constant range (adjust the upper limit as needed).\n",
    "    plt.ylim(0, 250)\n",
    "    \n",
    "    plt.xlabel(\"Cosine Similarity\")\n",
    "    # Remove y-axis label and ticks.\n",
    "    plt.ylabel(\"\")\n",
    "    plt.yticks([])\n",
    "    plt.legend(loc='upper right')\n",
    "    \n",
    "    # Save the plot to the Gif folder.\n",
    "    save_path = os.path.join(gif_dir, f\"epoch_{epoch}.png\")\n",
    "    plt.savefig(save_path)\n",
    "    plt.close()\n",
    "    print(f\"Saved plot for epoch {epoch} to {save_path}\")\n"
   ]
  },
  {
   "cell_type": "code",
   "execution_count": 30,
   "id": "a63e9df1",
   "metadata": {},
   "outputs": [
    {
     "name": "stderr",
     "output_type": "stream",
     "text": [
      "/tmp/ipykernel_2148923/2554933103.py:10: DeprecationWarning: Starting with ImageIO v3 the behavior of this function will switch to that of iio.v3.imread. To keep the current behavior (and make this warning disappear) use `import imageio.v2 as imageio` or call `imageio.v2.imread` directly.\n",
      "  images = [imageio.imread(filename) for filename in filenames]\n"
     ]
    },
    {
     "name": "stdout",
     "output_type": "stream",
     "text": [
      "GIF saved as animation.gif\n"
     ]
    }
   ],
   "source": [
    "import imageio\n",
    "import os\n",
    "\n",
    "# Folder where your PNG files are stored.\n",
    "folder = 'Gif'\n",
    "# Get list of PNG files sorted in order.\n",
    "filenames = sorted([os.path.join(folder, f) for f in os.listdir(folder) if f.endswith('.png')])\n",
    "\n",
    "# Read images into a list.\n",
    "images = [imageio.imread(filename) for filename in filenames]\n",
    "\n",
    "# Save the images as a GIF.\n",
    "gif_path = 'animation.gif'\n",
    "# 'duration' is the time between frames in seconds.\n",
    "imageio.mimsave(gif_path, images, duration=0.5)\n",
    "\n",
    "print(f\"GIF saved as {gif_path}\")\n"
   ]
  },
  {
   "cell_type": "code",
   "execution_count": null,
   "id": "9eefc81b",
   "metadata": {},
   "outputs": [],
   "source": []
  }
 ],
 "metadata": {
  "kernelspec": {
   "display_name": "Python 3 (ipykernel)",
   "language": "python",
   "name": "python3"
  },
  "language_info": {
   "codemirror_mode": {
    "name": "ipython",
    "version": 3
   },
   "file_extension": ".py",
   "mimetype": "text/x-python",
   "name": "python",
   "nbconvert_exporter": "python",
   "pygments_lexer": "ipython3",
   "version": "3.9.12"
  }
 },
 "nbformat": 4,
 "nbformat_minor": 5
}
