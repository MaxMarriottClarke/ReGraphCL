{
 "cells": [
  {
   "cell_type": "code",
   "execution_count": 1,
   "id": "46446a4a",
   "metadata": {},
   "outputs": [],
   "source": [
    "#0: imports\n",
    "\n",
    "import uproot \n",
    "import numpy as np\n",
    "import pandas as pd\n",
    "import matplotlib.pyplot as plt\n",
    "import torch\n",
    "\n",
    "from imports.data import CCV3\n",
    "from torch_geometric.data import DataLoader \n",
    "from imports.models import Net_DE, Net_GAT, Net_Trans\n",
    "from torch_geometric.nn import knn_graph\n",
    "\n",
    "import numpy as np\n",
    "import awkward as ak\n",
    "import time\n",
    "from imports.Agglomerative import Aggloremative\n",
    "\n",
    "import warnings\n",
    "warnings.filterwarnings(\"ignore\", category=np.VisibleDeprecationWarning)"
   ]
  },
  {
   "cell_type": "code",
   "execution_count": 2,
   "id": "b76f3197",
   "metadata": {},
   "outputs": [
    {
     "name": "stdout",
     "output_type": "stream",
     "text": [
      "### Loading data\n"
     ]
    },
    {
     "name": "stderr",
     "output_type": "stream",
     "text": [
      "  0%|                                                                                                                 | 0/1 [00:40<?, ?it/s]\n",
      "/cvmfs/sft.cern.ch/lcg/views/LCG_105a_cuda/x86_64-el9-gcc11-opt/lib/python3.9/site-packages/torch_geometric/deprecation.py:22: UserWarning: 'data.DataLoader' is deprecated, use 'loader.DataLoader' instead\n",
      "  warnings.warn(out)\n"
     ]
    },
    {
     "name": "stdout",
     "output_type": "stream",
     "text": [
      "Reached 500!\n",
      "### Loading data\n"
     ]
    },
    {
     "name": "stderr",
     "output_type": "stream",
     "text": [
      "  0%|                                                                                                                 | 0/1 [00:37<?, ?it/s]"
     ]
    },
    {
     "name": "stdout",
     "output_type": "stream",
     "text": [
      "Reached 500!\n"
     ]
    },
    {
     "name": "stderr",
     "output_type": "stream",
     "text": [
      "\n"
     ]
    }
   ],
   "source": [
    "Ppath = '/vols/cms/mm1221/Data/100k/5pi/test/'\n",
    "Epath = '/vols/cms/mm1221/Data/100k/5e/test/'\n",
    "# Load test data\n",
    "data_P = CCV3(Ppath, max_events=500)\n",
    "P_loader = DataLoader(data_P, batch_size=1, shuffle=False, follow_batch=['x'])\n",
    "\n",
    "data_E = CCV3(Epath, max_events=500)\n",
    "E_loader = DataLoader(data_E, batch_size=1, shuffle=False, follow_batch=['x'])\n"
   ]
  },
  {
   "cell_type": "code",
   "execution_count": 3,
   "id": "c35b0b8e",
   "metadata": {},
   "outputs": [],
   "source": [
    "import uproot\n",
    "\n",
    "# Define the file paths\n",
    "data_Ep_path = '/vols/cms/mm1221/Data/100k/5e/test/raw/test.root'  # electron file\n",
    "data_Pp_path = '/vols/cms/mm1221/Data/100k/5pi/test/raw/test.root'  # pion file\n",
    "\n",
    "# Open the ROOT files using uproot\n",
    "file_Ep = uproot.open(data_Ep_path)\n",
    "file_Pp = uproot.open(data_Pp_path)\n",
    "\n",
    "# Load the branches for electrons (data_Ep)\n",
    "GT_ind_Ep   = file_Ep['simtrackstersCP']['vertices_indexes'].array()\n",
    "GT_mult_Ep  = file_Ep['simtrackstersCP']['vertices_multiplicity'].array()\n",
    "energies_Ep = file_Ep['clusters']['energy'].array()\n",
    "LC_x_Ep     = file_Ep['clusters']['position_x'].array()\n",
    "\n",
    "# Load the branches for pions (data_Pp)\n",
    "GT_ind_Pp   = file_Pp['simtrackstersCP']['vertices_indexes'].array()\n",
    "GT_mult_Pp  = file_Pp['simtrackstersCP']['vertices_multiplicity'].array()\n",
    "energies_Pp = file_Pp['clusters']['energy'].array()\n",
    "\n",
    "LC_x_Pp     = file_Ep['clusters']['position_x'].array()\n",
    "\n",
    "# Create a skim mask to filter out events with 0 calorimeter particles (for electrons)\n",
    "skim_mask_Ep = [len(e) >= 1 for e in LC_x_Ep]\n",
    "\n",
    "# Apply the skim mask to filter the electron arrays\n",
    "GT_ind_Ep   = GT_ind_Ep[skim_mask_Ep]\n",
    "GT_mult_Ep  = GT_mult_Ep[skim_mask_Ep]\n",
    "energies_Ep = energies_Ep[skim_mask_Ep]\n",
    "\n",
    "\n",
    "# Create a skim mask for pions\n",
    "skim_mask_Pp = [len(e) >= 1 for e in LC_x_Pp]\n",
    "\n",
    "# Apply the skim mask to filter the pion arrays\n",
    "GT_ind_Pp   = GT_ind_Pp[skim_mask_Pp]\n",
    "GT_mult_Pp  = GT_mult_Pp[skim_mask_Pp]\n",
    "energies_Pp = energies_Pp[skim_mask_Pp]"
   ]
  },
  {
   "cell_type": "code",
   "execution_count": 4,
   "id": "d72df3e7",
   "metadata": {},
   "outputs": [],
   "source": [
    "import awkward as ak\n",
    "\n",
    "# ----- For pions -----\n",
    "\n",
    "\n",
    "# Initialize lists to store filtered results for pions\n",
    "filtered_GT_ind_P = []\n",
    "filtered_GT_mult_P = []\n",
    "\n",
    "# Loop over events for pions\n",
    "for event_idx, track_indices in enumerate(data_P.stsCP_vertices_indexes):\n",
    "    # Flatten the current event's track indices and convert to a set\n",
    "    track_flat = set(ak.flatten(track_indices).tolist())\n",
    "    \n",
    "    # Get the current event's GT arrays\n",
    "    event_GT_ind = GT_ind_Pp[event_idx]\n",
    "    event_GT_mult = GT_mult_Pp[event_idx]\n",
    "    \n",
    "    # Initialize lists for the filtered sublists in the current event\n",
    "    filtered_event_GT_ind = []\n",
    "    filtered_event_GT_mult = []\n",
    "    \n",
    "    # Loop over the sublists and filter using the track_flat set\n",
    "    for sublist_ind, sublist_mult in zip(event_GT_ind, event_GT_mult):\n",
    "        filtered_sublist_ind = [idx for idx in sublist_ind if idx in track_flat]\n",
    "        filtered_sublist_mult = [mult for idx, mult in zip(sublist_ind, sublist_mult) if idx in track_flat]\n",
    "        filtered_event_GT_ind.append(filtered_sublist_ind)\n",
    "        filtered_event_GT_mult.append(filtered_sublist_mult)\n",
    "    \n",
    "    # Append the filtered event arrays to the output lists for pions\n",
    "    filtered_GT_ind_P.append(filtered_event_GT_ind)\n",
    "    filtered_GT_mult_P.append(filtered_event_GT_mult)\n",
    "\n",
    "# Convert the filtered results back into awkward Arrays for pions\n",
    "GT_ind_filt_P = ak.Array(filtered_GT_ind_P)\n",
    "GT_mult_filt_P = ak.Array(filtered_GT_mult_P)\n",
    "\n",
    "# ----- For electrons -----\n",
    "\n",
    "# Initialize lists to store filtered results for electrons\n",
    "filtered_GT_ind_E = []\n",
    "filtered_GT_mult_E = []\n",
    "\n",
    "# Loop over events for electrons\n",
    "for event_idx, track_indices in enumerate(data_E.stsCP_vertices_indexes):\n",
    "\n",
    "    # Flatten the current event's track indices and convert to a set\n",
    "    track_flat = set(ak.flatten(track_indices).tolist())\n",
    "    \n",
    "    # Get the current event's GT arrays\n",
    "    event_GT_ind = GT_ind_Ep[event_idx]\n",
    "    event_GT_mult = GT_mult_Ep[event_idx]\n",
    "    \n",
    "    # Initialize lists for the filtered sublists in the current event\n",
    "    filtered_event_GT_ind = []\n",
    "    filtered_event_GT_mult = []\n",
    "    \n",
    "    # Loop over the sublists and filter using the track_flat set\n",
    "    for sublist_ind, sublist_mult in zip(event_GT_ind, event_GT_mult):\n",
    "        filtered_sublist_ind = [idx for idx in sublist_ind if idx in track_flat]\n",
    "        filtered_sublist_mult = [mult for idx, mult in zip(sublist_ind, sublist_mult) if idx in track_flat]\n",
    "        filtered_event_GT_ind.append(filtered_sublist_ind)\n",
    "        filtered_event_GT_mult.append(filtered_sublist_mult)\n",
    "    \n",
    "    # Append the filtered event arrays to the output lists for electrons\n",
    "    filtered_GT_ind_E.append(filtered_event_GT_ind)\n",
    "    filtered_GT_mult_E.append(filtered_event_GT_mult)\n",
    "\n",
    "# Convert the filtered results back into awkward Arrays for electrons\n",
    "GT_ind_filt_E = ak.Array(filtered_GT_ind_E)\n",
    "GT_mult_filt_E = ak.Array(filtered_GT_mult_E)\n"
   ]
  },
  {
   "cell_type": "code",
   "execution_count": 7,
   "id": "cbdfecc9",
   "metadata": {},
   "outputs": [
    {
     "data": {
      "text/plain": [
       "Net_Trans(\n",
       "  (lc_encode): Sequential(\n",
       "    (0): Linear(in_features=8, out_features=128, bias=True)\n",
       "    (1): ELU(alpha=1.0)\n",
       "    (2): Linear(in_features=128, out_features=128, bias=True)\n",
       "    (3): ELU(alpha=1.0)\n",
       "  )\n",
       "  (transformer_layers): ModuleList(\n",
       "    (0-2): 3 x TransformerConv(128, 128, heads=4)\n",
       "  )\n",
       "  (output): Sequential(\n",
       "    (0): Linear(in_features=128, out_features=64, bias=True)\n",
       "    (1): ELU(alpha=1.0)\n",
       "    (2): Dropout(p=0.3, inplace=False)\n",
       "    (3): Linear(in_features=64, out_features=32, bias=True)\n",
       "    (4): ELU(alpha=1.0)\n",
       "    (5): Dropout(p=0.3, inplace=False)\n",
       "    (6): Linear(in_features=32, out_features=16, bias=True)\n",
       "  )\n",
       ")"
      ]
     },
     "execution_count": 7,
     "metadata": {},
     "output_type": "execute_result"
    }
   ],
   "source": [
    "model = Net_Trans(128,3, dropout=0.3, contrastive_dim=16, num_heads=4)\n",
    "checkpoint= torch.load('/vols/cms/mm1221/hgcal/Mixed/LC/Full/runs/Trans/hd128nl3cd16nh4k32/best_model.pt',  map_location=torch.device('cpu'))\n",
    "#checkpoint= torch.load('/vols/cms/er421/hgcal/code/code/Mixed/LC/Full/results/hd128nl3cd16k64/epoch-100.pt',  map_location=torch.device('cpu'))\n",
    "model.load_state_dict(checkpoint)  \n",
    "model.eval()  \n"
   ]
  },
  {
   "cell_type": "code",
   "execution_count": 8,
   "id": "27a65350",
   "metadata": {},
   "outputs": [],
   "source": [
    "import time\n",
    "import numpy as np\n",
    "import matplotlib.pyplot as plt\n",
    "\n",
    "def calculate_metrics(df, model_name):\n",
    "    # ----- Efficiency Calculation -----\n",
    "    # Step 1: Filter out rows where 'cp_id' is NaN\n",
    "    cp_valid = df.dropna(subset=['cp_id']).copy()\n",
    "\n",
    "    # Step 2: Group by 'event_index' and 'cp_id' to proess each CaloParticle individually\n",
    "    cp_grouped = cp_valid.groupby(['event_index', 'cp_id'])\n",
    "\n",
    "    # Step 3: For each CaloParticle, check if any 'shared_energy' >= 50% of 'cp_raw_energy'\n",
    "    def is_cp_associated(group):\n",
    "        cp_raw_energy = group['cp_energy'].iloc[0]  # Assuming 'cp_raw_energy' is consistent within the group\n",
    "        threshold = 0.8 * cp_raw_energy\n",
    "        return (group['shared_energy'] >= threshold).any()\n",
    "\n",
    "    # Apply the association function to each group\n",
    "    cp_associated = cp_grouped.apply(is_cp_associated)\n",
    "\n",
    "    # Step 4: Calculate the number of associated CaloParticles and total CaloParticles\n",
    "    num_associated_cp = cp_associated.sum()\n",
    "    total_cp = cp_associated.count()\n",
    "    efficiency = num_associated_cp / total_cp if total_cp > 0 else 0\n",
    "\n",
    "    # ----- Purity Calculation -----\n",
    "    tst_valid = df.dropna(subset=['trackster_id']).copy()\n",
    "    tst_grouped = tst_valid.groupby(['event_index', 'trackster_id'])\n",
    "    tst_associated = tst_grouped['reco_to_sim_score'].min() < 0.2\n",
    "    num_associated_tst = tst_associated.sum()\n",
    "    total_tst = tst_associated.count()\n",
    "    purity = num_associated_tst / total_tst if total_tst > 0 else 0\n",
    "    \n",
    "    # ----- Ratio between num of tracksters to caloparticles Calculation -----\n",
    "    num_tracksters_ratio = total_tst / total_cp if total_cp > 0 else 0\n",
    "    \n",
    "    # Print results for the model\n",
    "    print(f\"\\nModel: {model_name}\")\n",
    "    print(f\"Efficiency: {efficiency:.4f} ({num_associated_cp} associated CPs out of {total_cp} total CPs)\")\n",
    "    print(f\"FR: {1 - purity:.4f} ({num_associated_tst} associated Tracksters out of {total_tst} total Tracksters)\")\n",
    "    print(f\"Num tracksters ratio: {num_tracksters_ratio}\")\n",
    "\n",
    "    return {\n",
    "        'efficiency': efficiency,\n",
    "        'purity': purity,\n",
    "        'Num_tracksters_ratio': num_tracksters_ratio,\n",
    "    }"
   ]
  },
  {
   "cell_type": "code",
   "execution_count": 9,
   "id": "5051023f",
   "metadata": {},
   "outputs": [],
   "source": [
    "from tqdm import tqdm\n",
    "def calculate_reco_to_sim_score_and_sharedE(ReconstructedTrackster, energies_indices, CaloParticle, calo_mult):\n",
    "    \"\"\"\n",
    "    Calculate the reco-to-sim score for a given ReconstructedTrackster and CaloParticle.\n",
    "\n",
    "    Parameters:\n",
    "    - ReconstructedTrackster: array of DetIds in the ReconstructedTrackster.\n",
    "    - energies_indices: array of energies associated with all DetIds (indexed by DetId).\n",
    "    - CaloParticle: array of DetIds in the CaloParticle.\n",
    "\n",
    "    Returns:\n",
    "    - reco_to_sim_score: the calculated reco-to-sim score.\n",
    "    \"\"\"\n",
    "    numerator = 0.0\n",
    "    denominator = 0.0\n",
    "    sharedEnergy = 0.0\n",
    "\n",
    "    # Iterate over all DetIds in the ReconstructedTrackster\n",
    "    for i, det_id in enumerate(ReconstructedTrackster):\n",
    "        energy_k = energies_indices[det_id]  # Energy for the current DetId in the Trackster\n",
    "        \n",
    "        # Fraction of energy in the Trackster (fr_k^TST)\n",
    "        fr_tst_k = 1 \n",
    "\n",
    "        #Fraction of energy in the caloparticle\n",
    "        if det_id in CaloParticle:\n",
    "            index = np.where(CaloParticle == det_id)[0][0]\n",
    "            fr_sc_k = 1 / calo_mult[index]\n",
    "            \n",
    "        else:\n",
    "            fr_sc_k = 0 # binary function also for CaloParticle\n",
    "            \n",
    "        # Update numerator using the min function\n",
    "        numerator += min(\n",
    "            (fr_tst_k - fr_sc_k) ** 2,  # First term in the min function\n",
    "            fr_tst_k ** 2               # Second term in the min function\n",
    "        ) * (energy_k ** 2)\n",
    "\n",
    "        # Update denominator\n",
    "        denominator += (fr_tst_k ** 2) * (energy_k ** 2)\n",
    "        \n",
    "        #shared_energy calculation\n",
    "        recosharedEnergy = energy_k * fr_tst_k\n",
    "        simsharedEnergy = energy_k * fr_sc_k\n",
    "        sharedEnergy += min(simsharedEnergy,recosharedEnergy)\n",
    "        \n",
    "        \n",
    "\n",
    "    # Calculate score\n",
    "    reco_to_sim_score = numerator / denominator if denominator != 0 else 1.0\n",
    "    return reco_to_sim_score, sharedEnergy\n",
    "\n",
    "\n",
    "def calculate_all_event_scores(GT_ind, GT_mult, energies, recon_ind,  num_events = 100):\n",
    "    \"\"\"\n",
    "    Calculate sim-to-reco and reco-to-sim scores for all CaloParticle and ReconstructedTrackster combinations across all events.\n",
    "\n",
    "    Parameters:\n",
    "    - GT_ind: List of CaloParticle indices for all events.\n",
    "    - energies: List of energy arrays for all events.\n",
    "    - recon_ind: List of ReconstructedTrackster indices for all events.\n",
    "    - LC_x, LC_y, LC_z, LC_eta: Lists of x, y, z positions and eta values for all DetIds across events.\n",
    "\n",
    "    Returns:\n",
    "    - DataFrame containing scores and additional features for each CaloParticle-Trackster combination across all events.\n",
    "    \"\"\"\n",
    "    # Initialize an empty list to store results\n",
    "    all_results = []\n",
    "\n",
    "    # Loop over all events with a progress bar\n",
    "    for event_index in tqdm(range(num_events)):\n",
    "        caloparticles = GT_ind[event_index]  # Indices for all CaloParticles in the event\n",
    "        tracksters = recon_ind[event_index]  # Indices for all ReconstructedTracksters in the event\n",
    "        event_energies = energies[event_index]  # Energies for this event\n",
    "        event_GT_mult = GT_mult[event_index]\n",
    "        \n",
    "        # Loop over all CaloParticles\n",
    "        for calo_idx, caloparticle in enumerate(caloparticles):\n",
    "            calo_mult = event_GT_mult[calo_idx]\n",
    "            cp_raw_energy_lc = event_energies[caloparticle] / calo_mult\n",
    "            cp_raw_energy = np.sum(cp_raw_energy_lc)\n",
    "\n",
    "            \n",
    "            for trackster_idx, trackster in enumerate(tracksters):\n",
    "\n",
    "                \n",
    "                # Calculate reco-to-sim score\n",
    "                reco_to_sim_score, shared_energy = calculate_reco_to_sim_score_and_sharedE(trackster, event_energies, caloparticle,calo_mult)\n",
    "                # Calculate trackster energy\n",
    "\n",
    "                # Append results\n",
    "                all_results.append({\n",
    "                    \"event_index\": event_index,\n",
    "                    \"cp_id\": calo_idx,\n",
    "                    \"trackster_id\": trackster_idx,\n",
    "                    \"reco_to_sim_score\": reco_to_sim_score,\n",
    "                    \"cp_energy\": cp_raw_energy,\n",
    "                    \"shared_energy\": shared_energy,\n",
    "                })\n",
    "\n",
    "    # Convert results to a DataFrame\n",
    "    df = pd.DataFrame(all_results)\n",
    "    return df"
   ]
  },
  {
   "cell_type": "code",
   "execution_count": 14,
   "id": "cf149775",
   "metadata": {},
   "outputs": [
    {
     "name": "stdout",
     "output_type": "stream",
     "text": [
      "\n",
      "[Electrons] Threshold = 0.000\n"
     ]
    },
    {
     "name": "stderr",
     "output_type": "stream",
     "text": [
      "100%|███████████████████████████████████████████████████████████████████████████████████████████████████████| 50/50 [00:16<00:00,  3.12it/s]\n"
     ]
    },
    {
     "name": "stdout",
     "output_type": "stream",
     "text": [
      "\n",
      "Model: Threshold 0.000\n",
      "Efficiency: 0.0000 (0 associated CPs out of 136 total CPs)\n",
      "FR: 0.0295 (8591 associated Tracksters out of 8852 total Tracksters)\n",
      "Num tracksters ratio: 65.08823529411765\n",
      "\n",
      "[Electrons] Threshold = 0.010\n"
     ]
    },
    {
     "name": "stderr",
     "output_type": "stream",
     "text": [
      "100%|███████████████████████████████████████████████████████████████████████████████████████████████████████| 50/50 [00:13<00:00,  3.81it/s]\n"
     ]
    },
    {
     "name": "stdout",
     "output_type": "stream",
     "text": [
      "\n",
      "Model: Threshold 0.010\n",
      "Efficiency: 0.6912 (94 associated CPs out of 136 total CPs)\n",
      "FR: 0.1492 (1152 associated Tracksters out of 1354 total Tracksters)\n",
      "Num tracksters ratio: 9.955882352941176\n",
      "\n",
      "[Electrons] Threshold = 0.020\n"
     ]
    },
    {
     "name": "stderr",
     "output_type": "stream",
     "text": [
      "100%|███████████████████████████████████████████████████████████████████████████████████████████████████████| 50/50 [00:12<00:00,  3.88it/s]\n"
     ]
    },
    {
     "name": "stdout",
     "output_type": "stream",
     "text": [
      "\n",
      "Model: Threshold 0.020\n",
      "Efficiency: 0.8088 (110 associated CPs out of 136 total CPs)\n",
      "FR: 0.1895 (650 associated Tracksters out of 802 total Tracksters)\n",
      "Num tracksters ratio: 5.897058823529412\n",
      "\n",
      "[Electrons] Threshold = 0.030\n"
     ]
    },
    {
     "name": "stderr",
     "output_type": "stream",
     "text": [
      "100%|███████████████████████████████████████████████████████████████████████████████████████████████████████| 50/50 [00:11<00:00,  4.22it/s]\n"
     ]
    },
    {
     "name": "stdout",
     "output_type": "stream",
     "text": [
      "\n",
      "Model: Threshold 0.030\n",
      "Efficiency: 0.8529 (116 associated CPs out of 136 total CPs)\n",
      "FR: 0.2285 (439 associated Tracksters out of 569 total Tracksters)\n",
      "Num tracksters ratio: 4.1838235294117645\n",
      "\n",
      "[Electrons] Threshold = 0.040\n"
     ]
    },
    {
     "name": "stderr",
     "output_type": "stream",
     "text": [
      "100%|███████████████████████████████████████████████████████████████████████████████████████████████████████| 50/50 [00:11<00:00,  4.28it/s]\n"
     ]
    },
    {
     "name": "stdout",
     "output_type": "stream",
     "text": [
      "\n",
      "Model: Threshold 0.040\n",
      "Efficiency: 0.8750 (119 associated CPs out of 136 total CPs)\n",
      "FR: 0.2511 (337 associated Tracksters out of 450 total Tracksters)\n",
      "Num tracksters ratio: 3.3088235294117645\n",
      "\n",
      "[Electrons] Threshold = 0.050\n"
     ]
    },
    {
     "name": "stderr",
     "output_type": "stream",
     "text": [
      "100%|███████████████████████████████████████████████████████████████████████████████████████████████████████| 50/50 [00:12<00:00,  4.14it/s]\n"
     ]
    },
    {
     "name": "stdout",
     "output_type": "stream",
     "text": [
      "\n",
      "Model: Threshold 0.050\n",
      "Efficiency: 0.8824 (120 associated CPs out of 136 total CPs)\n",
      "FR: 0.2668 (272 associated Tracksters out of 371 total Tracksters)\n",
      "Num tracksters ratio: 2.7279411764705883\n",
      "\n",
      "[Electrons] Threshold = 0.060\n"
     ]
    },
    {
     "name": "stderr",
     "output_type": "stream",
     "text": [
      "100%|███████████████████████████████████████████████████████████████████████████████████████████████████████| 50/50 [00:12<00:00,  4.11it/s]\n"
     ]
    },
    {
     "name": "stdout",
     "output_type": "stream",
     "text": [
      "\n",
      "Model: Threshold 0.060\n",
      "Efficiency: 0.9044 (123 associated CPs out of 136 total CPs)\n",
      "FR: 0.2516 (241 associated Tracksters out of 322 total Tracksters)\n",
      "Num tracksters ratio: 2.3676470588235294\n",
      "\n",
      "[Electrons] Threshold = 0.070\n"
     ]
    },
    {
     "name": "stderr",
     "output_type": "stream",
     "text": [
      "100%|███████████████████████████████████████████████████████████████████████████████████████████████████████| 50/50 [00:11<00:00,  4.33it/s]\n"
     ]
    },
    {
     "name": "stdout",
     "output_type": "stream",
     "text": [
      "\n",
      "Model: Threshold 0.070\n",
      "Efficiency: 0.9044 (123 associated CPs out of 136 total CPs)\n",
      "FR: 0.2526 (213 associated Tracksters out of 285 total Tracksters)\n",
      "Num tracksters ratio: 2.0955882352941178\n",
      "\n",
      "[Electrons] Threshold = 0.080\n"
     ]
    },
    {
     "name": "stderr",
     "output_type": "stream",
     "text": [
      "100%|███████████████████████████████████████████████████████████████████████████████████████████████████████| 50/50 [00:11<00:00,  4.32it/s]\n"
     ]
    },
    {
     "name": "stdout",
     "output_type": "stream",
     "text": [
      "\n",
      "Model: Threshold 0.080\n",
      "Efficiency: 0.9191 (125 associated CPs out of 136 total CPs)\n",
      "FR: 0.2305 (197 associated Tracksters out of 256 total Tracksters)\n",
      "Num tracksters ratio: 1.8823529411764706\n",
      "\n",
      "[Electrons] Threshold = 0.090\n"
     ]
    },
    {
     "name": "stderr",
     "output_type": "stream",
     "text": [
      "100%|███████████████████████████████████████████████████████████████████████████████████████████████████████| 50/50 [00:12<00:00,  4.13it/s]\n"
     ]
    },
    {
     "name": "stdout",
     "output_type": "stream",
     "text": [
      "\n",
      "Model: Threshold 0.090\n",
      "Efficiency: 0.9412 (128 associated CPs out of 136 total CPs)\n",
      "FR: 0.2035 (180 associated Tracksters out of 226 total Tracksters)\n",
      "Num tracksters ratio: 1.661764705882353\n",
      "\n",
      "[Electrons] Threshold = 0.100\n"
     ]
    },
    {
     "name": "stderr",
     "output_type": "stream",
     "text": [
      "100%|███████████████████████████████████████████████████████████████████████████████████████████████████████| 50/50 [00:11<00:00,  4.31it/s]\n"
     ]
    },
    {
     "name": "stdout",
     "output_type": "stream",
     "text": [
      "\n",
      "Model: Threshold 0.100\n",
      "Efficiency: 0.9412 (128 associated CPs out of 136 total CPs)\n",
      "FR: 0.1891 (163 associated Tracksters out of 201 total Tracksters)\n",
      "Num tracksters ratio: 1.4779411764705883\n",
      "\n",
      "[Electrons] Threshold = 0.110\n"
     ]
    },
    {
     "name": "stderr",
     "output_type": "stream",
     "text": [
      "100%|███████████████████████████████████████████████████████████████████████████████████████████████████████| 50/50 [00:12<00:00,  4.16it/s]\n"
     ]
    },
    {
     "name": "stdout",
     "output_type": "stream",
     "text": [
      "\n",
      "Model: Threshold 0.110\n",
      "Efficiency: 0.9485 (129 associated CPs out of 136 total CPs)\n",
      "FR: 0.1902 (149 associated Tracksters out of 184 total Tracksters)\n",
      "Num tracksters ratio: 1.3529411764705883\n",
      "\n",
      "[Electrons] Threshold = 0.120\n"
     ]
    },
    {
     "name": "stderr",
     "output_type": "stream",
     "text": [
      "100%|███████████████████████████████████████████████████████████████████████████████████████████████████████| 50/50 [00:11<00:00,  4.18it/s]\n"
     ]
    },
    {
     "name": "stdout",
     "output_type": "stream",
     "text": [
      "\n",
      "Model: Threshold 0.120\n",
      "Efficiency: 0.9485 (129 associated CPs out of 136 total CPs)\n",
      "FR: 0.1798 (146 associated Tracksters out of 178 total Tracksters)\n",
      "Num tracksters ratio: 1.3088235294117647\n",
      "\n",
      "[Electrons] Threshold = 0.130\n"
     ]
    },
    {
     "name": "stderr",
     "output_type": "stream",
     "text": [
      "100%|███████████████████████████████████████████████████████████████████████████████████████████████████████| 50/50 [00:11<00:00,  4.30it/s]\n"
     ]
    },
    {
     "name": "stdout",
     "output_type": "stream",
     "text": [
      "\n",
      "Model: Threshold 0.130\n",
      "Efficiency: 0.9632 (131 associated CPs out of 136 total CPs)\n",
      "FR: 0.1758 (136 associated Tracksters out of 165 total Tracksters)\n",
      "Num tracksters ratio: 1.213235294117647\n",
      "\n",
      "[Electrons] Threshold = 0.140\n"
     ]
    },
    {
     "name": "stderr",
     "output_type": "stream",
     "text": [
      "100%|███████████████████████████████████████████████████████████████████████████████████████████████████████| 50/50 [00:11<00:00,  4.32it/s]\n"
     ]
    },
    {
     "name": "stdout",
     "output_type": "stream",
     "text": [
      "\n",
      "Model: Threshold 0.140\n",
      "Efficiency: 0.9632 (131 associated CPs out of 136 total CPs)\n",
      "FR: 0.1634 (128 associated Tracksters out of 153 total Tracksters)\n",
      "Num tracksters ratio: 1.125\n",
      "\n",
      "[Electrons] Threshold = 0.150\n"
     ]
    },
    {
     "name": "stderr",
     "output_type": "stream",
     "text": [
      "100%|███████████████████████████████████████████████████████████████████████████████████████████████████████| 50/50 [00:11<00:00,  4.29it/s]\n"
     ]
    },
    {
     "name": "stdout",
     "output_type": "stream",
     "text": [
      "\n",
      "Model: Threshold 0.150\n",
      "Efficiency: 0.9706 (132 associated CPs out of 136 total CPs)\n",
      "FR: 0.1678 (124 associated Tracksters out of 149 total Tracksters)\n",
      "Num tracksters ratio: 1.0955882352941178\n",
      "\n",
      "[Electrons] Threshold = 0.160\n"
     ]
    },
    {
     "name": "stderr",
     "output_type": "stream",
     "text": [
      "100%|███████████████████████████████████████████████████████████████████████████████████████████████████████| 50/50 [00:12<00:00,  4.11it/s]\n"
     ]
    },
    {
     "name": "stdout",
     "output_type": "stream",
     "text": [
      "\n",
      "Model: Threshold 0.160\n",
      "Efficiency: 0.9706 (132 associated CPs out of 136 total CPs)\n",
      "FR: 0.1620 (119 associated Tracksters out of 142 total Tracksters)\n",
      "Num tracksters ratio: 1.0441176470588236\n",
      "\n",
      "[Electrons] Threshold = 0.170\n"
     ]
    },
    {
     "name": "stderr",
     "output_type": "stream",
     "text": [
      "100%|███████████████████████████████████████████████████████████████████████████████████████████████████████| 50/50 [00:11<00:00,  4.18it/s]\n"
     ]
    },
    {
     "name": "stdout",
     "output_type": "stream",
     "text": [
      "\n",
      "Model: Threshold 0.170\n",
      "Efficiency: 0.9706 (132 associated CPs out of 136 total CPs)\n",
      "FR: 0.1655 (116 associated Tracksters out of 139 total Tracksters)\n",
      "Num tracksters ratio: 1.0220588235294117\n",
      "\n",
      "[Electrons] Threshold = 0.180\n"
     ]
    },
    {
     "name": "stderr",
     "output_type": "stream",
     "text": [
      "100%|███████████████████████████████████████████████████████████████████████████████████████████████████████| 50/50 [00:11<00:00,  4.26it/s]\n"
     ]
    },
    {
     "name": "stdout",
     "output_type": "stream",
     "text": [
      "\n",
      "Model: Threshold 0.180\n",
      "Efficiency: 0.9706 (132 associated CPs out of 136 total CPs)\n",
      "FR: 0.1691 (113 associated Tracksters out of 136 total Tracksters)\n",
      "Num tracksters ratio: 1.0\n",
      "\n",
      "[Electrons] Threshold = 0.190\n"
     ]
    },
    {
     "name": "stderr",
     "output_type": "stream",
     "text": [
      "100%|███████████████████████████████████████████████████████████████████████████████████████████████████████| 50/50 [00:11<00:00,  4.39it/s]\n"
     ]
    },
    {
     "name": "stdout",
     "output_type": "stream",
     "text": [
      "\n",
      "Model: Threshold 0.190\n",
      "Efficiency: 0.9706 (132 associated CPs out of 136 total CPs)\n",
      "FR: 0.1473 (110 associated Tracksters out of 129 total Tracksters)\n",
      "Num tracksters ratio: 0.9485294117647058\n",
      "\n",
      "[Electrons] Threshold = 0.200\n"
     ]
    },
    {
     "name": "stderr",
     "output_type": "stream",
     "text": [
      "100%|███████████████████████████████████████████████████████████████████████████████████████████████████████| 50/50 [00:12<00:00,  3.92it/s]\n"
     ]
    },
    {
     "name": "stdout",
     "output_type": "stream",
     "text": [
      "\n",
      "Model: Threshold 0.200\n",
      "Efficiency: 0.9779 (133 associated CPs out of 136 total CPs)\n",
      "FR: 0.1280 (109 associated Tracksters out of 125 total Tracksters)\n",
      "Num tracksters ratio: 0.9191176470588235\n",
      "\n",
      "[Electrons] Threshold = 0.210\n"
     ]
    },
    {
     "name": "stderr",
     "output_type": "stream",
     "text": [
      "100%|███████████████████████████████████████████████████████████████████████████████████████████████████████| 50/50 [00:12<00:00,  3.89it/s]\n"
     ]
    },
    {
     "name": "stdout",
     "output_type": "stream",
     "text": [
      "\n",
      "Model: Threshold 0.210\n",
      "Efficiency: 0.9853 (134 associated CPs out of 136 total CPs)\n",
      "FR: 0.1417 (103 associated Tracksters out of 120 total Tracksters)\n",
      "Num tracksters ratio: 0.8823529411764706\n",
      "\n",
      "[Electrons] Threshold = 0.220\n"
     ]
    },
    {
     "name": "stderr",
     "output_type": "stream",
     "text": [
      "100%|███████████████████████████████████████████████████████████████████████████████████████████████████████| 50/50 [00:12<00:00,  4.03it/s]\n"
     ]
    },
    {
     "name": "stdout",
     "output_type": "stream",
     "text": [
      "\n",
      "Model: Threshold 0.220\n",
      "Efficiency: 0.9926 (135 associated CPs out of 136 total CPs)\n",
      "FR: 0.1379 (100 associated Tracksters out of 116 total Tracksters)\n",
      "Num tracksters ratio: 0.8529411764705882\n",
      "\n",
      "[Electrons] Threshold = 0.230\n"
     ]
    },
    {
     "name": "stderr",
     "output_type": "stream",
     "text": [
      "100%|███████████████████████████████████████████████████████████████████████████████████████████████████████| 50/50 [00:12<00:00,  3.98it/s]\n"
     ]
    },
    {
     "name": "stdout",
     "output_type": "stream",
     "text": [
      "\n",
      "Model: Threshold 0.230\n",
      "Efficiency: 1.0000 (136 associated CPs out of 136 total CPs)\n",
      "FR: 0.1416 (97 associated Tracksters out of 113 total Tracksters)\n",
      "Num tracksters ratio: 0.8308823529411765\n",
      "\n",
      "[Electrons] Threshold = 0.240\n"
     ]
    },
    {
     "name": "stderr",
     "output_type": "stream",
     "text": [
      "100%|███████████████████████████████████████████████████████████████████████████████████████████████████████| 50/50 [00:11<00:00,  4.25it/s]\n"
     ]
    },
    {
     "name": "stdout",
     "output_type": "stream",
     "text": [
      "\n",
      "Model: Threshold 0.240\n",
      "Efficiency: 1.0000 (136 associated CPs out of 136 total CPs)\n",
      "FR: 0.1364 (95 associated Tracksters out of 110 total Tracksters)\n",
      "Num tracksters ratio: 0.8088235294117647\n",
      "\n",
      "[Electrons] Threshold = 0.250\n"
     ]
    },
    {
     "name": "stderr",
     "output_type": "stream",
     "text": [
      "100%|███████████████████████████████████████████████████████████████████████████████████████████████████████| 50/50 [00:12<00:00,  3.89it/s]\n"
     ]
    },
    {
     "name": "stdout",
     "output_type": "stream",
     "text": [
      "\n",
      "Model: Threshold 0.250\n",
      "Efficiency: 1.0000 (136 associated CPs out of 136 total CPs)\n",
      "FR: 0.1389 (93 associated Tracksters out of 108 total Tracksters)\n",
      "Num tracksters ratio: 0.7941176470588235\n",
      "\n",
      "[Electrons] Threshold = 0.260\n"
     ]
    },
    {
     "name": "stderr",
     "output_type": "stream",
     "text": [
      "100%|███████████████████████████████████████████████████████████████████████████████████████████████████████| 50/50 [00:12<00:00,  3.85it/s]\n"
     ]
    },
    {
     "name": "stdout",
     "output_type": "stream",
     "text": [
      "\n",
      "Model: Threshold 0.260\n",
      "Efficiency: 1.0000 (136 associated CPs out of 136 total CPs)\n",
      "FR: 0.1429 (90 associated Tracksters out of 105 total Tracksters)\n",
      "Num tracksters ratio: 0.7720588235294118\n",
      "\n",
      "[Electrons] Threshold = 0.270\n"
     ]
    },
    {
     "name": "stderr",
     "output_type": "stream",
     "text": [
      "100%|███████████████████████████████████████████████████████████████████████████████████████████████████████| 50/50 [00:13<00:00,  3.83it/s]\n"
     ]
    },
    {
     "name": "stdout",
     "output_type": "stream",
     "text": [
      "\n",
      "Model: Threshold 0.270\n",
      "Efficiency: 1.0000 (136 associated CPs out of 136 total CPs)\n",
      "FR: 0.1429 (90 associated Tracksters out of 105 total Tracksters)\n",
      "Num tracksters ratio: 0.7720588235294118\n",
      "\n",
      "[Electrons] Threshold = 0.280\n"
     ]
    },
    {
     "name": "stderr",
     "output_type": "stream",
     "text": [
      "100%|███████████████████████████████████████████████████████████████████████████████████████████████████████| 50/50 [00:12<00:00,  4.02it/s]\n"
     ]
    },
    {
     "name": "stdout",
     "output_type": "stream",
     "text": [
      "\n",
      "Model: Threshold 0.280\n",
      "Efficiency: 1.0000 (136 associated CPs out of 136 total CPs)\n",
      "FR: 0.1569 (86 associated Tracksters out of 102 total Tracksters)\n",
      "Num tracksters ratio: 0.75\n",
      "\n",
      "[Electrons] Threshold = 0.290\n"
     ]
    },
    {
     "name": "stderr",
     "output_type": "stream",
     "text": [
      "100%|███████████████████████████████████████████████████████████████████████████████████████████████████████| 50/50 [00:11<00:00,  4.51it/s]\n"
     ]
    },
    {
     "name": "stdout",
     "output_type": "stream",
     "text": [
      "\n",
      "Model: Threshold 0.290\n",
      "Efficiency: 1.0000 (136 associated CPs out of 136 total CPs)\n",
      "FR: 0.1569 (86 associated Tracksters out of 102 total Tracksters)\n",
      "Num tracksters ratio: 0.75\n",
      "\n",
      "[Electrons] Threshold = 0.300\n"
     ]
    },
    {
     "name": "stderr",
     "output_type": "stream",
     "text": [
      "100%|███████████████████████████████████████████████████████████████████████████████████████████████████████| 50/50 [00:11<00:00,  4.25it/s]\n"
     ]
    },
    {
     "name": "stdout",
     "output_type": "stream",
     "text": [
      "\n",
      "Model: Threshold 0.300\n",
      "Efficiency: 1.0000 (136 associated CPs out of 136 total CPs)\n",
      "FR: 0.1700 (83 associated Tracksters out of 100 total Tracksters)\n",
      "Num tracksters ratio: 0.7352941176470589\n",
      "\n",
      "[Electrons] Threshold = 0.310\n"
     ]
    },
    {
     "name": "stderr",
     "output_type": "stream",
     "text": [
      "100%|███████████████████████████████████████████████████████████████████████████████████████████████████████| 50/50 [00:11<00:00,  4.24it/s]\n"
     ]
    },
    {
     "name": "stdout",
     "output_type": "stream",
     "text": [
      "\n",
      "Model: Threshold 0.310\n",
      "Efficiency: 1.0000 (136 associated CPs out of 136 total CPs)\n",
      "FR: 0.1735 (81 associated Tracksters out of 98 total Tracksters)\n",
      "Num tracksters ratio: 0.7205882352941176\n",
      "\n",
      "[Electrons] Threshold = 0.320\n"
     ]
    },
    {
     "name": "stderr",
     "output_type": "stream",
     "text": [
      "100%|███████████████████████████████████████████████████████████████████████████████████████████████████████| 50/50 [00:11<00:00,  4.28it/s]\n"
     ]
    },
    {
     "name": "stdout",
     "output_type": "stream",
     "text": [
      "\n",
      "Model: Threshold 0.320\n",
      "Efficiency: 1.0000 (136 associated CPs out of 136 total CPs)\n",
      "FR: 0.2021 (75 associated Tracksters out of 94 total Tracksters)\n",
      "Num tracksters ratio: 0.6911764705882353\n",
      "\n",
      "[Electrons] Threshold = 0.330\n"
     ]
    },
    {
     "name": "stderr",
     "output_type": "stream",
     "text": [
      "100%|███████████████████████████████████████████████████████████████████████████████████████████████████████| 50/50 [00:11<00:00,  4.29it/s]\n"
     ]
    },
    {
     "name": "stdout",
     "output_type": "stream",
     "text": [
      "\n",
      "Model: Threshold 0.330\n",
      "Efficiency: 1.0000 (136 associated CPs out of 136 total CPs)\n",
      "FR: 0.2021 (75 associated Tracksters out of 94 total Tracksters)\n",
      "Num tracksters ratio: 0.6911764705882353\n",
      "\n",
      "[Electrons] Threshold = 0.340\n"
     ]
    },
    {
     "name": "stderr",
     "output_type": "stream",
     "text": [
      "100%|███████████████████████████████████████████████████████████████████████████████████████████████████████| 50/50 [00:11<00:00,  4.37it/s]\n"
     ]
    },
    {
     "name": "stdout",
     "output_type": "stream",
     "text": [
      "\n",
      "Model: Threshold 0.340\n",
      "Efficiency: 1.0000 (136 associated CPs out of 136 total CPs)\n",
      "FR: 0.2021 (75 associated Tracksters out of 94 total Tracksters)\n",
      "Num tracksters ratio: 0.6911764705882353\n",
      "\n",
      "[Electrons] Threshold = 0.350\n"
     ]
    },
    {
     "name": "stderr",
     "output_type": "stream",
     "text": [
      "100%|███████████████████████████████████████████████████████████████████████████████████████████████████████| 50/50 [00:11<00:00,  4.36it/s]\n"
     ]
    },
    {
     "name": "stdout",
     "output_type": "stream",
     "text": [
      "\n",
      "Model: Threshold 0.350\n",
      "Efficiency: 1.0000 (136 associated CPs out of 136 total CPs)\n",
      "FR: 0.2021 (75 associated Tracksters out of 94 total Tracksters)\n",
      "Num tracksters ratio: 0.6911764705882353\n",
      "\n",
      "[Electrons] Threshold = 0.360\n"
     ]
    },
    {
     "name": "stderr",
     "output_type": "stream",
     "text": [
      "100%|███████████████████████████████████████████████████████████████████████████████████████████████████████| 50/50 [00:11<00:00,  4.27it/s]\n"
     ]
    },
    {
     "name": "stdout",
     "output_type": "stream",
     "text": [
      "\n",
      "Model: Threshold 0.360\n",
      "Efficiency: 1.0000 (136 associated CPs out of 136 total CPs)\n",
      "FR: 0.2065 (73 associated Tracksters out of 92 total Tracksters)\n",
      "Num tracksters ratio: 0.6764705882352942\n",
      "\n",
      "[Electrons] Threshold = 0.370\n"
     ]
    },
    {
     "name": "stderr",
     "output_type": "stream",
     "text": [
      "100%|███████████████████████████████████████████████████████████████████████████████████████████████████████| 50/50 [00:11<00:00,  4.41it/s]\n"
     ]
    },
    {
     "name": "stdout",
     "output_type": "stream",
     "text": [
      "\n",
      "Model: Threshold 0.370\n",
      "Efficiency: 1.0000 (136 associated CPs out of 136 total CPs)\n",
      "FR: 0.2088 (72 associated Tracksters out of 91 total Tracksters)\n",
      "Num tracksters ratio: 0.6691176470588235\n",
      "\n",
      "[Electrons] Threshold = 0.380\n"
     ]
    },
    {
     "name": "stderr",
     "output_type": "stream",
     "text": [
      "100%|███████████████████████████████████████████████████████████████████████████████████████████████████████| 50/50 [00:12<00:00,  4.11it/s]\n"
     ]
    },
    {
     "name": "stdout",
     "output_type": "stream",
     "text": [
      "\n",
      "Model: Threshold 0.380\n",
      "Efficiency: 1.0000 (136 associated CPs out of 136 total CPs)\n",
      "FR: 0.2111 (71 associated Tracksters out of 90 total Tracksters)\n",
      "Num tracksters ratio: 0.6617647058823529\n",
      "\n",
      "[Electrons] Threshold = 0.390\n"
     ]
    },
    {
     "name": "stderr",
     "output_type": "stream",
     "text": [
      "100%|███████████████████████████████████████████████████████████████████████████████████████████████████████| 50/50 [00:11<00:00,  4.22it/s]\n"
     ]
    },
    {
     "name": "stdout",
     "output_type": "stream",
     "text": [
      "\n",
      "Model: Threshold 0.390\n",
      "Efficiency: 1.0000 (136 associated CPs out of 136 total CPs)\n",
      "FR: 0.2135 (70 associated Tracksters out of 89 total Tracksters)\n",
      "Num tracksters ratio: 0.6544117647058824\n",
      "\n",
      "[Electrons] Threshold = 0.400\n"
     ]
    },
    {
     "name": "stderr",
     "output_type": "stream",
     "text": [
      "100%|███████████████████████████████████████████████████████████████████████████████████████████████████████| 50/50 [00:11<00:00,  4.18it/s]\n"
     ]
    },
    {
     "name": "stdout",
     "output_type": "stream",
     "text": [
      "\n",
      "Model: Threshold 0.400\n",
      "Efficiency: 1.0000 (136 associated CPs out of 136 total CPs)\n",
      "FR: 0.2135 (70 associated Tracksters out of 89 total Tracksters)\n",
      "Num tracksters ratio: 0.6544117647058824\n",
      "\n",
      "[Electrons] Threshold = 0.420\n"
     ]
    },
    {
     "name": "stderr",
     "output_type": "stream",
     "text": [
      "100%|███████████████████████████████████████████████████████████████████████████████████████████████████████| 50/50 [00:12<00:00,  3.87it/s]\n"
     ]
    },
    {
     "name": "stdout",
     "output_type": "stream",
     "text": [
      "\n",
      "Model: Threshold 0.420\n",
      "Efficiency: 1.0000 (136 associated CPs out of 136 total CPs)\n",
      "FR: 0.2326 (66 associated Tracksters out of 86 total Tracksters)\n",
      "Num tracksters ratio: 0.6323529411764706\n",
      "\n",
      "[Electrons] Threshold = 0.440\n"
     ]
    },
    {
     "name": "stderr",
     "output_type": "stream",
     "text": [
      "100%|███████████████████████████████████████████████████████████████████████████████████████████████████████| 50/50 [00:12<00:00,  3.90it/s]\n"
     ]
    },
    {
     "name": "stdout",
     "output_type": "stream",
     "text": [
      "\n",
      "Model: Threshold 0.440\n",
      "Efficiency: 1.0000 (136 associated CPs out of 136 total CPs)\n",
      "FR: 0.2353 (65 associated Tracksters out of 85 total Tracksters)\n",
      "Num tracksters ratio: 0.625\n",
      "\n",
      "[Electrons] Threshold = 0.460\n"
     ]
    },
    {
     "name": "stderr",
     "output_type": "stream",
     "text": [
      "100%|███████████████████████████████████████████████████████████████████████████████████████████████████████| 50/50 [00:12<00:00,  3.86it/s]\n"
     ]
    },
    {
     "name": "stdout",
     "output_type": "stream",
     "text": [
      "\n",
      "Model: Threshold 0.460\n",
      "Efficiency: 1.0000 (136 associated CPs out of 136 total CPs)\n",
      "FR: 0.2561 (61 associated Tracksters out of 82 total Tracksters)\n",
      "Num tracksters ratio: 0.6029411764705882\n",
      "\n",
      "[Electrons] Threshold = 0.480\n"
     ]
    },
    {
     "name": "stderr",
     "output_type": "stream",
     "text": [
      " 30%|██████████████████████████████▉                                                                        | 15/50 [00:03<00:07,  4.52it/s]\n"
     ]
    },
    {
     "ename": "KeyboardInterrupt",
     "evalue": "",
     "output_type": "error",
     "traceback": [
      "\u001b[0;31m---------------------------------------------------------------------------\u001b[0m",
      "\u001b[0;31mKeyboardInterrupt\u001b[0m                         Traceback (most recent call last)",
      "\u001b[0;32m/tmp/ipykernel_439261/1723891142.py\u001b[0m in \u001b[0;36m<module>\u001b[0;34m\u001b[0m\n\u001b[1;32m     60\u001b[0m     \u001b[0;31m# --- 4.3 Calculate event scores ---\u001b[0m\u001b[0;34m\u001b[0m\u001b[0;34m\u001b[0m\u001b[0m\n\u001b[1;32m     61\u001b[0m     \u001b[0;31m# Use your *filtered* GT arrays and energies for electrons\u001b[0m\u001b[0;34m\u001b[0m\u001b[0;34m\u001b[0m\u001b[0m\n\u001b[0;32m---> 62\u001b[0;31m     df_CL_temp_E = calculate_all_event_scores(\n\u001b[0m\u001b[1;32m     63\u001b[0m         \u001b[0mGT_ind_filt_E\u001b[0m\u001b[0;34m,\u001b[0m\u001b[0;34m\u001b[0m\u001b[0;34m\u001b[0m\u001b[0m\n\u001b[1;32m     64\u001b[0m         \u001b[0mGT_mult_filt_E\u001b[0m\u001b[0;34m,\u001b[0m\u001b[0;34m\u001b[0m\u001b[0;34m\u001b[0m\u001b[0m\n",
      "\u001b[0;32m/tmp/ipykernel_439261/774685910.py\u001b[0m in \u001b[0;36mcalculate_all_event_scores\u001b[0;34m(GT_ind, GT_mult, energies, recon_ind, num_events)\u001b[0m\n\u001b[1;32m     86\u001b[0m \u001b[0;34m\u001b[0m\u001b[0m\n\u001b[1;32m     87\u001b[0m                 \u001b[0;31m# Calculate reco-to-sim score\u001b[0m\u001b[0;34m\u001b[0m\u001b[0;34m\u001b[0m\u001b[0m\n\u001b[0;32m---> 88\u001b[0;31m                 \u001b[0mreco_to_sim_score\u001b[0m\u001b[0;34m,\u001b[0m \u001b[0mshared_energy\u001b[0m \u001b[0;34m=\u001b[0m \u001b[0mcalculate_reco_to_sim_score_and_sharedE\u001b[0m\u001b[0;34m(\u001b[0m\u001b[0mtrackster\u001b[0m\u001b[0;34m,\u001b[0m \u001b[0mevent_energies\u001b[0m\u001b[0;34m,\u001b[0m \u001b[0mcaloparticle\u001b[0m\u001b[0;34m,\u001b[0m\u001b[0mcalo_mult\u001b[0m\u001b[0;34m)\u001b[0m\u001b[0;34m\u001b[0m\u001b[0;34m\u001b[0m\u001b[0m\n\u001b[0m\u001b[1;32m     89\u001b[0m                 \u001b[0;31m# Calculate trackster energy\u001b[0m\u001b[0;34m\u001b[0m\u001b[0;34m\u001b[0m\u001b[0m\n\u001b[1;32m     90\u001b[0m \u001b[0;34m\u001b[0m\u001b[0m\n",
      "\u001b[0;32m/tmp/ipykernel_439261/774685910.py\u001b[0m in \u001b[0;36mcalculate_reco_to_sim_score_and_sharedE\u001b[0;34m(ReconstructedTrackster, energies_indices, CaloParticle, calo_mult)\u001b[0m\n\u001b[1;32m     25\u001b[0m         \u001b[0;31m#Fraction of energy in the caloparticle\u001b[0m\u001b[0;34m\u001b[0m\u001b[0;34m\u001b[0m\u001b[0m\n\u001b[1;32m     26\u001b[0m         \u001b[0;32mif\u001b[0m \u001b[0mdet_id\u001b[0m \u001b[0;32min\u001b[0m \u001b[0mCaloParticle\u001b[0m\u001b[0;34m:\u001b[0m\u001b[0;34m\u001b[0m\u001b[0;34m\u001b[0m\u001b[0m\n\u001b[0;32m---> 27\u001b[0;31m             \u001b[0mindex\u001b[0m \u001b[0;34m=\u001b[0m \u001b[0mnp\u001b[0m\u001b[0;34m.\u001b[0m\u001b[0mwhere\u001b[0m\u001b[0;34m(\u001b[0m\u001b[0mCaloParticle\u001b[0m \u001b[0;34m==\u001b[0m \u001b[0mdet_id\u001b[0m\u001b[0;34m)\u001b[0m\u001b[0;34m[\u001b[0m\u001b[0;36m0\u001b[0m\u001b[0;34m]\u001b[0m\u001b[0;34m[\u001b[0m\u001b[0;36m0\u001b[0m\u001b[0;34m]\u001b[0m\u001b[0;34m\u001b[0m\u001b[0;34m\u001b[0m\u001b[0m\n\u001b[0m\u001b[1;32m     28\u001b[0m             \u001b[0mfr_sc_k\u001b[0m \u001b[0;34m=\u001b[0m \u001b[0;36m1\u001b[0m \u001b[0;34m/\u001b[0m \u001b[0mcalo_mult\u001b[0m\u001b[0;34m[\u001b[0m\u001b[0mindex\u001b[0m\u001b[0;34m]\u001b[0m\u001b[0;34m\u001b[0m\u001b[0;34m\u001b[0m\u001b[0m\n\u001b[1;32m     29\u001b[0m \u001b[0;34m\u001b[0m\u001b[0m\n",
      "\u001b[0;32m/cvmfs/sft.cern.ch/lcg/views/LCG_105a_cuda/x86_64-el9-gcc11-opt/lib/python3.9/site-packages/awkward/highlevel.py\u001b[0m in \u001b[0;36m__getitem__\u001b[0;34m(self, where)\u001b[0m\n\u001b[1;32m    988\u001b[0m         \u001b[0mhave\u001b[0m \u001b[0mthe\u001b[0m \u001b[0msame\u001b[0m \u001b[0mdimension\u001b[0m \u001b[0;32mas\u001b[0m \u001b[0mthe\u001b[0m \u001b[0marray\u001b[0m \u001b[0mbeing\u001b[0m \u001b[0mindexed\u001b[0m\u001b[0;34m.\u001b[0m\u001b[0;34m\u001b[0m\u001b[0;34m\u001b[0m\u001b[0m\n\u001b[1;32m    989\u001b[0m         \"\"\"\n\u001b[0;32m--> 990\u001b[0;31m         \u001b[0;32mif\u001b[0m \u001b[0;32mnot\u001b[0m \u001b[0mhasattr\u001b[0m\u001b[0;34m(\u001b[0m\u001b[0mself\u001b[0m\u001b[0;34m,\u001b[0m \u001b[0;34m\"_tracers\"\u001b[0m\u001b[0;34m)\u001b[0m\u001b[0;34m:\u001b[0m\u001b[0;34m\u001b[0m\u001b[0;34m\u001b[0m\u001b[0m\n\u001b[0m\u001b[1;32m    991\u001b[0m             \u001b[0mtmp\u001b[0m \u001b[0;34m=\u001b[0m \u001b[0mak\u001b[0m\u001b[0;34m.\u001b[0m\u001b[0m_util\u001b[0m\u001b[0;34m.\u001b[0m\u001b[0mwrap\u001b[0m\u001b[0;34m(\u001b[0m\u001b[0mself\u001b[0m\u001b[0;34m.\u001b[0m\u001b[0mlayout\u001b[0m\u001b[0;34m[\u001b[0m\u001b[0mwhere\u001b[0m\u001b[0;34m]\u001b[0m\u001b[0;34m,\u001b[0m \u001b[0mself\u001b[0m\u001b[0;34m.\u001b[0m\u001b[0m_behavior\u001b[0m\u001b[0;34m)\u001b[0m\u001b[0;34m\u001b[0m\u001b[0;34m\u001b[0m\u001b[0m\n\u001b[1;32m    992\u001b[0m         \u001b[0;32melse\u001b[0m\u001b[0;34m:\u001b[0m\u001b[0;34m\u001b[0m\u001b[0;34m\u001b[0m\u001b[0m\n",
      "\u001b[0;32m/cvmfs/sft.cern.ch/lcg/views/LCG_105a_cuda/x86_64-el9-gcc11-opt/lib/python3.9/site-packages/awkward/highlevel.py\u001b[0m in \u001b[0;36m__getattr__\u001b[0;34m(self, where)\u001b[0m\n\u001b[1;32m   1108\u001b[0m         \u001b[0mto\u001b[0m \u001b[0madd\u001b[0m \u001b[0ma\u001b[0m \u001b[0mfield\u001b[0m\u001b[0;34m.\u001b[0m\u001b[0;34m\u001b[0m\u001b[0;34m\u001b[0m\u001b[0m\n\u001b[1;32m   1109\u001b[0m         \"\"\"\n\u001b[0;32m-> 1110\u001b[0;31m         \u001b[0;32mif\u001b[0m \u001b[0mwhere\u001b[0m \u001b[0;32min\u001b[0m \u001b[0mdir\u001b[0m\u001b[0;34m(\u001b[0m\u001b[0mtype\u001b[0m\u001b[0;34m(\u001b[0m\u001b[0mself\u001b[0m\u001b[0;34m)\u001b[0m\u001b[0;34m)\u001b[0m\u001b[0;34m:\u001b[0m\u001b[0;34m\u001b[0m\u001b[0;34m\u001b[0m\u001b[0m\n\u001b[0m\u001b[1;32m   1111\u001b[0m             \u001b[0;32mreturn\u001b[0m \u001b[0msuper\u001b[0m\u001b[0;34m(\u001b[0m\u001b[0;34m)\u001b[0m\u001b[0;34m.\u001b[0m\u001b[0m__getattribute__\u001b[0m\u001b[0;34m(\u001b[0m\u001b[0mwhere\u001b[0m\u001b[0;34m)\u001b[0m\u001b[0;34m\u001b[0m\u001b[0;34m\u001b[0m\u001b[0m\n\u001b[1;32m   1112\u001b[0m         \u001b[0;32melse\u001b[0m\u001b[0;34m:\u001b[0m\u001b[0;34m\u001b[0m\u001b[0;34m\u001b[0m\u001b[0m\n",
      "\u001b[0;31mKeyboardInterrupt\u001b[0m: "
     ]
    }
   ],
   "source": [
    "import numpy as np\n",
    "import awkward as ak\n",
    "import pandas as pd\n",
    "\n",
    "# ---------------------------------------------------------\n",
    "# 1) Define your threshold scan with more data points:\n",
    "#    - From 0 to 0.4: every 0.005\n",
    "#    - From 0.4 to 1: every 0.02\n",
    "# ---------------------------------------------------------\n",
    "first_segment = np.arange(0, 0.5, 0.01)\n",
    "second_segment = np.arange(0.5, 1.0, 0.05)  # 1.02 to ensure inclusion of 1.0\n",
    "threshold_values = np.concatenate((first_segment, second_segment))\n",
    "\n",
    "# ---------------------------------------------------------\n",
    "# 2) Obtain your predictions from the trained model \n",
    "#    for electrons and pions separately\n",
    "# ---------------------------------------------------------\n",
    "all_predictions_E = []\n",
    "for i, data in enumerate(E_loader):  # E_loader => DataLoader for electron data\n",
    "    if i > 50:\n",
    "        break\n",
    "    edge_index = knn_graph(data.x[:, :3], k=32, batch=data.x_batch)\n",
    "    pred = model(data.x,edge_index, data.x_batch)\n",
    "    all_predictions_E.append(pred[0].detach().cpu().numpy())\n",
    "all_predictions_E = np.array(all_predictions_E)\n",
    "\n",
    "\n",
    "\n",
    "# ---------------------------------------------------------\n",
    "# 3) Prepare arrays for storing results for each dataset\n",
    "# ---------------------------------------------------------\n",
    "efficiencies_E, fakerates_E, ratio_E = [], [], []\n",
    "\n",
    "\n",
    "# ---------------------------------------------------------\n",
    "# 4) Loop over thresholds and compute metrics for electrons\n",
    "# ---------------------------------------------------------\n",
    "for t in threshold_values:\n",
    "    print(f\"\\n[Electrons] Threshold = {t:.3f}\")\n",
    "    \n",
    "    # --- 4.1 Cluster using your Aggloremative function (or other) ---\n",
    "    all_cluster_labels_E = Aggloremative(all_predictions_E, threshold=t)\n",
    "    \n",
    "    # --- 4.2 Reconstruct tracksters ---\n",
    "    # Build \"recon_ind_E\" by grouping cluster indices for each event\n",
    "    recon_ind_E = []\n",
    "    for event_idx, labels in enumerate(all_cluster_labels_E):\n",
    "        event_clusters = {}\n",
    "        for cluster_idx, cluster_label in enumerate(labels):\n",
    "            if cluster_label not in event_clusters:\n",
    "                event_clusters[cluster_label] = []\n",
    "            # Use the flattened electron index arrays\n",
    "            event_clusters[cluster_label].append(\n",
    "                ak.flatten(data_E.stsCP_vertices_indexes[event_idx])[cluster_idx]\n",
    "            )\n",
    "        # Convert the dict of lists into a list-of-lists\n",
    "        recon_ind_E.append([event_clusters[label] for label in sorted(event_clusters.keys())])\n",
    "    recon_ind_E = ak.Array(recon_ind_E)\n",
    "    \n",
    "    # --- 4.3 Calculate event scores ---\n",
    "    # Use your *filtered* GT arrays and energies for electrons\n",
    "    df_CL_temp_E = calculate_all_event_scores(\n",
    "        GT_ind_filt_E, \n",
    "        GT_mult_filt_E, \n",
    "        energies_Ep, \n",
    "        recon_ind_E, \n",
    "        num_events=50  # using 50 events\n",
    "    )\n",
    "    \n",
    "    # --- 4.4 Compute metrics and store in lists ---\n",
    "    metrics_E = calculate_metrics(df_CL_temp_E, f\"Threshold {t:.3f}\")\n",
    "    efficiencies_E.append(metrics_E['efficiency'])\n",
    "    fakerates_E.append(1.0 - metrics_E['purity'])  \n",
    "    ratio_E.append(metrics_E['Num_tracksters_ratio'])\n",
    "    \n",
    "df_electrons = pd.DataFrame({\n",
    "    'threshold': threshold_values,\n",
    "    'efficiency': efficiencies_E,\n",
    "    'fake_rate': fakerates_E,\n",
    "    'num_tracksters_ratio': ratio_E,\n",
    "})\n",
    "\n",
    "\n",
    "# ---------------------------------------------------------\n",
    "# 7) (Optional) Display or save the DataFrames\n",
    "# ---------------------------------------------------------\n",
    "print(\"\\n=== Electron Results ===\")\n",
    "print(df_electrons)\n",
    "\n",
    "# Optionally, you can save these DataFrames to CSV files:\n",
    "# df_electrons.to_csv(\"electron_scan.csv\", index=False)\n",
    "# df_pions.to_csv(\"pion_scan.csv\", index=False)\n"
   ]
  },
  {
   "cell_type": "code",
   "execution_count": 90,
   "id": "923ae3cb",
   "metadata": {
    "scrolled": true
   },
   "outputs": [
    {
     "name": "stdout",
     "output_type": "stream",
     "text": [
      "\n",
      "[Pions] Threshold = 0.000\n"
     ]
    },
    {
     "name": "stderr",
     "output_type": "stream",
     "text": [
      "100%|████████████████████████████████████████████████████████████████████████████████████████████████| 50/50 [00:09<00:00,  5.29it/s]\n"
     ]
    },
    {
     "name": "stdout",
     "output_type": "stream",
     "text": [
      "\n",
      "Model: Threshold 0.000\n",
      "Efficiency: 0.0141 (2 associated CPs out of 142 total CPs)\n",
      "FR: 0.0021 (9707 associated Tracksters out of 9727 total Tracksters)\n",
      "Num tracksters ratio: 68.5\n",
      "\n",
      "[Pions] Threshold = 0.005\n"
     ]
    },
    {
     "name": "stderr",
     "output_type": "stream",
     "text": [
      "100%|████████████████████████████████████████████████████████████████████████████████████████████████| 50/50 [00:07<00:00,  6.34it/s]\n"
     ]
    },
    {
     "name": "stdout",
     "output_type": "stream",
     "text": [
      "\n",
      "Model: Threshold 0.005\n",
      "Efficiency: 0.4085 (58 associated CPs out of 142 total CPs)\n",
      "FR: 0.0305 (2133 associated Tracksters out of 2200 total Tracksters)\n",
      "Num tracksters ratio: 15.492957746478874\n",
      "\n",
      "[Pions] Threshold = 0.010\n"
     ]
    },
    {
     "name": "stderr",
     "output_type": "stream",
     "text": [
      "100%|████████████████████████████████████████████████████████████████████████████████████████████████| 50/50 [00:07<00:00,  6.58it/s]\n"
     ]
    },
    {
     "name": "stdout",
     "output_type": "stream",
     "text": [
      "\n",
      "Model: Threshold 0.010\n",
      "Efficiency: 0.5000 (71 associated CPs out of 142 total CPs)\n",
      "FR: 0.0580 (1300 associated Tracksters out of 1380 total Tracksters)\n",
      "Num tracksters ratio: 9.71830985915493\n",
      "\n",
      "[Pions] Threshold = 0.015\n"
     ]
    },
    {
     "name": "stderr",
     "output_type": "stream",
     "text": [
      "100%|████████████████████████████████████████████████████████████████████████████████████████████████| 50/50 [00:07<00:00,  6.69it/s]\n"
     ]
    },
    {
     "name": "stdout",
     "output_type": "stream",
     "text": [
      "\n",
      "Model: Threshold 0.015\n",
      "Efficiency: 0.5282 (75 associated CPs out of 142 total CPs)\n",
      "FR: 0.0714 (949 associated Tracksters out of 1022 total Tracksters)\n",
      "Num tracksters ratio: 7.197183098591549\n",
      "\n",
      "[Pions] Threshold = 0.020\n"
     ]
    },
    {
     "name": "stderr",
     "output_type": "stream",
     "text": [
      "100%|████████████████████████████████████████████████████████████████████████████████████████████████| 50/50 [00:07<00:00,  6.68it/s]\n"
     ]
    },
    {
     "name": "stdout",
     "output_type": "stream",
     "text": [
      "\n",
      "Model: Threshold 0.020\n",
      "Efficiency: 0.5493 (78 associated CPs out of 142 total CPs)\n",
      "FR: 0.0785 (740 associated Tracksters out of 803 total Tracksters)\n",
      "Num tracksters ratio: 5.654929577464789\n",
      "\n",
      "[Pions] Threshold = 0.025\n"
     ]
    },
    {
     "name": "stderr",
     "output_type": "stream",
     "text": [
      "100%|████████████████████████████████████████████████████████████████████████████████████████████████| 50/50 [00:07<00:00,  6.74it/s]\n"
     ]
    },
    {
     "name": "stdout",
     "output_type": "stream",
     "text": [
      "\n",
      "Model: Threshold 0.025\n",
      "Efficiency: 0.5845 (83 associated CPs out of 142 total CPs)\n",
      "FR: 0.0796 (601 associated Tracksters out of 653 total Tracksters)\n",
      "Num tracksters ratio: 4.598591549295775\n",
      "\n",
      "[Pions] Threshold = 0.030\n"
     ]
    },
    {
     "name": "stderr",
     "output_type": "stream",
     "text": [
      "100%|████████████████████████████████████████████████████████████████████████████████████████████████| 50/50 [00:07<00:00,  6.95it/s]\n"
     ]
    },
    {
     "name": "stdout",
     "output_type": "stream",
     "text": [
      "\n",
      "Model: Threshold 0.030\n",
      "Efficiency: 0.6549 (93 associated CPs out of 142 total CPs)\n",
      "FR: 0.1055 (500 associated Tracksters out of 559 total Tracksters)\n",
      "Num tracksters ratio: 3.936619718309859\n",
      "\n",
      "[Pions] Threshold = 0.035\n"
     ]
    },
    {
     "name": "stderr",
     "output_type": "stream",
     "text": [
      "100%|████████████████████████████████████████████████████████████████████████████████████████████████| 50/50 [00:07<00:00,  6.53it/s]\n"
     ]
    },
    {
     "name": "stdout",
     "output_type": "stream",
     "text": [
      "\n",
      "Model: Threshold 0.035\n",
      "Efficiency: 0.6831 (97 associated CPs out of 142 total CPs)\n",
      "FR: 0.1131 (447 associated Tracksters out of 504 total Tracksters)\n",
      "Num tracksters ratio: 3.5492957746478875\n",
      "\n",
      "[Pions] Threshold = 0.040\n"
     ]
    },
    {
     "name": "stderr",
     "output_type": "stream",
     "text": [
      "100%|████████████████████████████████████████████████████████████████████████████████████████████████| 50/50 [00:07<00:00,  6.57it/s]\n"
     ]
    },
    {
     "name": "stdout",
     "output_type": "stream",
     "text": [
      "\n",
      "Model: Threshold 0.040\n",
      "Efficiency: 0.7394 (105 associated CPs out of 142 total CPs)\n",
      "FR: 0.1220 (396 associated Tracksters out of 451 total Tracksters)\n",
      "Num tracksters ratio: 3.176056338028169\n",
      "\n",
      "[Pions] Threshold = 0.045\n"
     ]
    },
    {
     "name": "stderr",
     "output_type": "stream",
     "text": [
      "100%|████████████████████████████████████████████████████████████████████████████████████████████████| 50/50 [00:07<00:00,  6.74it/s]\n"
     ]
    },
    {
     "name": "stdout",
     "output_type": "stream",
     "text": [
      "\n",
      "Model: Threshold 0.045\n",
      "Efficiency: 0.7606 (108 associated CPs out of 142 total CPs)\n",
      "FR: 0.1127 (362 associated Tracksters out of 408 total Tracksters)\n",
      "Num tracksters ratio: 2.8732394366197185\n",
      "\n",
      "[Pions] Threshold = 0.050\n"
     ]
    },
    {
     "name": "stderr",
     "output_type": "stream",
     "text": [
      "100%|████████████████████████████████████████████████████████████████████████████████████████████████| 50/50 [00:07<00:00,  6.74it/s]\n"
     ]
    },
    {
     "name": "stdout",
     "output_type": "stream",
     "text": [
      "\n",
      "Model: Threshold 0.050\n",
      "Efficiency: 0.7887 (112 associated CPs out of 142 total CPs)\n",
      "FR: 0.1232 (313 associated Tracksters out of 357 total Tracksters)\n",
      "Num tracksters ratio: 2.5140845070422535\n",
      "\n",
      "[Pions] Threshold = 0.055\n"
     ]
    },
    {
     "name": "stderr",
     "output_type": "stream",
     "text": [
      "100%|████████████████████████████████████████████████████████████████████████████████████████████████| 50/50 [00:07<00:00,  6.28it/s]\n"
     ]
    },
    {
     "name": "stdout",
     "output_type": "stream",
     "text": [
      "\n",
      "Model: Threshold 0.055\n",
      "Efficiency: 0.8099 (115 associated CPs out of 142 total CPs)\n",
      "FR: 0.1390 (285 associated Tracksters out of 331 total Tracksters)\n",
      "Num tracksters ratio: 2.3309859154929575\n",
      "\n",
      "[Pions] Threshold = 0.060\n"
     ]
    },
    {
     "name": "stderr",
     "output_type": "stream",
     "text": [
      "100%|████████████████████████████████████████████████████████████████████████████████████████████████| 50/50 [00:07<00:00,  6.62it/s]\n"
     ]
    },
    {
     "name": "stdout",
     "output_type": "stream",
     "text": [
      "\n",
      "Model: Threshold 0.060\n",
      "Efficiency: 0.8310 (118 associated CPs out of 142 total CPs)\n",
      "FR: 0.1401 (264 associated Tracksters out of 307 total Tracksters)\n",
      "Num tracksters ratio: 2.1619718309859155\n",
      "\n",
      "[Pions] Threshold = 0.065\n"
     ]
    },
    {
     "name": "stderr",
     "output_type": "stream",
     "text": [
      "100%|████████████████████████████████████████████████████████████████████████████████████████████████| 50/50 [00:07<00:00,  7.04it/s]\n"
     ]
    },
    {
     "name": "stdout",
     "output_type": "stream",
     "text": [
      "\n",
      "Model: Threshold 0.065\n",
      "Efficiency: 0.8451 (120 associated CPs out of 142 total CPs)\n",
      "FR: 0.1514 (241 associated Tracksters out of 284 total Tracksters)\n",
      "Num tracksters ratio: 2.0\n",
      "\n",
      "[Pions] Threshold = 0.070\n"
     ]
    },
    {
     "name": "stderr",
     "output_type": "stream",
     "text": [
      "100%|████████████████████████████████████████████████████████████████████████████████████████████████| 50/50 [00:07<00:00,  7.02it/s]\n"
     ]
    },
    {
     "name": "stdout",
     "output_type": "stream",
     "text": [
      "\n",
      "Model: Threshold 0.070\n",
      "Efficiency: 0.8662 (123 associated CPs out of 142 total CPs)\n",
      "FR: 0.1667 (220 associated Tracksters out of 264 total Tracksters)\n",
      "Num tracksters ratio: 1.8591549295774648\n",
      "\n",
      "[Pions] Threshold = 0.075\n"
     ]
    },
    {
     "name": "stderr",
     "output_type": "stream",
     "text": [
      "100%|████████████████████████████████████████████████████████████████████████████████████████████████| 50/50 [00:07<00:00,  7.00it/s]\n"
     ]
    },
    {
     "name": "stdout",
     "output_type": "stream",
     "text": [
      "\n",
      "Model: Threshold 0.075\n",
      "Efficiency: 0.8732 (124 associated CPs out of 142 total CPs)\n",
      "FR: 0.1687 (207 associated Tracksters out of 249 total Tracksters)\n",
      "Num tracksters ratio: 1.7535211267605635\n",
      "\n",
      "[Pions] Threshold = 0.080\n"
     ]
    },
    {
     "name": "stderr",
     "output_type": "stream",
     "text": [
      "100%|████████████████████████████████████████████████████████████████████████████████████████████████| 50/50 [00:07<00:00,  6.91it/s]\n"
     ]
    },
    {
     "name": "stdout",
     "output_type": "stream",
     "text": [
      "\n",
      "Model: Threshold 0.080\n",
      "Efficiency: 0.8732 (124 associated CPs out of 142 total CPs)\n",
      "FR: 0.1653 (197 associated Tracksters out of 236 total Tracksters)\n",
      "Num tracksters ratio: 1.6619718309859155\n",
      "\n",
      "[Pions] Threshold = 0.085\n"
     ]
    },
    {
     "name": "stderr",
     "output_type": "stream",
     "text": [
      "100%|████████████████████████████████████████████████████████████████████████████████████████████████| 50/50 [00:07<00:00,  7.05it/s]\n"
     ]
    },
    {
     "name": "stdout",
     "output_type": "stream",
     "text": [
      "\n",
      "Model: Threshold 0.085\n",
      "Efficiency: 0.8732 (124 associated CPs out of 142 total CPs)\n",
      "FR: 0.1659 (186 associated Tracksters out of 223 total Tracksters)\n",
      "Num tracksters ratio: 1.5704225352112675\n",
      "\n",
      "[Pions] Threshold = 0.090\n"
     ]
    },
    {
     "name": "stderr",
     "output_type": "stream",
     "text": [
      "100%|████████████████████████████████████████████████████████████████████████████████████████████████| 50/50 [00:07<00:00,  7.05it/s]\n"
     ]
    },
    {
     "name": "stdout",
     "output_type": "stream",
     "text": [
      "\n",
      "Model: Threshold 0.090\n",
      "Efficiency: 0.8803 (125 associated CPs out of 142 total CPs)\n",
      "FR: 0.1651 (177 associated Tracksters out of 212 total Tracksters)\n",
      "Num tracksters ratio: 1.4929577464788732\n",
      "\n",
      "[Pions] Threshold = 0.095\n"
     ]
    },
    {
     "name": "stderr",
     "output_type": "stream",
     "text": [
      "100%|████████████████████████████████████████████████████████████████████████████████████████████████| 50/50 [00:07<00:00,  7.11it/s]\n"
     ]
    },
    {
     "name": "stdout",
     "output_type": "stream",
     "text": [
      "\n",
      "Model: Threshold 0.095\n",
      "Efficiency: 0.8944 (127 associated CPs out of 142 total CPs)\n",
      "FR: 0.1618 (171 associated Tracksters out of 204 total Tracksters)\n",
      "Num tracksters ratio: 1.4366197183098592\n",
      "\n",
      "[Pions] Threshold = 0.100\n"
     ]
    },
    {
     "name": "stderr",
     "output_type": "stream",
     "text": [
      "100%|████████████████████████████████████████████████████████████████████████████████████████████████| 50/50 [00:06<00:00,  7.16it/s]\n"
     ]
    },
    {
     "name": "stdout",
     "output_type": "stream",
     "text": [
      "\n",
      "Model: Threshold 0.100\n",
      "Efficiency: 0.9014 (128 associated CPs out of 142 total CPs)\n",
      "FR: 0.1361 (165 associated Tracksters out of 191 total Tracksters)\n",
      "Num tracksters ratio: 1.3450704225352113\n",
      "\n",
      "[Pions] Threshold = 0.105\n"
     ]
    },
    {
     "name": "stderr",
     "output_type": "stream",
     "text": [
      "100%|████████████████████████████████████████████████████████████████████████████████████████████████| 50/50 [00:06<00:00,  7.16it/s]\n"
     ]
    },
    {
     "name": "stdout",
     "output_type": "stream",
     "text": [
      "\n",
      "Model: Threshold 0.105\n",
      "Efficiency: 0.9014 (128 associated CPs out of 142 total CPs)\n",
      "FR: 0.1381 (156 associated Tracksters out of 181 total Tracksters)\n",
      "Num tracksters ratio: 1.2746478873239437\n",
      "\n",
      "[Pions] Threshold = 0.110\n"
     ]
    },
    {
     "name": "stderr",
     "output_type": "stream",
     "text": [
      "100%|████████████████████████████████████████████████████████████████████████████████████████████████| 50/50 [00:07<00:00,  6.72it/s]\n"
     ]
    },
    {
     "name": "stdout",
     "output_type": "stream",
     "text": [
      "\n",
      "Model: Threshold 0.110\n",
      "Efficiency: 0.9085 (129 associated CPs out of 142 total CPs)\n",
      "FR: 0.1264 (152 associated Tracksters out of 174 total Tracksters)\n",
      "Num tracksters ratio: 1.2253521126760563\n",
      "\n",
      "[Pions] Threshold = 0.115\n"
     ]
    },
    {
     "name": "stderr",
     "output_type": "stream",
     "text": [
      "100%|████████████████████████████████████████████████████████████████████████████████████████████████| 50/50 [00:07<00:00,  6.91it/s]\n"
     ]
    },
    {
     "name": "stdout",
     "output_type": "stream",
     "text": [
      "\n",
      "Model: Threshold 0.115\n",
      "Efficiency: 0.9155 (130 associated CPs out of 142 total CPs)\n",
      "FR: 0.1190 (148 associated Tracksters out of 168 total Tracksters)\n",
      "Num tracksters ratio: 1.1830985915492958\n",
      "\n",
      "[Pions] Threshold = 0.120\n"
     ]
    },
    {
     "name": "stderr",
     "output_type": "stream",
     "text": [
      "100%|████████████████████████████████████████████████████████████████████████████████████████████████| 50/50 [00:07<00:00,  6.82it/s]\n"
     ]
    },
    {
     "name": "stdout",
     "output_type": "stream",
     "text": [
      "\n",
      "Model: Threshold 0.120\n",
      "Efficiency: 0.9155 (130 associated CPs out of 142 total CPs)\n",
      "FR: 0.1265 (145 associated Tracksters out of 166 total Tracksters)\n",
      "Num tracksters ratio: 1.1690140845070423\n",
      "\n",
      "[Pions] Threshold = 0.125\n"
     ]
    },
    {
     "name": "stderr",
     "output_type": "stream",
     "text": [
      "100%|████████████████████████████████████████████████████████████████████████████████████████████████| 50/50 [00:06<00:00,  7.17it/s]\n"
     ]
    },
    {
     "name": "stdout",
     "output_type": "stream",
     "text": [
      "\n",
      "Model: Threshold 0.125\n",
      "Efficiency: 0.9155 (130 associated CPs out of 142 total CPs)\n",
      "FR: 0.1288 (142 associated Tracksters out of 163 total Tracksters)\n",
      "Num tracksters ratio: 1.147887323943662\n",
      "\n",
      "[Pions] Threshold = 0.130\n"
     ]
    },
    {
     "name": "stderr",
     "output_type": "stream",
     "text": [
      "100%|████████████████████████████████████████████████████████████████████████████████████████████████| 50/50 [00:07<00:00,  7.04it/s]\n"
     ]
    },
    {
     "name": "stdout",
     "output_type": "stream",
     "text": [
      "\n",
      "Model: Threshold 0.130\n",
      "Efficiency: 0.9155 (130 associated CPs out of 142 total CPs)\n",
      "FR: 0.1180 (142 associated Tracksters out of 161 total Tracksters)\n",
      "Num tracksters ratio: 1.1338028169014085\n",
      "\n",
      "[Pions] Threshold = 0.135\n"
     ]
    },
    {
     "name": "stderr",
     "output_type": "stream",
     "text": [
      "100%|████████████████████████████████████████████████████████████████████████████████████████████████| 50/50 [00:07<00:00,  7.02it/s]\n"
     ]
    },
    {
     "name": "stdout",
     "output_type": "stream",
     "text": [
      "\n",
      "Model: Threshold 0.135\n",
      "Efficiency: 0.9225 (131 associated CPs out of 142 total CPs)\n",
      "FR: 0.1242 (134 associated Tracksters out of 153 total Tracksters)\n",
      "Num tracksters ratio: 1.0774647887323943\n",
      "\n",
      "[Pions] Threshold = 0.140\n"
     ]
    },
    {
     "name": "stderr",
     "output_type": "stream",
     "text": [
      "100%|████████████████████████████████████████████████████████████████████████████████████████████████| 50/50 [00:07<00:00,  6.50it/s]\n"
     ]
    },
    {
     "name": "stdout",
     "output_type": "stream",
     "text": [
      "\n",
      "Model: Threshold 0.140\n",
      "Efficiency: 0.9225 (131 associated CPs out of 142 total CPs)\n",
      "FR: 0.1192 (133 associated Tracksters out of 151 total Tracksters)\n",
      "Num tracksters ratio: 1.0633802816901408\n",
      "\n",
      "[Pions] Threshold = 0.145\n"
     ]
    },
    {
     "name": "stderr",
     "output_type": "stream",
     "text": [
      "100%|████████████████████████████████████████████████████████████████████████████████████████████████| 50/50 [00:07<00:00,  7.05it/s]\n"
     ]
    },
    {
     "name": "stdout",
     "output_type": "stream",
     "text": [
      "\n",
      "Model: Threshold 0.145\n",
      "Efficiency: 0.9296 (132 associated CPs out of 142 total CPs)\n",
      "FR: 0.1149 (131 associated Tracksters out of 148 total Tracksters)\n",
      "Num tracksters ratio: 1.0422535211267605\n",
      "\n",
      "[Pions] Threshold = 0.150\n"
     ]
    },
    {
     "name": "stderr",
     "output_type": "stream",
     "text": [
      "100%|████████████████████████████████████████████████████████████████████████████████████████████████| 50/50 [00:07<00:00,  7.09it/s]\n"
     ]
    },
    {
     "name": "stdout",
     "output_type": "stream",
     "text": [
      "\n",
      "Model: Threshold 0.150\n",
      "Efficiency: 0.9296 (132 associated CPs out of 142 total CPs)\n",
      "FR: 0.1156 (130 associated Tracksters out of 147 total Tracksters)\n",
      "Num tracksters ratio: 1.0352112676056338\n",
      "\n",
      "[Pions] Threshold = 0.155\n"
     ]
    },
    {
     "name": "stderr",
     "output_type": "stream",
     "text": [
      "100%|████████████████████████████████████████████████████████████████████████████████████████████████| 50/50 [00:07<00:00,  7.08it/s]\n"
     ]
    },
    {
     "name": "stdout",
     "output_type": "stream",
     "text": [
      "\n",
      "Model: Threshold 0.155\n",
      "Efficiency: 0.9296 (132 associated CPs out of 142 total CPs)\n",
      "FR: 0.1181 (127 associated Tracksters out of 144 total Tracksters)\n",
      "Num tracksters ratio: 1.0140845070422535\n",
      "\n",
      "[Pions] Threshold = 0.160\n"
     ]
    },
    {
     "name": "stderr",
     "output_type": "stream",
     "text": [
      "100%|████████████████████████████████████████████████████████████████████████████████████████████████| 50/50 [00:07<00:00,  7.10it/s]\n"
     ]
    },
    {
     "name": "stdout",
     "output_type": "stream",
     "text": [
      "\n",
      "Model: Threshold 0.160\n",
      "Efficiency: 0.9296 (132 associated CPs out of 142 total CPs)\n",
      "FR: 0.0993 (127 associated Tracksters out of 141 total Tracksters)\n",
      "Num tracksters ratio: 0.9929577464788732\n",
      "\n",
      "[Pions] Threshold = 0.165\n"
     ]
    },
    {
     "name": "stderr",
     "output_type": "stream",
     "text": [
      "100%|████████████████████████████████████████████████████████████████████████████████████████████████| 50/50 [00:07<00:00,  7.10it/s]\n"
     ]
    },
    {
     "name": "stdout",
     "output_type": "stream",
     "text": [
      "\n",
      "Model: Threshold 0.165\n",
      "Efficiency: 0.9296 (132 associated CPs out of 142 total CPs)\n",
      "FR: 0.1007 (125 associated Tracksters out of 139 total Tracksters)\n",
      "Num tracksters ratio: 0.9788732394366197\n",
      "\n",
      "[Pions] Threshold = 0.170\n"
     ]
    },
    {
     "name": "stderr",
     "output_type": "stream",
     "text": [
      "100%|████████████████████████████████████████████████████████████████████████████████████████████████| 50/50 [00:07<00:00,  7.09it/s]\n"
     ]
    },
    {
     "name": "stdout",
     "output_type": "stream",
     "text": [
      "\n",
      "Model: Threshold 0.170\n",
      "Efficiency: 0.9366 (133 associated CPs out of 142 total CPs)\n",
      "FR: 0.1045 (120 associated Tracksters out of 134 total Tracksters)\n",
      "Num tracksters ratio: 0.9436619718309859\n",
      "\n",
      "[Pions] Threshold = 0.175\n"
     ]
    },
    {
     "name": "stderr",
     "output_type": "stream",
     "text": [
      "100%|████████████████████████████████████████████████████████████████████████████████████████████████| 50/50 [00:07<00:00,  7.11it/s]\n"
     ]
    },
    {
     "name": "stdout",
     "output_type": "stream",
     "text": [
      "\n",
      "Model: Threshold 0.175\n",
      "Efficiency: 0.9437 (134 associated CPs out of 142 total CPs)\n",
      "FR: 0.1061 (118 associated Tracksters out of 132 total Tracksters)\n",
      "Num tracksters ratio: 0.9295774647887324\n",
      "\n",
      "[Pions] Threshold = 0.180\n"
     ]
    },
    {
     "name": "stderr",
     "output_type": "stream",
     "text": [
      "100%|████████████████████████████████████████████████████████████████████████████████████████████████| 50/50 [00:07<00:00,  7.05it/s]\n"
     ]
    },
    {
     "name": "stdout",
     "output_type": "stream",
     "text": [
      "\n",
      "Model: Threshold 0.180\n",
      "Efficiency: 0.9437 (134 associated CPs out of 142 total CPs)\n",
      "FR: 0.1000 (117 associated Tracksters out of 130 total Tracksters)\n",
      "Num tracksters ratio: 0.9154929577464789\n",
      "\n",
      "[Pions] Threshold = 0.185\n"
     ]
    },
    {
     "name": "stderr",
     "output_type": "stream",
     "text": [
      "100%|████████████████████████████████████████████████████████████████████████████████████████████████| 50/50 [00:07<00:00,  7.05it/s]\n"
     ]
    },
    {
     "name": "stdout",
     "output_type": "stream",
     "text": [
      "\n",
      "Model: Threshold 0.185\n",
      "Efficiency: 0.9507 (135 associated CPs out of 142 total CPs)\n",
      "FR: 0.1102 (113 associated Tracksters out of 127 total Tracksters)\n",
      "Num tracksters ratio: 0.8943661971830986\n",
      "\n",
      "[Pions] Threshold = 0.190\n"
     ]
    },
    {
     "name": "stderr",
     "output_type": "stream",
     "text": [
      "100%|████████████████████████████████████████████████████████████████████████████████████████████████| 50/50 [00:07<00:00,  7.06it/s]\n"
     ]
    },
    {
     "name": "stdout",
     "output_type": "stream",
     "text": [
      "\n",
      "Model: Threshold 0.190\n",
      "Efficiency: 0.9507 (135 associated CPs out of 142 total CPs)\n",
      "FR: 0.1111 (112 associated Tracksters out of 126 total Tracksters)\n",
      "Num tracksters ratio: 0.8873239436619719\n",
      "\n",
      "[Pions] Threshold = 0.195\n"
     ]
    },
    {
     "name": "stderr",
     "output_type": "stream",
     "text": [
      "100%|████████████████████████████████████████████████████████████████████████████████████████████████| 50/50 [00:07<00:00,  7.08it/s]\n"
     ]
    },
    {
     "name": "stdout",
     "output_type": "stream",
     "text": [
      "\n",
      "Model: Threshold 0.195\n",
      "Efficiency: 0.9507 (135 associated CPs out of 142 total CPs)\n",
      "FR: 0.1111 (112 associated Tracksters out of 126 total Tracksters)\n",
      "Num tracksters ratio: 0.8873239436619719\n",
      "\n",
      "[Pions] Threshold = 0.200\n"
     ]
    },
    {
     "name": "stderr",
     "output_type": "stream",
     "text": [
      "100%|████████████████████████████████████████████████████████████████████████████████████████████████| 50/50 [00:07<00:00,  7.05it/s]\n"
     ]
    },
    {
     "name": "stdout",
     "output_type": "stream",
     "text": [
      "\n",
      "Model: Threshold 0.200\n",
      "Efficiency: 0.9507 (135 associated CPs out of 142 total CPs)\n",
      "FR: 0.1129 (110 associated Tracksters out of 124 total Tracksters)\n",
      "Num tracksters ratio: 0.8732394366197183\n",
      "\n",
      "[Pions] Threshold = 0.205\n"
     ]
    },
    {
     "name": "stderr",
     "output_type": "stream",
     "text": [
      "100%|████████████████████████████████████████████████████████████████████████████████████████████████| 50/50 [00:07<00:00,  7.07it/s]\n"
     ]
    },
    {
     "name": "stdout",
     "output_type": "stream",
     "text": [
      "\n",
      "Model: Threshold 0.205\n",
      "Efficiency: 0.9507 (135 associated CPs out of 142 total CPs)\n",
      "FR: 0.1129 (110 associated Tracksters out of 124 total Tracksters)\n",
      "Num tracksters ratio: 0.8732394366197183\n",
      "\n",
      "[Pions] Threshold = 0.210\n"
     ]
    },
    {
     "name": "stderr",
     "output_type": "stream",
     "text": [
      "100%|████████████████████████████████████████████████████████████████████████████████████████████████| 50/50 [00:07<00:00,  6.93it/s]\n"
     ]
    },
    {
     "name": "stdout",
     "output_type": "stream",
     "text": [
      "\n",
      "Model: Threshold 0.210\n",
      "Efficiency: 0.9507 (135 associated CPs out of 142 total CPs)\n",
      "FR: 0.1066 (109 associated Tracksters out of 122 total Tracksters)\n",
      "Num tracksters ratio: 0.8591549295774648\n",
      "\n",
      "[Pions] Threshold = 0.215\n"
     ]
    },
    {
     "name": "stderr",
     "output_type": "stream",
     "text": [
      "100%|████████████████████████████████████████████████████████████████████████████████████████████████| 50/50 [00:07<00:00,  6.95it/s]\n"
     ]
    },
    {
     "name": "stdout",
     "output_type": "stream",
     "text": [
      "\n",
      "Model: Threshold 0.215\n",
      "Efficiency: 0.9507 (135 associated CPs out of 142 total CPs)\n",
      "FR: 0.1066 (109 associated Tracksters out of 122 total Tracksters)\n",
      "Num tracksters ratio: 0.8591549295774648\n",
      "\n",
      "[Pions] Threshold = 0.220\n"
     ]
    },
    {
     "name": "stderr",
     "output_type": "stream",
     "text": [
      "100%|████████████████████████████████████████████████████████████████████████████████████████████████| 50/50 [00:07<00:00,  7.07it/s]\n"
     ]
    },
    {
     "name": "stdout",
     "output_type": "stream",
     "text": [
      "\n",
      "Model: Threshold 0.220\n",
      "Efficiency: 0.9577 (136 associated CPs out of 142 total CPs)\n",
      "FR: 0.1000 (108 associated Tracksters out of 120 total Tracksters)\n",
      "Num tracksters ratio: 0.8450704225352113\n",
      "\n",
      "[Pions] Threshold = 0.225\n"
     ]
    },
    {
     "name": "stderr",
     "output_type": "stream",
     "text": [
      "100%|████████████████████████████████████████████████████████████████████████████████████████████████| 50/50 [00:07<00:00,  7.01it/s]\n"
     ]
    },
    {
     "name": "stdout",
     "output_type": "stream",
     "text": [
      "\n",
      "Model: Threshold 0.225\n",
      "Efficiency: 0.9577 (136 associated CPs out of 142 total CPs)\n",
      "FR: 0.1008 (107 associated Tracksters out of 119 total Tracksters)\n",
      "Num tracksters ratio: 0.8380281690140845\n",
      "\n",
      "[Pions] Threshold = 0.230\n"
     ]
    },
    {
     "name": "stderr",
     "output_type": "stream",
     "text": [
      "100%|████████████████████████████████████████████████████████████████████████████████████████████████| 50/50 [00:07<00:00,  6.94it/s]\n"
     ]
    },
    {
     "name": "stdout",
     "output_type": "stream",
     "text": [
      "\n",
      "Model: Threshold 0.230\n",
      "Efficiency: 0.9577 (136 associated CPs out of 142 total CPs)\n",
      "FR: 0.1034 (104 associated Tracksters out of 116 total Tracksters)\n",
      "Num tracksters ratio: 0.8169014084507042\n",
      "\n",
      "[Pions] Threshold = 0.235\n"
     ]
    },
    {
     "name": "stderr",
     "output_type": "stream",
     "text": [
      "100%|████████████████████████████████████████████████████████████████████████████████████████████████| 50/50 [00:07<00:00,  6.90it/s]\n"
     ]
    },
    {
     "name": "stdout",
     "output_type": "stream",
     "text": [
      "\n",
      "Model: Threshold 0.235\n",
      "Efficiency: 0.9577 (136 associated CPs out of 142 total CPs)\n",
      "FR: 0.1043 (103 associated Tracksters out of 115 total Tracksters)\n",
      "Num tracksters ratio: 0.8098591549295775\n",
      "\n",
      "[Pions] Threshold = 0.240\n"
     ]
    },
    {
     "name": "stderr",
     "output_type": "stream",
     "text": [
      "100%|████████████████████████████████████████████████████████████████████████████████████████████████| 50/50 [00:07<00:00,  7.09it/s]\n"
     ]
    },
    {
     "name": "stdout",
     "output_type": "stream",
     "text": [
      "\n",
      "Model: Threshold 0.240\n",
      "Efficiency: 0.9577 (136 associated CPs out of 142 total CPs)\n",
      "FR: 0.1053 (102 associated Tracksters out of 114 total Tracksters)\n",
      "Num tracksters ratio: 0.8028169014084507\n",
      "\n",
      "[Pions] Threshold = 0.245\n"
     ]
    },
    {
     "name": "stderr",
     "output_type": "stream",
     "text": [
      "100%|████████████████████████████████████████████████████████████████████████████████████████████████| 50/50 [00:07<00:00,  7.07it/s]\n"
     ]
    },
    {
     "name": "stdout",
     "output_type": "stream",
     "text": [
      "\n",
      "Model: Threshold 0.245\n",
      "Efficiency: 0.9577 (136 associated CPs out of 142 total CPs)\n",
      "FR: 0.1053 (102 associated Tracksters out of 114 total Tracksters)\n",
      "Num tracksters ratio: 0.8028169014084507\n",
      "\n",
      "[Pions] Threshold = 0.250\n"
     ]
    },
    {
     "name": "stderr",
     "output_type": "stream",
     "text": [
      "100%|████████████████████████████████████████████████████████████████████████████████████████████████| 50/50 [00:07<00:00,  7.08it/s]\n"
     ]
    },
    {
     "name": "stdout",
     "output_type": "stream",
     "text": [
      "\n",
      "Model: Threshold 0.250\n",
      "Efficiency: 0.9577 (136 associated CPs out of 142 total CPs)\n",
      "FR: 0.1062 (101 associated Tracksters out of 113 total Tracksters)\n",
      "Num tracksters ratio: 0.795774647887324\n",
      "\n",
      "[Pions] Threshold = 0.255\n"
     ]
    },
    {
     "name": "stderr",
     "output_type": "stream",
     "text": [
      "100%|████████████████████████████████████████████████████████████████████████████████████████████████| 50/50 [00:07<00:00,  7.10it/s]\n"
     ]
    },
    {
     "name": "stdout",
     "output_type": "stream",
     "text": [
      "\n",
      "Model: Threshold 0.255\n",
      "Efficiency: 0.9577 (136 associated CPs out of 142 total CPs)\n",
      "FR: 0.1062 (101 associated Tracksters out of 113 total Tracksters)\n",
      "Num tracksters ratio: 0.795774647887324\n",
      "\n",
      "[Pions] Threshold = 0.260\n"
     ]
    },
    {
     "name": "stderr",
     "output_type": "stream",
     "text": [
      "100%|████████████████████████████████████████████████████████████████████████████████████████████████| 50/50 [00:07<00:00,  7.09it/s]\n"
     ]
    },
    {
     "name": "stdout",
     "output_type": "stream",
     "text": [
      "\n",
      "Model: Threshold 0.260\n",
      "Efficiency: 0.9577 (136 associated CPs out of 142 total CPs)\n",
      "FR: 0.1062 (101 associated Tracksters out of 113 total Tracksters)\n",
      "Num tracksters ratio: 0.795774647887324\n",
      "\n",
      "[Pions] Threshold = 0.265\n"
     ]
    },
    {
     "name": "stderr",
     "output_type": "stream",
     "text": [
      "100%|████████████████████████████████████████████████████████████████████████████████████████████████| 50/50 [00:07<00:00,  6.92it/s]\n"
     ]
    },
    {
     "name": "stdout",
     "output_type": "stream",
     "text": [
      "\n",
      "Model: Threshold 0.265\n",
      "Efficiency: 0.9577 (136 associated CPs out of 142 total CPs)\n",
      "FR: 0.1081 (99 associated Tracksters out of 111 total Tracksters)\n",
      "Num tracksters ratio: 0.7816901408450704\n",
      "\n",
      "[Pions] Threshold = 0.270\n"
     ]
    },
    {
     "name": "stderr",
     "output_type": "stream",
     "text": [
      "100%|████████████████████████████████████████████████████████████████████████████████████████████████| 50/50 [00:07<00:00,  7.07it/s]\n"
     ]
    },
    {
     "name": "stdout",
     "output_type": "stream",
     "text": [
      "\n",
      "Model: Threshold 0.270\n",
      "Efficiency: 0.9577 (136 associated CPs out of 142 total CPs)\n",
      "FR: 0.1296 (94 associated Tracksters out of 108 total Tracksters)\n",
      "Num tracksters ratio: 0.7605633802816901\n",
      "\n",
      "[Pions] Threshold = 0.275\n"
     ]
    },
    {
     "name": "stderr",
     "output_type": "stream",
     "text": [
      "100%|████████████████████████████████████████████████████████████████████████████████████████████████| 50/50 [00:07<00:00,  7.02it/s]\n"
     ]
    },
    {
     "name": "stdout",
     "output_type": "stream",
     "text": [
      "\n",
      "Model: Threshold 0.275\n",
      "Efficiency: 0.9648 (137 associated CPs out of 142 total CPs)\n",
      "FR: 0.1308 (93 associated Tracksters out of 107 total Tracksters)\n",
      "Num tracksters ratio: 0.7535211267605634\n",
      "\n",
      "[Pions] Threshold = 0.280\n"
     ]
    },
    {
     "name": "stderr",
     "output_type": "stream",
     "text": [
      "100%|████████████████████████████████████████████████████████████████████████████████████████████████| 50/50 [00:07<00:00,  7.07it/s]\n"
     ]
    },
    {
     "name": "stdout",
     "output_type": "stream",
     "text": [
      "\n",
      "Model: Threshold 0.280\n",
      "Efficiency: 0.9648 (137 associated CPs out of 142 total CPs)\n",
      "FR: 0.1308 (93 associated Tracksters out of 107 total Tracksters)\n",
      "Num tracksters ratio: 0.7535211267605634\n",
      "\n",
      "[Pions] Threshold = 0.285\n"
     ]
    },
    {
     "name": "stderr",
     "output_type": "stream",
     "text": [
      "100%|████████████████████████████████████████████████████████████████████████████████████████████████| 50/50 [00:07<00:00,  6.99it/s]\n"
     ]
    },
    {
     "name": "stdout",
     "output_type": "stream",
     "text": [
      "\n",
      "Model: Threshold 0.285\n",
      "Efficiency: 0.9648 (137 associated CPs out of 142 total CPs)\n",
      "FR: 0.1321 (92 associated Tracksters out of 106 total Tracksters)\n",
      "Num tracksters ratio: 0.7464788732394366\n",
      "\n",
      "[Pions] Threshold = 0.290\n"
     ]
    },
    {
     "name": "stderr",
     "output_type": "stream",
     "text": [
      "100%|████████████████████████████████████████████████████████████████████████████████████████████████| 50/50 [00:07<00:00,  6.98it/s]\n"
     ]
    },
    {
     "name": "stdout",
     "output_type": "stream",
     "text": [
      "\n",
      "Model: Threshold 0.290\n",
      "Efficiency: 0.9718 (138 associated CPs out of 142 total CPs)\n",
      "FR: 0.1333 (91 associated Tracksters out of 105 total Tracksters)\n",
      "Num tracksters ratio: 0.7394366197183099\n",
      "\n",
      "[Pions] Threshold = 0.295\n"
     ]
    },
    {
     "name": "stderr",
     "output_type": "stream",
     "text": [
      "100%|████████████████████████████████████████████████████████████████████████████████████████████████| 50/50 [00:07<00:00,  6.94it/s]\n"
     ]
    },
    {
     "name": "stdout",
     "output_type": "stream",
     "text": [
      "\n",
      "Model: Threshold 0.295\n",
      "Efficiency: 0.9718 (138 associated CPs out of 142 total CPs)\n",
      "FR: 0.1456 (88 associated Tracksters out of 103 total Tracksters)\n",
      "Num tracksters ratio: 0.7253521126760564\n",
      "\n",
      "[Pions] Threshold = 0.300\n"
     ]
    },
    {
     "name": "stderr",
     "output_type": "stream",
     "text": [
      "100%|████████████████████████████████████████████████████████████████████████████████████████████████| 50/50 [00:07<00:00,  6.80it/s]\n"
     ]
    },
    {
     "name": "stdout",
     "output_type": "stream",
     "text": [
      "\n",
      "Model: Threshold 0.300\n",
      "Efficiency: 0.9718 (138 associated CPs out of 142 total CPs)\n",
      "FR: 0.1456 (88 associated Tracksters out of 103 total Tracksters)\n",
      "Num tracksters ratio: 0.7253521126760564\n",
      "\n",
      "[Pions] Threshold = 0.305\n"
     ]
    },
    {
     "name": "stderr",
     "output_type": "stream",
     "text": [
      "100%|████████████████████████████████████████████████████████████████████████████████████████████████| 50/50 [00:07<00:00,  7.08it/s]\n"
     ]
    },
    {
     "name": "stdout",
     "output_type": "stream",
     "text": [
      "\n",
      "Model: Threshold 0.305\n",
      "Efficiency: 0.9718 (138 associated CPs out of 142 total CPs)\n",
      "FR: 0.1569 (86 associated Tracksters out of 102 total Tracksters)\n",
      "Num tracksters ratio: 0.7183098591549296\n",
      "\n",
      "[Pions] Threshold = 0.310\n"
     ]
    },
    {
     "name": "stderr",
     "output_type": "stream",
     "text": [
      "100%|████████████████████████████████████████████████████████████████████████████████████████████████| 50/50 [00:07<00:00,  7.08it/s]\n"
     ]
    },
    {
     "name": "stdout",
     "output_type": "stream",
     "text": [
      "\n",
      "Model: Threshold 0.310\n",
      "Efficiency: 0.9718 (138 associated CPs out of 142 total CPs)\n",
      "FR: 0.1683 (84 associated Tracksters out of 101 total Tracksters)\n",
      "Num tracksters ratio: 0.7112676056338029\n",
      "\n",
      "[Pions] Threshold = 0.315\n"
     ]
    },
    {
     "name": "stderr",
     "output_type": "stream",
     "text": [
      "100%|████████████████████████████████████████████████████████████████████████████████████████████████| 50/50 [00:07<00:00,  7.12it/s]\n"
     ]
    },
    {
     "name": "stdout",
     "output_type": "stream",
     "text": [
      "\n",
      "Model: Threshold 0.315\n",
      "Efficiency: 0.9789 (139 associated CPs out of 142 total CPs)\n",
      "FR: 0.1700 (83 associated Tracksters out of 100 total Tracksters)\n",
      "Num tracksters ratio: 0.704225352112676\n",
      "\n",
      "[Pions] Threshold = 0.320\n"
     ]
    },
    {
     "name": "stderr",
     "output_type": "stream",
     "text": [
      "100%|████████████████████████████████████████████████████████████████████████████████████████████████| 50/50 [00:07<00:00,  7.08it/s]\n"
     ]
    },
    {
     "name": "stdout",
     "output_type": "stream",
     "text": [
      "\n",
      "Model: Threshold 0.320\n",
      "Efficiency: 0.9789 (139 associated CPs out of 142 total CPs)\n",
      "FR: 0.1700 (83 associated Tracksters out of 100 total Tracksters)\n",
      "Num tracksters ratio: 0.704225352112676\n",
      "\n",
      "[Pions] Threshold = 0.325\n"
     ]
    },
    {
     "name": "stderr",
     "output_type": "stream",
     "text": [
      "100%|████████████████████████████████████████████████████████████████████████████████████████████████| 50/50 [00:07<00:00,  7.09it/s]\n"
     ]
    },
    {
     "name": "stdout",
     "output_type": "stream",
     "text": [
      "\n",
      "Model: Threshold 0.325\n",
      "Efficiency: 0.9789 (139 associated CPs out of 142 total CPs)\n",
      "FR: 0.1717 (82 associated Tracksters out of 99 total Tracksters)\n",
      "Num tracksters ratio: 0.6971830985915493\n",
      "\n",
      "[Pions] Threshold = 0.330\n"
     ]
    },
    {
     "name": "stderr",
     "output_type": "stream",
     "text": [
      "100%|████████████████████████████████████████████████████████████████████████████████████████████████| 50/50 [00:07<00:00,  7.01it/s]\n"
     ]
    },
    {
     "name": "stdout",
     "output_type": "stream",
     "text": [
      "\n",
      "Model: Threshold 0.330\n",
      "Efficiency: 0.9789 (139 associated CPs out of 142 total CPs)\n",
      "FR: 0.1717 (82 associated Tracksters out of 99 total Tracksters)\n",
      "Num tracksters ratio: 0.6971830985915493\n",
      "\n",
      "[Pions] Threshold = 0.335\n"
     ]
    },
    {
     "name": "stderr",
     "output_type": "stream",
     "text": [
      "100%|████████████████████████████████████████████████████████████████████████████████████████████████| 50/50 [00:07<00:00,  7.06it/s]\n"
     ]
    },
    {
     "name": "stdout",
     "output_type": "stream",
     "text": [
      "\n",
      "Model: Threshold 0.335\n",
      "Efficiency: 0.9789 (139 associated CPs out of 142 total CPs)\n",
      "FR: 0.1717 (82 associated Tracksters out of 99 total Tracksters)\n",
      "Num tracksters ratio: 0.6971830985915493\n",
      "\n",
      "[Pions] Threshold = 0.340\n"
     ]
    },
    {
     "name": "stderr",
     "output_type": "stream",
     "text": [
      "100%|████████████████████████████████████████████████████████████████████████████████████████████████| 50/50 [00:07<00:00,  7.07it/s]\n"
     ]
    },
    {
     "name": "stdout",
     "output_type": "stream",
     "text": [
      "\n",
      "Model: Threshold 0.340\n",
      "Efficiency: 0.9859 (140 associated CPs out of 142 total CPs)\n",
      "FR: 0.1959 (78 associated Tracksters out of 97 total Tracksters)\n",
      "Num tracksters ratio: 0.6830985915492958\n",
      "\n",
      "[Pions] Threshold = 0.345\n"
     ]
    },
    {
     "name": "stderr",
     "output_type": "stream",
     "text": [
      "100%|████████████████████████████████████████████████████████████████████████████████████████████████| 50/50 [00:07<00:00,  7.06it/s]\n"
     ]
    },
    {
     "name": "stdout",
     "output_type": "stream",
     "text": [
      "\n",
      "Model: Threshold 0.345\n",
      "Efficiency: 0.9859 (140 associated CPs out of 142 total CPs)\n",
      "FR: 0.1979 (77 associated Tracksters out of 96 total Tracksters)\n",
      "Num tracksters ratio: 0.676056338028169\n",
      "\n",
      "[Pions] Threshold = 0.350\n"
     ]
    },
    {
     "name": "stderr",
     "output_type": "stream",
     "text": [
      "100%|████████████████████████████████████████████████████████████████████████████████████████████████| 50/50 [00:07<00:00,  6.97it/s]\n"
     ]
    },
    {
     "name": "stdout",
     "output_type": "stream",
     "text": [
      "\n",
      "Model: Threshold 0.350\n",
      "Efficiency: 0.9859 (140 associated CPs out of 142 total CPs)\n",
      "FR: 0.2105 (75 associated Tracksters out of 95 total Tracksters)\n",
      "Num tracksters ratio: 0.6690140845070423\n",
      "\n",
      "[Pions] Threshold = 0.355\n"
     ]
    },
    {
     "name": "stderr",
     "output_type": "stream",
     "text": [
      "100%|████████████████████████████████████████████████████████████████████████████████████████████████| 50/50 [00:07<00:00,  7.08it/s]\n"
     ]
    },
    {
     "name": "stdout",
     "output_type": "stream",
     "text": [
      "\n",
      "Model: Threshold 0.355\n",
      "Efficiency: 0.9859 (140 associated CPs out of 142 total CPs)\n",
      "FR: 0.2105 (75 associated Tracksters out of 95 total Tracksters)\n",
      "Num tracksters ratio: 0.6690140845070423\n",
      "\n",
      "[Pions] Threshold = 0.360\n"
     ]
    },
    {
     "name": "stderr",
     "output_type": "stream",
     "text": [
      "100%|████████████████████████████████████████████████████████████████████████████████████████████████| 50/50 [00:07<00:00,  7.06it/s]\n"
     ]
    },
    {
     "name": "stdout",
     "output_type": "stream",
     "text": [
      "\n",
      "Model: Threshold 0.360\n",
      "Efficiency: 0.9859 (140 associated CPs out of 142 total CPs)\n",
      "FR: 0.2128 (74 associated Tracksters out of 94 total Tracksters)\n",
      "Num tracksters ratio: 0.6619718309859155\n",
      "\n",
      "[Pions] Threshold = 0.365\n"
     ]
    },
    {
     "name": "stderr",
     "output_type": "stream",
     "text": [
      "100%|████████████████████████████████████████████████████████████████████████████████████████████████| 50/50 [00:07<00:00,  6.87it/s]\n"
     ]
    },
    {
     "name": "stdout",
     "output_type": "stream",
     "text": [
      "\n",
      "Model: Threshold 0.365\n",
      "Efficiency: 0.9859 (140 associated CPs out of 142 total CPs)\n",
      "FR: 0.2128 (74 associated Tracksters out of 94 total Tracksters)\n",
      "Num tracksters ratio: 0.6619718309859155\n",
      "\n",
      "[Pions] Threshold = 0.370\n"
     ]
    },
    {
     "name": "stderr",
     "output_type": "stream",
     "text": [
      "100%|████████████████████████████████████████████████████████████████████████████████████████████████| 50/50 [00:07<00:00,  7.09it/s]\n"
     ]
    },
    {
     "name": "stdout",
     "output_type": "stream",
     "text": [
      "\n",
      "Model: Threshold 0.370\n",
      "Efficiency: 0.9859 (140 associated CPs out of 142 total CPs)\n",
      "FR: 0.2128 (74 associated Tracksters out of 94 total Tracksters)\n",
      "Num tracksters ratio: 0.6619718309859155\n",
      "\n",
      "[Pions] Threshold = 0.375\n"
     ]
    },
    {
     "name": "stderr",
     "output_type": "stream",
     "text": [
      "100%|████████████████████████████████████████████████████████████████████████████████████████████████| 50/50 [00:07<00:00,  7.06it/s]\n"
     ]
    },
    {
     "name": "stdout",
     "output_type": "stream",
     "text": [
      "\n",
      "Model: Threshold 0.375\n",
      "Efficiency: 0.9859 (140 associated CPs out of 142 total CPs)\n",
      "FR: 0.2283 (71 associated Tracksters out of 92 total Tracksters)\n",
      "Num tracksters ratio: 0.647887323943662\n",
      "\n",
      "[Pions] Threshold = 0.380\n"
     ]
    },
    {
     "name": "stderr",
     "output_type": "stream",
     "text": [
      "100%|████████████████████████████████████████████████████████████████████████████████████████████████| 50/50 [00:07<00:00,  7.06it/s]\n"
     ]
    },
    {
     "name": "stdout",
     "output_type": "stream",
     "text": [
      "\n",
      "Model: Threshold 0.380\n",
      "Efficiency: 0.9859 (140 associated CPs out of 142 total CPs)\n",
      "FR: 0.2283 (71 associated Tracksters out of 92 total Tracksters)\n",
      "Num tracksters ratio: 0.647887323943662\n",
      "\n",
      "[Pions] Threshold = 0.385\n"
     ]
    },
    {
     "name": "stderr",
     "output_type": "stream",
     "text": [
      "100%|████████████████████████████████████████████████████████████████████████████████████████████████| 50/50 [00:07<00:00,  7.06it/s]\n"
     ]
    },
    {
     "name": "stdout",
     "output_type": "stream",
     "text": [
      "\n",
      "Model: Threshold 0.385\n",
      "Efficiency: 0.9859 (140 associated CPs out of 142 total CPs)\n",
      "FR: 0.2333 (69 associated Tracksters out of 90 total Tracksters)\n",
      "Num tracksters ratio: 0.6338028169014085\n",
      "\n",
      "[Pions] Threshold = 0.390\n"
     ]
    },
    {
     "name": "stderr",
     "output_type": "stream",
     "text": [
      "100%|████████████████████████████████████████████████████████████████████████████████████████████████| 50/50 [00:07<00:00,  7.05it/s]\n"
     ]
    },
    {
     "name": "stdout",
     "output_type": "stream",
     "text": [
      "\n",
      "Model: Threshold 0.390\n",
      "Efficiency: 0.9859 (140 associated CPs out of 142 total CPs)\n",
      "FR: 0.2333 (69 associated Tracksters out of 90 total Tracksters)\n",
      "Num tracksters ratio: 0.6338028169014085\n",
      "\n",
      "[Pions] Threshold = 0.395\n"
     ]
    },
    {
     "name": "stderr",
     "output_type": "stream",
     "text": [
      "100%|████████████████████████████████████████████████████████████████████████████████████████████████| 50/50 [00:07<00:00,  7.06it/s]\n"
     ]
    },
    {
     "name": "stdout",
     "output_type": "stream",
     "text": [
      "\n",
      "Model: Threshold 0.395\n",
      "Efficiency: 0.9859 (140 associated CPs out of 142 total CPs)\n",
      "FR: 0.2472 (67 associated Tracksters out of 89 total Tracksters)\n",
      "Num tracksters ratio: 0.6267605633802817\n",
      "\n",
      "[Pions] Threshold = 0.400\n"
     ]
    },
    {
     "name": "stderr",
     "output_type": "stream",
     "text": [
      "100%|████████████████████████████████████████████████████████████████████████████████████████████████| 50/50 [00:07<00:00,  7.04it/s]\n"
     ]
    },
    {
     "name": "stdout",
     "output_type": "stream",
     "text": [
      "\n",
      "Model: Threshold 0.400\n",
      "Efficiency: 0.9859 (140 associated CPs out of 142 total CPs)\n",
      "FR: 0.2529 (65 associated Tracksters out of 87 total Tracksters)\n",
      "Num tracksters ratio: 0.6126760563380281\n",
      "\n",
      "[Pions] Threshold = 0.420\n"
     ]
    },
    {
     "name": "stderr",
     "output_type": "stream",
     "text": [
      "100%|████████████████████████████████████████████████████████████████████████████████████████████████| 50/50 [00:07<00:00,  6.83it/s]\n"
     ]
    },
    {
     "name": "stdout",
     "output_type": "stream",
     "text": [
      "\n",
      "Model: Threshold 0.420\n",
      "Efficiency: 0.9859 (140 associated CPs out of 142 total CPs)\n",
      "FR: 0.2674 (63 associated Tracksters out of 86 total Tracksters)\n",
      "Num tracksters ratio: 0.6056338028169014\n",
      "\n",
      "[Pions] Threshold = 0.440\n"
     ]
    },
    {
     "name": "stderr",
     "output_type": "stream",
     "text": [
      "100%|████████████████████████████████████████████████████████████████████████████████████████████████| 50/50 [00:07<00:00,  7.02it/s]\n"
     ]
    },
    {
     "name": "stdout",
     "output_type": "stream",
     "text": [
      "\n",
      "Model: Threshold 0.440\n",
      "Efficiency: 0.9859 (140 associated CPs out of 142 total CPs)\n",
      "FR: 0.2771 (60 associated Tracksters out of 83 total Tracksters)\n",
      "Num tracksters ratio: 0.5845070422535211\n",
      "\n",
      "[Pions] Threshold = 0.460\n"
     ]
    },
    {
     "name": "stderr",
     "output_type": "stream",
     "text": [
      "100%|████████████████████████████████████████████████████████████████████████████████████████████████| 50/50 [00:07<00:00,  7.04it/s]\n"
     ]
    },
    {
     "name": "stdout",
     "output_type": "stream",
     "text": [
      "\n",
      "Model: Threshold 0.460\n",
      "Efficiency: 0.9859 (140 associated CPs out of 142 total CPs)\n",
      "FR: 0.2875 (57 associated Tracksters out of 80 total Tracksters)\n",
      "Num tracksters ratio: 0.5633802816901409\n",
      "\n",
      "[Pions] Threshold = 0.480\n"
     ]
    },
    {
     "name": "stderr",
     "output_type": "stream",
     "text": [
      "100%|████████████████████████████████████████████████████████████████████████████████████████████████| 50/50 [00:07<00:00,  6.97it/s]\n"
     ]
    },
    {
     "name": "stdout",
     "output_type": "stream",
     "text": [
      "\n",
      "Model: Threshold 0.480\n",
      "Efficiency: 0.9859 (140 associated CPs out of 142 total CPs)\n",
      "FR: 0.2911 (56 associated Tracksters out of 79 total Tracksters)\n",
      "Num tracksters ratio: 0.5563380281690141\n",
      "\n",
      "[Pions] Threshold = 0.500\n"
     ]
    },
    {
     "name": "stderr",
     "output_type": "stream",
     "text": [
      "100%|████████████████████████████████████████████████████████████████████████████████████████████████| 50/50 [00:07<00:00,  7.08it/s]\n"
     ]
    },
    {
     "name": "stdout",
     "output_type": "stream",
     "text": [
      "\n",
      "Model: Threshold 0.500\n",
      "Efficiency: 0.9930 (141 associated CPs out of 142 total CPs)\n",
      "FR: 0.3026 (53 associated Tracksters out of 76 total Tracksters)\n",
      "Num tracksters ratio: 0.5352112676056338\n",
      "\n",
      "[Pions] Threshold = 0.520\n"
     ]
    },
    {
     "name": "stderr",
     "output_type": "stream",
     "text": [
      "100%|████████████████████████████████████████████████████████████████████████████████████████████████| 50/50 [00:07<00:00,  7.11it/s]\n"
     ]
    },
    {
     "name": "stdout",
     "output_type": "stream",
     "text": [
      "\n",
      "Model: Threshold 0.520\n",
      "Efficiency: 0.9930 (141 associated CPs out of 142 total CPs)\n",
      "FR: 0.3288 (49 associated Tracksters out of 73 total Tracksters)\n",
      "Num tracksters ratio: 0.5140845070422535\n",
      "\n",
      "[Pions] Threshold = 0.540\n"
     ]
    },
    {
     "name": "stderr",
     "output_type": "stream",
     "text": [
      "100%|████████████████████████████████████████████████████████████████████████████████████████████████| 50/50 [00:07<00:00,  7.11it/s]\n"
     ]
    },
    {
     "name": "stdout",
     "output_type": "stream",
     "text": [
      "\n",
      "Model: Threshold 0.540\n",
      "Efficiency: 0.9930 (141 associated CPs out of 142 total CPs)\n",
      "FR: 0.3676 (43 associated Tracksters out of 68 total Tracksters)\n",
      "Num tracksters ratio: 0.4788732394366197\n",
      "\n",
      "[Pions] Threshold = 0.560\n"
     ]
    },
    {
     "name": "stderr",
     "output_type": "stream",
     "text": [
      "100%|████████████████████████████████████████████████████████████████████████████████████████████████| 50/50 [00:07<00:00,  7.08it/s]\n"
     ]
    },
    {
     "name": "stdout",
     "output_type": "stream",
     "text": [
      "\n",
      "Model: Threshold 0.560\n",
      "Efficiency: 0.9930 (141 associated CPs out of 142 total CPs)\n",
      "FR: 0.4062 (38 associated Tracksters out of 64 total Tracksters)\n",
      "Num tracksters ratio: 0.4507042253521127\n",
      "\n",
      "[Pions] Threshold = 0.580\n"
     ]
    },
    {
     "name": "stderr",
     "output_type": "stream",
     "text": [
      "100%|████████████████████████████████████████████████████████████████████████████████████████████████| 50/50 [00:07<00:00,  7.13it/s]\n"
     ]
    },
    {
     "name": "stdout",
     "output_type": "stream",
     "text": [
      "\n",
      "Model: Threshold 0.580\n",
      "Efficiency: 0.9930 (141 associated CPs out of 142 total CPs)\n",
      "FR: 0.4062 (38 associated Tracksters out of 64 total Tracksters)\n",
      "Num tracksters ratio: 0.4507042253521127\n",
      "\n",
      "[Pions] Threshold = 0.600\n"
     ]
    },
    {
     "name": "stderr",
     "output_type": "stream",
     "text": [
      "100%|████████████████████████████████████████████████████████████████████████████████████████████████| 50/50 [00:07<00:00,  7.04it/s]\n"
     ]
    },
    {
     "name": "stdout",
     "output_type": "stream",
     "text": [
      "\n",
      "Model: Threshold 0.600\n",
      "Efficiency: 0.9930 (141 associated CPs out of 142 total CPs)\n",
      "FR: 0.4333 (34 associated Tracksters out of 60 total Tracksters)\n",
      "Num tracksters ratio: 0.4225352112676056\n",
      "\n",
      "[Pions] Threshold = 0.620\n"
     ]
    },
    {
     "name": "stderr",
     "output_type": "stream",
     "text": [
      "100%|████████████████████████████████████████████████████████████████████████████████████████████████| 50/50 [00:07<00:00,  7.08it/s]\n"
     ]
    },
    {
     "name": "stdout",
     "output_type": "stream",
     "text": [
      "\n",
      "Model: Threshold 0.620\n",
      "Efficiency: 0.9930 (141 associated CPs out of 142 total CPs)\n",
      "FR: 0.4386 (32 associated Tracksters out of 57 total Tracksters)\n",
      "Num tracksters ratio: 0.4014084507042254\n",
      "\n",
      "[Pions] Threshold = 0.640\n"
     ]
    },
    {
     "name": "stderr",
     "output_type": "stream",
     "text": [
      "100%|████████████████████████████████████████████████████████████████████████████████████████████████| 50/50 [00:07<00:00,  7.08it/s]\n"
     ]
    },
    {
     "name": "stdout",
     "output_type": "stream",
     "text": [
      "\n",
      "Model: Threshold 0.640\n",
      "Efficiency: 0.9930 (141 associated CPs out of 142 total CPs)\n",
      "FR: 0.4286 (32 associated Tracksters out of 56 total Tracksters)\n",
      "Num tracksters ratio: 0.39436619718309857\n",
      "\n",
      "[Pions] Threshold = 0.660\n"
     ]
    },
    {
     "name": "stderr",
     "output_type": "stream",
     "text": [
      "100%|████████████████████████████████████████████████████████████████████████████████████████████████| 50/50 [00:07<00:00,  7.08it/s]\n"
     ]
    },
    {
     "name": "stdout",
     "output_type": "stream",
     "text": [
      "\n",
      "Model: Threshold 0.660\n",
      "Efficiency: 0.9930 (141 associated CPs out of 142 total CPs)\n",
      "FR: 0.4286 (32 associated Tracksters out of 56 total Tracksters)\n",
      "Num tracksters ratio: 0.39436619718309857\n",
      "\n",
      "[Pions] Threshold = 0.680\n"
     ]
    },
    {
     "name": "stderr",
     "output_type": "stream",
     "text": [
      "100%|████████████████████████████████████████████████████████████████████████████████████████████████| 50/50 [00:07<00:00,  7.08it/s]\n"
     ]
    },
    {
     "name": "stdout",
     "output_type": "stream",
     "text": [
      "\n",
      "Model: Threshold 0.680\n",
      "Efficiency: 0.9930 (141 associated CPs out of 142 total CPs)\n",
      "FR: 0.4286 (32 associated Tracksters out of 56 total Tracksters)\n",
      "Num tracksters ratio: 0.39436619718309857\n",
      "\n",
      "[Pions] Threshold = 0.700\n"
     ]
    },
    {
     "name": "stderr",
     "output_type": "stream",
     "text": [
      "100%|████████████████████████████████████████████████████████████████████████████████████████████████| 50/50 [00:07<00:00,  7.07it/s]\n"
     ]
    },
    {
     "name": "stdout",
     "output_type": "stream",
     "text": [
      "\n",
      "Model: Threshold 0.700\n",
      "Efficiency: 0.9930 (141 associated CPs out of 142 total CPs)\n",
      "FR: 0.4286 (32 associated Tracksters out of 56 total Tracksters)\n",
      "Num tracksters ratio: 0.39436619718309857\n",
      "\n",
      "[Pions] Threshold = 0.720\n"
     ]
    },
    {
     "name": "stderr",
     "output_type": "stream",
     "text": [
      "100%|████████████████████████████████████████████████████████████████████████████████████████████████| 50/50 [00:07<00:00,  7.08it/s]\n"
     ]
    },
    {
     "name": "stdout",
     "output_type": "stream",
     "text": [
      "\n",
      "Model: Threshold 0.720\n",
      "Efficiency: 1.0000 (142 associated CPs out of 142 total CPs)\n",
      "FR: 0.4364 (31 associated Tracksters out of 55 total Tracksters)\n",
      "Num tracksters ratio: 0.3873239436619718\n",
      "\n",
      "[Pions] Threshold = 0.740\n"
     ]
    },
    {
     "name": "stderr",
     "output_type": "stream",
     "text": [
      "100%|████████████████████████████████████████████████████████████████████████████████████████████████| 50/50 [00:07<00:00,  7.08it/s]\n"
     ]
    },
    {
     "name": "stdout",
     "output_type": "stream",
     "text": [
      "\n",
      "Model: Threshold 0.740\n",
      "Efficiency: 1.0000 (142 associated CPs out of 142 total CPs)\n",
      "FR: 0.4444 (30 associated Tracksters out of 54 total Tracksters)\n",
      "Num tracksters ratio: 0.38028169014084506\n",
      "\n",
      "[Pions] Threshold = 0.760\n"
     ]
    },
    {
     "name": "stderr",
     "output_type": "stream",
     "text": [
      "100%|████████████████████████████████████████████████████████████████████████████████████████████████| 50/50 [00:07<00:00,  6.88it/s]\n"
     ]
    },
    {
     "name": "stdout",
     "output_type": "stream",
     "text": [
      "\n",
      "Model: Threshold 0.760\n",
      "Efficiency: 1.0000 (142 associated CPs out of 142 total CPs)\n",
      "FR: 0.4717 (28 associated Tracksters out of 53 total Tracksters)\n",
      "Num tracksters ratio: 0.3732394366197183\n",
      "\n",
      "[Pions] Threshold = 0.780\n"
     ]
    },
    {
     "name": "stderr",
     "output_type": "stream",
     "text": [
      "100%|████████████████████████████████████████████████████████████████████████████████████████████████| 50/50 [00:07<00:00,  7.14it/s]\n"
     ]
    },
    {
     "name": "stdout",
     "output_type": "stream",
     "text": [
      "\n",
      "Model: Threshold 0.780\n",
      "Efficiency: 1.0000 (142 associated CPs out of 142 total CPs)\n",
      "FR: 0.4717 (28 associated Tracksters out of 53 total Tracksters)\n",
      "Num tracksters ratio: 0.3732394366197183\n",
      "\n",
      "[Pions] Threshold = 0.800\n"
     ]
    },
    {
     "name": "stderr",
     "output_type": "stream",
     "text": [
      "100%|████████████████████████████████████████████████████████████████████████████████████████████████| 50/50 [00:07<00:00,  7.09it/s]\n"
     ]
    },
    {
     "name": "stdout",
     "output_type": "stream",
     "text": [
      "\n",
      "Model: Threshold 0.800\n",
      "Efficiency: 1.0000 (142 associated CPs out of 142 total CPs)\n",
      "FR: 0.5098 (25 associated Tracksters out of 51 total Tracksters)\n",
      "Num tracksters ratio: 0.3591549295774648\n",
      "\n",
      "[Pions] Threshold = 0.820\n"
     ]
    },
    {
     "name": "stderr",
     "output_type": "stream",
     "text": [
      "100%|████████████████████████████████████████████████████████████████████████████████████████████████| 50/50 [00:07<00:00,  7.02it/s]\n"
     ]
    },
    {
     "name": "stdout",
     "output_type": "stream",
     "text": [
      "\n",
      "Model: Threshold 0.820\n",
      "Efficiency: 1.0000 (142 associated CPs out of 142 total CPs)\n",
      "FR: 0.5200 (24 associated Tracksters out of 50 total Tracksters)\n",
      "Num tracksters ratio: 0.352112676056338\n",
      "\n",
      "[Pions] Threshold = 0.840\n"
     ]
    },
    {
     "name": "stderr",
     "output_type": "stream",
     "text": [
      "100%|████████████████████████████████████████████████████████████████████████████████████████████████| 50/50 [00:07<00:00,  7.06it/s]\n"
     ]
    },
    {
     "name": "stdout",
     "output_type": "stream",
     "text": [
      "\n",
      "Model: Threshold 0.840\n",
      "Efficiency: 1.0000 (142 associated CPs out of 142 total CPs)\n",
      "FR: 0.5200 (24 associated Tracksters out of 50 total Tracksters)\n",
      "Num tracksters ratio: 0.352112676056338\n",
      "\n",
      "[Pions] Threshold = 0.860\n"
     ]
    },
    {
     "name": "stderr",
     "output_type": "stream",
     "text": [
      "100%|████████████████████████████████████████████████████████████████████████████████████████████████| 50/50 [00:07<00:00,  7.02it/s]\n"
     ]
    },
    {
     "name": "stdout",
     "output_type": "stream",
     "text": [
      "\n",
      "Model: Threshold 0.860\n",
      "Efficiency: 1.0000 (142 associated CPs out of 142 total CPs)\n",
      "FR: 0.5200 (24 associated Tracksters out of 50 total Tracksters)\n",
      "Num tracksters ratio: 0.352112676056338\n",
      "\n",
      "[Pions] Threshold = 0.880\n"
     ]
    },
    {
     "name": "stderr",
     "output_type": "stream",
     "text": [
      "100%|████████████████████████████████████████████████████████████████████████████████████████████████| 50/50 [00:07<00:00,  7.01it/s]\n"
     ]
    },
    {
     "name": "stdout",
     "output_type": "stream",
     "text": [
      "\n",
      "Model: Threshold 0.880\n",
      "Efficiency: 1.0000 (142 associated CPs out of 142 total CPs)\n",
      "FR: 0.5200 (24 associated Tracksters out of 50 total Tracksters)\n",
      "Num tracksters ratio: 0.352112676056338\n",
      "\n",
      "[Pions] Threshold = 0.900\n"
     ]
    },
    {
     "name": "stderr",
     "output_type": "stream",
     "text": [
      "100%|████████████████████████████████████████████████████████████████████████████████████████████████| 50/50 [00:07<00:00,  6.81it/s]\n"
     ]
    },
    {
     "name": "stdout",
     "output_type": "stream",
     "text": [
      "\n",
      "Model: Threshold 0.900\n",
      "Efficiency: 1.0000 (142 associated CPs out of 142 total CPs)\n",
      "FR: 0.5200 (24 associated Tracksters out of 50 total Tracksters)\n",
      "Num tracksters ratio: 0.352112676056338\n",
      "\n",
      "[Pions] Threshold = 0.920\n"
     ]
    },
    {
     "name": "stderr",
     "output_type": "stream",
     "text": [
      "100%|████████████████████████████████████████████████████████████████████████████████████████████████| 50/50 [00:07<00:00,  7.05it/s]\n"
     ]
    },
    {
     "name": "stdout",
     "output_type": "stream",
     "text": [
      "\n",
      "Model: Threshold 0.920\n",
      "Efficiency: 1.0000 (142 associated CPs out of 142 total CPs)\n",
      "FR: 0.5200 (24 associated Tracksters out of 50 total Tracksters)\n",
      "Num tracksters ratio: 0.352112676056338\n",
      "\n",
      "[Pions] Threshold = 0.940\n"
     ]
    },
    {
     "name": "stderr",
     "output_type": "stream",
     "text": [
      "100%|████████████████████████████████████████████████████████████████████████████████████████████████| 50/50 [00:07<00:00,  7.09it/s]\n"
     ]
    },
    {
     "name": "stdout",
     "output_type": "stream",
     "text": [
      "\n",
      "Model: Threshold 0.940\n",
      "Efficiency: 1.0000 (142 associated CPs out of 142 total CPs)\n",
      "FR: 0.5200 (24 associated Tracksters out of 50 total Tracksters)\n",
      "Num tracksters ratio: 0.352112676056338\n",
      "\n",
      "[Pions] Threshold = 0.960\n"
     ]
    },
    {
     "name": "stderr",
     "output_type": "stream",
     "text": [
      "100%|████████████████████████████████████████████████████████████████████████████████████████████████| 50/50 [00:07<00:00,  7.04it/s]\n"
     ]
    },
    {
     "name": "stdout",
     "output_type": "stream",
     "text": [
      "\n",
      "Model: Threshold 0.960\n",
      "Efficiency: 1.0000 (142 associated CPs out of 142 total CPs)\n",
      "FR: 0.5200 (24 associated Tracksters out of 50 total Tracksters)\n",
      "Num tracksters ratio: 0.352112676056338\n",
      "\n",
      "[Pions] Threshold = 0.980\n"
     ]
    },
    {
     "name": "stderr",
     "output_type": "stream",
     "text": [
      "100%|████████████████████████████████████████████████████████████████████████████████████████████████| 50/50 [00:07<00:00,  6.99it/s]\n"
     ]
    },
    {
     "name": "stdout",
     "output_type": "stream",
     "text": [
      "\n",
      "Model: Threshold 0.980\n",
      "Efficiency: 1.0000 (142 associated CPs out of 142 total CPs)\n",
      "FR: 0.5200 (24 associated Tracksters out of 50 total Tracksters)\n",
      "Num tracksters ratio: 0.352112676056338\n",
      "\n",
      "[Pions] Threshold = 1.000\n"
     ]
    },
    {
     "name": "stderr",
     "output_type": "stream",
     "text": [
      "100%|████████████████████████████████████████████████████████████████████████████████████████████████| 50/50 [00:07<00:00,  7.02it/s]"
     ]
    },
    {
     "name": "stdout",
     "output_type": "stream",
     "text": [
      "\n",
      "Model: Threshold 1.000\n",
      "Efficiency: 1.0000 (142 associated CPs out of 142 total CPs)\n",
      "FR: 0.5200 (24 associated Tracksters out of 50 total Tracksters)\n",
      "Num tracksters ratio: 0.352112676056338\n"
     ]
    },
    {
     "name": "stderr",
     "output_type": "stream",
     "text": [
      "\n"
     ]
    }
   ],
   "source": [
    "all_predictions_P = []\n",
    "for i, data in enumerate(P_loader):  # P_loader => DataLoader for pion data\n",
    "    pred = model(data.x, data.x_batch)\n",
    "    all_predictions_P.append(pred[0].detach().cpu().numpy())\n",
    "all_predictions_P = np.array(all_predictions_P)\n",
    "efficiencies_P, fakerates_P, ratio_P = [], [], []\n",
    "# ---------------------------------------------------------\n",
    "# 5) Loop over thresholds and compute metrics for pions\n",
    "# ---------------------------------------------------------\n",
    "for t in threshold_values:\n",
    "    print(f\"\\n[Pions] Threshold = {t:.3f}\")\n",
    "    \n",
    "    # --- 5.1 Cluster using your Aggloremative function (or other) ---\n",
    "    all_cluster_labels_P = Aggloremative(all_predictions_P, threshold=t)\n",
    "    \n",
    "    # --- 5.2 Reconstruct tracksters ---\n",
    "    recon_ind_P = []\n",
    "    for event_idx, labels in enumerate(all_cluster_labels_P):\n",
    "        event_clusters = {}\n",
    "        for cluster_idx, cluster_label in enumerate(labels):\n",
    "            if cluster_label not in event_clusters:\n",
    "                event_clusters[cluster_label] = []\n",
    "            # Use the flattened pion index arrays\n",
    "            event_clusters[cluster_label].append(\n",
    "                ak.flatten(data_P.stsCP_vertices_indexes[event_idx])[cluster_idx]\n",
    "            )\n",
    "        # Convert the dict of lists into a list-of-lists\n",
    "        recon_ind_P.append([event_clusters[label] for label in sorted(event_clusters.keys())])\n",
    "    recon_ind_P = ak.Array(recon_ind_P)\n",
    "    \n",
    "    # --- 5.3 Calculate event scores ---\n",
    "    # Use your *filtered* GT arrays and energies for pions\n",
    "    df_CL_temp_P = calculate_all_event_scores(\n",
    "        GT_ind_filt_P, \n",
    "        GT_mult_filt_P, \n",
    "        energies_Pp, \n",
    "        recon_ind_P, \n",
    "        num_events=50  # using 50 events\n",
    "    )\n",
    "    \n",
    "    # --- 5.4 Compute metrics and store in lists ---\n",
    "    metrics_P = calculate_metrics(df_CL_temp_P, f\"Threshold {t:.3f}\")\n",
    "    efficiencies_P.append(metrics_P['efficiency'])\n",
    "    fakerates_P.append(1.0 - metrics_P['purity'])  \n",
    "    ratio_P.append(metrics_P['Num_tracksters_ratio'])\n",
    "\n",
    "# ---------------------------------------------------------\n",
    "# 6) Build separate DataFrames for electrons and pions\n",
    "# ---------------------------------------------------------\n",
    "\n",
    "\n",
    "df_pions = pd.DataFrame({\n",
    "    'threshold': threshold_values,\n",
    "    'efficiency': efficiencies_P,\n",
    "    'fake_rate': fakerates_P,\n",
    "    'num_tracksters_ratio': ratio_P,\n",
    "})"
   ]
  },
  {
   "cell_type": "code",
   "execution_count": 75,
   "id": "9a66ac06",
   "metadata": {},
   "outputs": [
    {
     "name": "stdout",
     "output_type": "stream",
     "text": [
      "2\n",
      "2\n"
     ]
    }
   ],
   "source": [
    "print(len(GT_ind_filt_P[34]))\n",
    "print(len(GT_mult_filt_P[34]))"
   ]
  },
  {
   "cell_type": "code",
   "execution_count": 57,
   "id": "d20aeda6",
   "metadata": {},
   "outputs": [],
   "source": [
    "df_electrons = pd.DataFrame({\n",
    "    'threshold': threshold_values,\n",
    "    'efficiency': efficiencies_E,\n",
    "    'fake_rate': fakerates_E,\n",
    "    'num_tracksters_ratio': ratio_E,\n",
    "})"
   ]
  },
  {
   "cell_type": "code",
   "execution_count": 91,
   "id": "ef5003fe",
   "metadata": {},
   "outputs": [
    {
     "data": {
      "image/png": "[encoded data removed]",
      "text/plain": [
       "<Figure size 576x432 with 1 Axes>"
      ]
     },
     "metadata": {
      "needs_background": "light"
     },
     "output_type": "display_data"
    }
   ],
   "source": [
    "import numpy as np\n",
    "import matplotlib.pyplot as plt\n",
    "\n",
    "# Ensure the DataFrames are sorted by threshold.\n",
    "df_e_sorted = df_electrons.sort_values('threshold').reset_index(drop=True)\n",
    "df_p_sorted = df_pions.sort_values('threshold').reset_index(drop=True)\n",
    "\n",
    "# Extract arrays for electrons.\n",
    "fake_rate_e   = df_e_sorted['fake_rate'].values\n",
    "efficiency_e  = df_e_sorted['efficiency'].values\n",
    "threshold_e   = df_e_sorted['threshold'].values\n",
    "ratio_e       = df_e_sorted['num_tracksters_ratio'].values  # New column for ratio\n",
    "\n",
    "# Extract arrays for pions.\n",
    "fake_rate_p   = df_p_sorted['fake_rate'].values\n",
    "efficiency_p  = df_p_sorted['efficiency'].values\n",
    "threshold_p   = df_p_sorted['threshold'].values\n",
    "ratio_p       = df_p_sorted['num_tracksters_ratio'].values  # New column for ratio\n",
    "\n",
    "plt.figure(figsize=(8, 6))\n",
    "\n",
    "# Plot the curves for electrons and pions using only lines.\n",
    "plt.plot(fake_rate_e, efficiency_e, '-', color='blue', label='Electrons')\n",
    "plt.plot(fake_rate_p, efficiency_p, '-', color='red', label='Pions')\n",
    "\n",
    "# Compute the Euclidean distances from each point to (0, 1).\n",
    "distances_e = np.sqrt((fake_rate_e - 0)**2 + (efficiency_e - 1)**2)\n",
    "distances_p = np.sqrt((fake_rate_p - 0)**2 + (efficiency_p - 1)**2)\n",
    "\n",
    "# Define a combined metric: distance plus the absolute difference of the ratio from 1.\n",
    "combined_metric_e = distances_e + np.abs(ratio_e - 1)\n",
    "combined_metric_p = distances_p + np.abs(ratio_p - 1)\n",
    "\n",
    "# Select the optimal index for electrons and pions using the combined metric.\n",
    "min_index_e = np.argmin(combined_metric_e)\n",
    "optimal_threshold_e = threshold_e[min_index_e]\n",
    "\n",
    "min_index_p = np.argmin(combined_metric_p)\n",
    "optimal_threshold_p = threshold_p[min_index_p]\n",
    "\n",
    "# Annotate the optimal point for electrons.\n",
    "plt.annotate(f\"T = {optimal_threshold_e:.2f}\",\n",
    "             (fake_rate_e[min_index_e], efficiency_e[min_index_e]),\n",
    "             textcoords=\"offset points\", xytext=(5, 5),\n",
    "             color='blue', fontsize=10, fontweight='bold')\n",
    "\n",
    "# Annotate the optimal point for pions.\n",
    "plt.annotate(f\"T = {optimal_threshold_p:.2f}\",\n",
    "             (fake_rate_p[min_index_p], efficiency_p[min_index_p]),\n",
    "             textcoords=\"offset points\", xytext=(5, 5),\n",
    "             color='red', fontsize=10, fontweight='bold')\n",
    "\n",
    "\n",
    "\n",
    "plt.xlabel(\"Fake Rate\")\n",
    "plt.ylabel(\"Efficiency\")\n",
    "plt.title(\"Efficiency vs. Fake Rate\\n(Optimal Thresholds Annotated with Combined Metric)\")\n",
    "plt.legend()\n",
    "plt.show()\n"
   ]
  },
  {
   "cell_type": "code",
   "execution_count": null,
   "id": "7900bdc5",
   "metadata": {},
   "outputs": [],
   "source": []
  }
 ],
 "metadata": {
  "kernelspec": {
   "display_name": "Python 3 (ipykernel)",
   "language": "python",
   "name": "python3"
  },
  "language_info": {
   "codemirror_mode": {
    "name": "ipython",
    "version": 3
   },
   "file_extension": ".py",
   "mimetype": "text/x-python",
   "name": "python",
   "nbconvert_exporter": "python",
   "pygments_lexer": "ipython3",
   "version": "3.9.12"
  }
 },
 "nbformat": 4,
 "nbformat_minor": 5
}
