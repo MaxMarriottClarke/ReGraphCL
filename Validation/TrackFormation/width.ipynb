{
 "cells": [
  {
   "cell_type": "code",
   "execution_count": 3,
   "id": "9c0bd4cd",
   "metadata": {},
   "outputs": [],
   "source": [
    "#0: imports\n",
    "\n",
    "import uproot \n",
    "import numpy as np\n",
    "import pandas as pd\n",
    "import matplotlib.pyplot as plt\n",
    "import torch\n",
    "\n",
    "from imports.data import CCV3\n",
    "from torch_geometric.data import DataLoader \n",
    "\n",
    "from torch_geometric.nn import knn_graph\n",
    "\n",
    "import numpy as np\n",
    "import awkward as ak\n",
    "import time\n",
    "from imports.Agglomerative import Aggloremative\n",
    "\n",
    "import warnings\n",
    "warnings.filterwarnings(\"ignore\", category=np.VisibleDeprecationWarning)"
   ]
  },
  {
   "cell_type": "code",
   "execution_count": 20,
   "id": "74f646ac",
   "metadata": {},
   "outputs": [
    {
     "name": "stdout",
     "output_type": "stream",
     "text": [
      "### Loading data\n"
     ]
    },
    {
     "name": "stderr",
     "output_type": "stream",
     "text": [
      "  0%|                                                     | 0/1 [01:19<?, ?it/s]"
     ]
    },
    {
     "name": "stdout",
     "output_type": "stream",
     "text": [
      "Reached 1000!\n"
     ]
    },
    {
     "name": "stderr",
     "output_type": "stream",
     "text": [
      "\n"
     ]
    }
   ],
   "source": [
    "testpath = '/vols/cms/mm1221/Data/mix/test/'\n",
    "# Load test data\n",
    "data_test = CCV3(testpath, max_events=1000)\n",
    "test_loader = DataLoader(data_test, batch_size=1, shuffle=False, follow_batch=['x'])\n"
   ]
  },
  {
   "cell_type": "code",
   "execution_count": 22,
   "id": "386670b7",
   "metadata": {},
   "outputs": [],
   "source": [
    "v_eta = data_test.stsCP_vertices_eta\n",
    "v_phi = data_test.stsCP_vertices_phi"
   ]
  },
  {
   "cell_type": "code",
   "execution_count": 17,
   "id": "9f6b1d4c",
   "metadata": {},
   "outputs": [],
   "source": [
    "data_path = '/vols/cms/mm1221/Data/mix/test/raw/test.root' \n",
    "data_file = uproot.open(data_path)\n",
    "LC_x = data_file['clusters']['position_x'].array()\n",
    "pgid = data_file['simtrackstersCP']['pdgID'].array()\n",
    "skim_mask = []\n",
    "for e in LC_x:\n",
    "    if 1 <= len(e):\n",
    "        skim_mask.append(True)\n",
    "    else:\n",
    "        skim_mask.append(False)\n",
    "        \n",
    "pgid = pgid[skim_mask]"
   ]
  },
  {
   "cell_type": "code",
   "execution_count": 18,
   "id": "12a08c4c",
   "metadata": {},
   "outputs": [
    {
     "name": "stdout",
     "output_type": "stream",
     "text": [
      "[211, 211]\n"
     ]
    }
   ],
   "source": [
    "print(pgid[0])"
   ]
  },
  {
   "cell_type": "code",
   "execution_count": 23,
   "id": "7a37dffb",
   "metadata": {},
   "outputs": [
    {
     "name": "stdout",
     "output_type": "stream",
     "text": [
      "Pions     (N=3035):     mean = 0.1418, std = 0.2478\n",
      "Electrons (N=2934): mean = 0.1138, std = 0.2295\n"
     ]
    }
   ],
   "source": [
    "import numpy as np\n",
    "\n",
    "# v_eta, v_phi: lists of events → list of particles → array of η (or φ)\n",
    "# pgid:      lists of events → list of particles → PDG ID (211 or 11)\n",
    "\n",
    "pion_widths     = []\n",
    "electron_widths = []\n",
    "\n",
    "for event_eta, event_phi, event_pgid in zip(v_eta, v_phi, pgid):\n",
    "    for eta_vals, phi_vals, pid in zip(event_eta, event_phi, event_pgid):\n",
    "        # compute centroids\n",
    "        eta0 = np.mean(eta_vals)\n",
    "        phi0 = np.mean(phi_vals)\n",
    "\n",
    "        # eta deviations\n",
    "        d_eta = eta_vals - eta0\n",
    "        # phi deviations, wrapped into [-π, π)\n",
    "        d_phi = ((phi_vals - phi0 + np.pi) % (2*np.pi)) - np.pi\n",
    "\n",
    "        # per-hit ΔR²\n",
    "        dr2 = d_eta**2 + d_phi**2\n",
    "\n",
    "        # cluster width = sqrt(mean of ΔR²)\n",
    "        w = np.sqrt(np.mean(dr2))\n",
    "\n",
    "        # classify by PDG ID\n",
    "        if pid == 211:\n",
    "            pion_widths.append(w)\n",
    "        elif pid == 11:\n",
    "            electron_widths.append(w)\n",
    "        # else: ignore other PIDs if any\n",
    "\n",
    "# convert to arrays for stats\n",
    "pion_widths     = np.array(pion_widths)\n",
    "electron_widths = np.array(electron_widths)\n",
    "\n",
    "# compute mean and sample std (ddof=1)\n",
    "mean_pion     = pion_widths.mean()\n",
    "std_pion      = pion_widths.std(ddof=1)\n",
    "mean_electron = electron_widths.mean()\n",
    "std_electron  = electron_widths.std(ddof=1)\n",
    "\n",
    "print(f\"Pions     (N={len(pion_widths)}):     mean = {mean_pion:.4f}, std = {std_pion:.4f}\")\n",
    "print(f\"Electrons (N={len(electron_widths)}): mean = {mean_electron:.4f}, std = {std_electron:.4f}\")\n"
   ]
  },
  {
   "cell_type": "code",
   "execution_count": null,
   "id": "1b252cdd",
   "metadata": {},
   "outputs": [],
   "source": []
  }
 ],
 "metadata": {
  "kernelspec": {
   "display_name": "Python 3 (ipykernel)",
   "language": "python",
   "name": "python3"
  },
  "language_info": {
   "codemirror_mode": {
    "name": "ipython",
    "version": 3
   },
   "file_extension": ".py",
   "mimetype": "text/x-python",
   "name": "python",
   "nbconvert_exporter": "python",
   "pygments_lexer": "ipython3",
   "version": "3.9.12"
  }
 },
 "nbformat": 4,
 "nbformat_minor": 5
}
